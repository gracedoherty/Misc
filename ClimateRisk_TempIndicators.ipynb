{
 "cells": [
  {
   "cell_type": "markdown",
   "id": "7a0190f8",
   "metadata": {},
   "source": [
    "## 0. PSEUDOCODE / OVERVIEW"
   ]
  },
  {
   "cell_type": "markdown",
   "id": "e9093fd6",
   "metadata": {},
   "source": [
    "##### Prep data\n",
    "Merge countries' hazard impact vectors into one gdf.\n",
    "\n",
    "##### Spatial join to project ADMs\n",
    "Get centroids of hazard gdf.\n",
    "<br> For each ADM, spatial join ADM with centroids (contains).\n",
    "\n",
    "##### Combine into dataframe\n",
    "Provide unique field names.\n",
    "<br> Table join on ADM3 code."
   ]
  },
  {
   "cell_type": "markdown",
   "id": "9276b447",
   "metadata": {},
   "source": [
    "## 1. PREPARE WORKSPACE"
   ]
  },
  {
   "cell_type": "markdown",
   "id": "6b2a2548",
   "metadata": {},
   "source": [
    "### 1.1 Load all packages."
   ]
  },
  {
   "cell_type": "code",
   "execution_count": null,
   "id": "e34dc545",
   "metadata": {},
   "outputs": [],
   "source": [
    "# Built-in:\n",
    "# dir(), print(), range(), format(), int(), len(), list(), max(), min(), zip(), sorted(), sum(), open(), del, = None, try except, with as, for in, if elif else\n",
    "# Also: list.append(), list.insert(), list.remove(), count(), startswith(), endswith(), contains(), replace()\n",
    "\n",
    "import os, sys, glob, re, time, subprocess, string # os.getcwd(), os.path.join(), os.listdir(), os.remove(), time.ctime(), glob.glob(), string.zfill(), string.join()\n",
    "from os.path import exists # exists()\n",
    "from functools import reduce # reduce()\n",
    "\n",
    "import geopandas as gpd # read_file(), GeoDataFrame(), sjoin_nearest(), to_crs(), to_file(), .crs, buffer(), dissolve()\n",
    "import pandas as pd # .dtypes, Series(), concat(), DataFrame(), read_table(), merge(), to_csv(), .loc[], head(), sample(), astype(), unique(), rename(), between(), drop(), fillna(), idxmax(), isna(), isin(), apply(), info(), sort_values(), notna(), groupby(), value_counts(), duplicated(), drop_duplicates()\n",
    "from shapely.geometry import Point, LineString, Polygon, shape, MultiPoint\n",
    "from shapely.ops import cascaded_union\n",
    "from shapely.validation import make_valid  # in apply(make_valid)\n",
    "import shapely.wkt\n",
    "\n",
    "import numpy as np # median(), mean(), tolist(), .inf\n",
    "import fiona, rioxarray # fiona.open()\n",
    "import rasterio # open(), write_band(), .name, .count, .width, .height. nodatavals, .meta, update(), copy(), write()\n",
    "from rasterio.plot import show\n",
    "from rasterio import features # features.rasterize()\n",
    "from rasterio.features import shapes\n",
    "from rasterio import mask # rasterio.mask.mask()\n",
    "from rasterio.enums import Resampling # rasterio.enums.Resampling()\n",
    "from rasterstats import zonal_stats\n",
    "from osgeo import gdal, osr, ogr, gdal_array, gdalconst # Open(), SpatialReference, WarpOptions(), Warp(), GetDataTypeName(), GetRasterBand(), GetNoDataValue(), Translate(), GetProjection(), GetAttrValue()"
   ]
  },
  {
   "cell_type": "code",
   "execution_count": null,
   "id": "00c74225",
   "metadata": {
    "scrolled": true
   },
   "outputs": [],
   "source": [
    "# The usual directories\n",
    "Project_Fd = os.getcwd()\n",
    "Current_Fd = os.path.join(Project_Fd, 'Hazard')\n",
    "Source_Fd = os.path.join(Current_Fd, 'Source', '2022')\n",
    "Intermed_Fd = os.path.join(Current_Fd, 'Intermediate')\n",
    "\n",
    "# Auxilliary sources\n",
    "ADM_Fd = os.path.join(Project_Fd, 'ADM')\n",
    "ADM_gpkg = os.path.join(ADM_Fd, 'Sahel_AdminBoundaries.gpkg')\n",
    "CCDR_Fd = 'Q:\\GIS\\povertyequity\\CCDR'\n",
    "\n",
    "# Check paths\n",
    "print('\\n\\n'.join([Project_Fd, Current_Fd, Source_Fd, Intermed_Fd, CCDR_Fd, ADM_Fd, ADM_gpkg]))"
   ]
  },
  {
   "cell_type": "markdown",
   "id": "ee6aab87",
   "metadata": {},
   "source": [
    "## 2. PREP ADMIN LAYERS"
   ]
  },
  {
   "cell_type": "markdown",
   "id": "d8580938",
   "metadata": {},
   "source": [
    "### 2.1 CCDR-to-PTI dictionary"
   ]
  },
  {
   "cell_type": "markdown",
   "id": "ff128020",
   "metadata": {},
   "source": [
    "Note: this dictionary was made manually in QGIS based on admin boundary alignments between the incongruent admin area datasets.\n",
    "\n",
    "CCDR admin area count: (remember that one country is missing in each admin set)\n",
    "<br>ADM2: 182\n",
    "<br>ADM3: 1318\n",
    "\n",
    "PTI admin area count:\n",
    "<br>ADM2: 275\n",
    "<br>ADM3: 1433"
   ]
  },
  {
   "cell_type": "markdown",
   "id": "f6a5b3e3",
   "metadata": {},
   "source": [
    "#### CCDR-PTI dictionary"
   ]
  },
  {
   "cell_type": "code",
   "execution_count": null,
   "id": "08419bd0",
   "metadata": {
    "scrolled": true
   },
   "outputs": [],
   "source": [
    "CCDR_ADM2 = pd.DataFrame(gpd.read_file(\n",
    "    os.path.join(Intermed_Fd, 'CCDR_PTI_dict.gpkg'), layer='ADM2'))\n",
    "\n",
    "CCDR_ADM3 = pd.DataFrame(gpd.read_file(\n",
    "    os.path.join(Intermed_Fd, 'CCDR_PTI_dict.gpkg'), layer='ADM3')).drop(columns=['fid', 'CCDR'])\n",
    "\n",
    "print(CCDR_ADM2.info(), CCDR_ADM3.info(), '\\n\\n', CCDR_ADM2.sample(10), '\\n\\n', CCDR_ADM3.sample(10))"
   ]
  },
  {
   "cell_type": "markdown",
   "id": "b7679f0f",
   "metadata": {},
   "source": [
    "#### Pivot longer: ADM2"
   ]
  },
  {
   "cell_type": "code",
   "execution_count": null,
   "id": "2799d05c",
   "metadata": {},
   "outputs": [],
   "source": [
    "Dict_ADM2 = pd.melt(CCDR_ADM2, id_vars=['CCDR_ID'], value_vars=[col for col in CCDR_ADM2 if col.startswith('ADM2')], \n",
    "                    value_name='PTI_ID')\n",
    "Dict_ADM2 = Dict_ADM2.loc[Dict_ADM2['PTI_ID'].notnull()][['CCDR_ID', 'PTI_ID']]\n",
    "Dict_ADM2"
   ]
  },
  {
   "cell_type": "code",
   "execution_count": null,
   "id": "4594c9cc",
   "metadata": {},
   "outputs": [],
   "source": [
    "print('Number of PTI polygons associated with more than one CCDR polygon: ', \n",
    "      (len(Dict_ADM2.index.unique()) - len(Dict_ADM2['CCDR_ID'].unique())))\n",
    "print('Number of CCDR polygons associated with more than one PTI polygon: ', \n",
    "      (len(Dict_ADM2.index.unique()) - len(Dict_ADM2['PTI_ID'].unique())))"
   ]
  },
  {
   "cell_type": "markdown",
   "id": "17784e6b",
   "metadata": {},
   "source": [
    "#### Pivot longer: ADM3"
   ]
  },
  {
   "cell_type": "code",
   "execution_count": null,
   "id": "bd377005",
   "metadata": {},
   "outputs": [],
   "source": [
    "Dict_ADM3 = pd.melt(CCDR_ADM3, id_vars=['CCDR_ID'], value_vars=[col for col in CCDR_ADM3 if col.startswith('ADM3')], \n",
    "                    value_name='PTI_ID')\n",
    "Dict_ADM3 = Dict_ADM3.loc[Dict_ADM3['PTI_ID'].notnull()][['CCDR_ID', 'PTI_ID']]\n",
    "Dict_ADM3"
   ]
  },
  {
   "cell_type": "code",
   "execution_count": null,
   "id": "686443f3",
   "metadata": {},
   "outputs": [],
   "source": [
    "print('Number of PTI polygons associated with more than one CCDR polygon: ', \n",
    "      (len(Dict_ADM3.index.unique()) - len(Dict_ADM3['CCDR_ID'].unique())))\n",
    "print('Number of CCDR polygons associated with more than one PTI polygon: ', \n",
    "      (len(Dict_ADM3.index.unique()) - len(Dict_ADM3['PTI_ID'].unique())))"
   ]
  },
  {
   "cell_type": "markdown",
   "id": "d9b3e441",
   "metadata": {},
   "source": [
    "## 3. MATCH RISK INDICATORS WITH PTI ADMIN AREAS"
   ]
  },
  {
   "cell_type": "markdown",
   "id": "4236fab2",
   "metadata": {},
   "source": [
    "### 3.1 Clean up risk layers"
   ]
  },
  {
   "cell_type": "markdown",
   "id": "4dd06cee",
   "metadata": {},
   "source": [
    "#### Load all indicators as separate ADM2 and ADM3 objects."
   ]
  },
  {
   "cell_type": "code",
   "execution_count": null,
   "id": "d2b094df",
   "metadata": {
    "scrolled": true
   },
   "outputs": [],
   "source": [
    "Indic_ADM2 = pd.DataFrame(gpd.read_file(os.path.join(Intermed_Fd, 'CCDR_indicators.gpkg'), \n",
    "                                        layer='CCDR_ADM2')).drop(columns=['geometry', 'CCDR'])\n",
    "Indic_ADM3 = pd.DataFrame(gpd.read_file(os.path.join(Intermed_Fd, 'CCDR_indicators.gpkg'), \n",
    "                                        layer='CCDR_ADM3')).drop(columns=['geometry', 'ADM2_CODE'])\n",
    "print(Indic_ADM2.info(), Indic_ADM3.info())"
   ]
  },
  {
   "cell_type": "code",
   "execution_count": null,
   "id": "9f57be4d",
   "metadata": {
    "scrolled": true
   },
   "outputs": [],
   "source": [
    "print(Indic_ADM2.nunique(axis=0), '\\n\\n', Indic_ADM3.nunique(axis=0))"
   ]
  },
  {
   "cell_type": "markdown",
   "id": "b13c79c1",
   "metadata": {},
   "source": [
    "### 3.2 Categorize indicators by eligible aggregation or disaggregation method."
   ]
  },
  {
   "cell_type": "markdown",
   "id": "381d1ebd",
   "metadata": {},
   "source": [
    "If splitting a hazard ADM into 2+ project ADMs, AND if indicator does not depend on the polygon size or amount (intensive):\n",
    "<br> Indicator unchanged, applied to each ADM.\n",
    "\n",
    "If splitting a hazard ADM into 2+ project ADMs, AND if indicator is dependent on the polygon size or amount (extensive):\n",
    "<br> No data applied to each ADM.\n",
    "\n",
    "If dissolving 2+ hazard ADMs into a project ADM, AND if indicator is intensive:\n",
    "<br> No data applied to each ADM.\n",
    "\n",
    "If dissolving 2+ hazard ADMs into a project ADM, AND if indicator is extensive:\n",
    "<br> -- If indicator is count, apply sum.\n",
    "<br> -- If indicator is average, apply no data.\n",
    "<br> -- If indicator is max, apply max."
   ]
  },
  {
   "cell_type": "markdown",
   "id": "ded0328e",
   "metadata": {},
   "source": [
    "Drought percent: INTENSIVE, AVERAGE\n",
    "- If >1 CCDR to a PTI, no data.\n",
    "- If >1 PTI to a CCDR, orig value.\n",
    "\n",
    "Landslide: EXTENSIVE, COUNT\n",
    "- If >1 CCDR to a PTI, sum.\n",
    "- If >1 PTI to a CCDR, no data. \n",
    "\n",
    "Flood: EXTENSIVE, COUNT\n",
    "- If >1 CCDR to a PTI, sum.\n",
    "- If >1 PTI to a CCDR, no data.\n",
    "\n",
    "Flood percent: INTENSIVE, PROPORTION\n",
    "- If >1 CCDR to a PTI, no data.\n",
    "- If >1 PTI to a CCDR, orig value.\n",
    "\n",
    "Heat stress: EXTENSIVE, COUNT\n",
    "- If >1 CCDR to a PTI, sum.\n",
    "- If >1 PTI to a CCDR, no data.\n",
    "\n",
    "Heat stress percent: INTENSIVE, PROPORTION\n",
    "- If >1 CCDR to a PTI, no data.\n",
    "- If >1 PTI to a CCDR, orig value."
   ]
  },
  {
   "cell_type": "code",
   "execution_count": null,
   "id": "cf649966",
   "metadata": {
    "scrolled": true
   },
   "outputs": [],
   "source": [
    "print(Indic_ADM2.info(), '\\n', Indic_ADM3.info())"
   ]
  },
  {
   "cell_type": "code",
   "execution_count": null,
   "id": "5e3ba31c",
   "metadata": {},
   "outputs": [],
   "source": [
    "# Take the Indicators list and assign intensive or extensive.\n",
    "Intensive = ['DR_S1_30', 'DR_S1_50', # DR\n",
    "              'HS_popEAEp', # HS\n",
    "              'FL_buEAIp', 'FL_popEAIp' # FL\n",
    "              # LS\n",
    "            ]\n",
    "\n",
    "Extensive = [# DR\n",
    "              'HS_pop', 'HS_popEAE', # HS\n",
    "              'FL_ag', 'FL_agEAE', 'FL_bu', 'FL_buEAI', 'FL_pop', 'FL_popEAI', # FL\n",
    "              'LS_bu', 'LS_buEXP', 'LS_pop', 'LS_popEXP' # LS\n",
    "             ]"
   ]
  },
  {
   "cell_type": "markdown",
   "id": "8b3fa644",
   "metadata": {},
   "source": [
    "### 3.3 Group-by aggregations"
   ]
  },
  {
   "cell_type": "markdown",
   "id": "493242ad",
   "metadata": {},
   "source": [
    "#### Table join risk indicators onto project ADMs."
   ]
  },
  {
   "cell_type": "code",
   "execution_count": null,
   "id": "1c2a9dee",
   "metadata": {
    "scrolled": true
   },
   "outputs": [],
   "source": [
    "ADM2 = Dict_ADM2.merge(Indic_ADM2, on='CCDR_ID', how='left')\n",
    "ADM3 = Dict_ADM3.merge(Indic_ADM3, on='CCDR_ID', how='left')\n",
    "print(ADM2.info(), ADM3.info())"
   ]
  },
  {
   "cell_type": "markdown",
   "id": "e74aae8c",
   "metadata": {},
   "source": [
    "#### Identify duplicates and mark them in the expanded dataset."
   ]
  },
  {
   "cell_type": "code",
   "execution_count": null,
   "id": "5c6ff799",
   "metadata": {},
   "outputs": [],
   "source": [
    "# subset rows that have duplicate PTI ADM: dupePTI\n",
    "dupePTI_A2 = ADM2[ADM2.duplicated(['PTI_ID'], keep='first')]\n",
    "dupePTI_A2 = list(dupePTI_A2['PTI_ID'])\n",
    "\n",
    "dupePTI_A3 = ADM3[ADM3.duplicated(['PTI_ID'], keep='first')]\n",
    "dupePTI_A3 = list(dupePTI_A3['PTI_ID'])\n",
    "dupePTI_A3"
   ]
  },
  {
   "cell_type": "code",
   "execution_count": null,
   "id": "52c0efd9",
   "metadata": {},
   "outputs": [],
   "source": [
    "# subset rows that have duplicate CCDR ADM: dupeCCDR\n",
    "dupeCCDR_A2 = ADM2[ADM2.duplicated(['CCDR_ID'], keep='first')]\n",
    "dupeCCDR_A2 = list(dupeCCDR_A2['CCDR_ID'])\n",
    "\n",
    "dupeCCDR_A3 = ADM3[ADM3.duplicated(['CCDR_ID'], keep='first')]\n",
    "dupeCCDR_A3 = list(dupeCCDR_A3['CCDR_ID'])\n",
    "dupeCCDR_A3"
   ]
  },
  {
   "cell_type": "code",
   "execution_count": null,
   "id": "f12e122f",
   "metadata": {
    "scrolled": true
   },
   "outputs": [],
   "source": [
    "ADM2['dupeCCDR'] = 0 # Default value will be zero\n",
    "ADM2['dupePTI'] = 0\n",
    "ADM2.loc[ADM2.CCDR_ID.isin(dupeCCDR_A2), 'dupeCCDR'] = 1\n",
    "ADM2.loc[ADM2.PTI_ID.isin(dupePTI_A2), 'dupePTI'] = 1\n",
    "\n",
    "ADM3['dupeCCDR'] = 0\n",
    "ADM3['dupePTI'] = 0\n",
    "ADM3.loc[ADM3.CCDR_ID.isin(dupeCCDR_A3), 'dupeCCDR'] = 1\n",
    "ADM3.loc[ADM3.PTI_ID.isin(dupePTI_A3), 'dupePTI'] = 1\n",
    "\n",
    "print(ADM2.sample(10), ADM3.sample(10))"
   ]
  },
  {
   "cell_type": "code",
   "execution_count": null,
   "id": "e9e49c8d",
   "metadata": {
    "scrolled": true
   },
   "outputs": [],
   "source": [
    "# Check to make sure there are 2 unique values for the dupe fields.\n",
    "print(ADM2.nunique(axis=0), ADM3.nunique(axis=0))"
   ]
  },
  {
   "cell_type": "code",
   "execution_count": null,
   "id": "e2ef69ce",
   "metadata": {},
   "outputs": [],
   "source": [
    "# We can drop CCDR ADM field now\n",
    "ADM2 = ADM2.drop(columns='CCDR_ID', axis=1)\n",
    "ADM3 = ADM3.drop(columns='CCDR_ID', axis=1)"
   ]
  },
  {
   "cell_type": "markdown",
   "id": "56fb68af",
   "metadata": {},
   "source": [
    "#### Group-by PTI ADMs and apply appropriate aggregation or null setting"
   ]
  },
  {
   "cell_type": "code",
   "execution_count": null,
   "id": "51beb26a",
   "metadata": {},
   "outputs": [],
   "source": [
    "# Now we can work with just the PTI ADM features.\n",
    "ADM2_Int = ADM2.drop(columns=Extensive).groupby(\n",
    "    'PTI_ID', as_index=False).first() # Keep original value\n",
    "\n",
    "ADM2_Ext = ADM2.drop(columns=Intensive).groupby(\n",
    "    'PTI_ID', as_index=False).sum() # Sum these counts\n",
    "ADM2_Int.info()"
   ]
  },
  {
   "cell_type": "code",
   "execution_count": null,
   "id": "4f3bbc6e",
   "metadata": {},
   "outputs": [],
   "source": [
    "ADM3_Int = ADM3.drop(columns=Extensive).groupby(\n",
    "    'PTI_ID', as_index=False).first() # Keep original value\n",
    "\n",
    "ADM3_Ext = ADM3.drop(columns=Intensive).groupby(\n",
    "    'PTI_ID', as_index=False).sum() # Sum these counts\n",
    "ADM3_Int.info()"
   ]
  },
  {
   "cell_type": "code",
   "execution_count": null,
   "id": "b7753f84",
   "metadata": {},
   "outputs": [],
   "source": [
    "# Change extensive variables to None if there were multiple PTI ADMs\n",
    "for col in Extensive:\n",
    "    ADM2_Ext.loc[ADM2_Ext.dupePTI > 0, col] = None\n",
    "# Change intensive variables to None if there were multiple CCDR ADMs\n",
    "for col in Intensive:\n",
    "    ADM2_Int.loc[ADM2_Int.dupeCCDR > 0, col] = None"
   ]
  },
  {
   "cell_type": "code",
   "execution_count": null,
   "id": "d76344fd",
   "metadata": {},
   "outputs": [],
   "source": [
    "for col in Extensive:\n",
    "    ADM3_Ext.loc[ADM3_Ext.dupePTI > 0, col] = None\n",
    "for col in Intensive:\n",
    "    ADM3_Int.loc[ADM3_Int.dupeCCDR > 0, col] = None"
   ]
  },
  {
   "cell_type": "code",
   "execution_count": null,
   "id": "31115e8d",
   "metadata": {},
   "outputs": [],
   "source": [
    "# Merge intensive and extensive variables into single df and save to file.\n",
    "ADM2_PTI = ADM2_Int.merge(ADM2_Ext, on='PTI_ID', how='outer')\n",
    "ADM2_PTI = ADM2_PTI.loc[:, ~ADM2_PTI.columns.str.contains('dupe')]\n",
    "ADM3_PTI = ADM3_Int.merge(ADM3_Ext, on='PTI_ID', how='outer')\n",
    "ADM3_PTI = ADM3_PTI.loc[:, ~ADM3_PTI.columns.str.contains('dupe')]\n",
    "print(ADM2_PTI.info(), ADM3_PTI.info())"
   ]
  },
  {
   "cell_type": "code",
   "execution_count": null,
   "id": "cd06ee6e",
   "metadata": {},
   "outputs": [],
   "source": [
    "ADM2_PTI.sample(20)"
   ]
  },
  {
   "cell_type": "code",
   "execution_count": null,
   "id": "8d2b5d94",
   "metadata": {},
   "outputs": [],
   "source": [
    "ADM3_PTI.sample(20)"
   ]
  },
  {
   "cell_type": "markdown",
   "id": "750135a4",
   "metadata": {},
   "source": [
    "### 3.4 Join onto parent PTI ADM dataframes and save to file."
   ]
  },
  {
   "cell_type": "code",
   "execution_count": null,
   "id": "986ac867",
   "metadata": {},
   "outputs": [],
   "source": [
    "ADM2 = pd.DataFrame(gpd.read_file(filename=os.path.join(ADM_Fd, 'Sahel_AdminBoundaries.gpkg'), \n",
    "                     layer='adm2'))[['ADM1_CODE', 'ADM2_CODE']]\n",
    "ADM3 = pd.DataFrame(gpd.read_file(filename=os.path.join(ADM_Fd, 'Sahel_AdminBoundaries.gpkg'), \n",
    "                     layer='adm3'))[['ADM1_CODE', 'ADM2_CODE', 'ADM3_CODE']]\n",
    "print(ADM2.info(), ADM3.info())"
   ]
  },
  {
   "cell_type": "code",
   "execution_count": null,
   "id": "fdf1d1af",
   "metadata": {},
   "outputs": [],
   "source": [
    "ADM2 = ADM2.merge(ADM2_PTI, left_on='ADM2_CODE', right_on='PTI_ID', how='left')\n",
    "ADM3 = ADM3.merge(ADM3_PTI, left_on='ADM3_CODE', right_on='PTI_ID', how='left')\n",
    "ADM2.to_csv(os.path.join(Current_Fd, 'Results', 'Risk_Temp_ADM2.csv'))\n",
    "ADM3.to_csv(os.path.join(Current_Fd, 'Results', 'Risk_Temp_ADM3.csv'))"
   ]
  },
  {
   "cell_type": "code",
   "execution_count": null,
   "id": "fa938d28",
   "metadata": {},
   "outputs": [],
   "source": [
    "Indic_ADM2.tail(30)"
   ]
  },
  {
   "cell_type": "code",
   "execution_count": null,
   "id": "6e6f755c",
   "metadata": {},
   "outputs": [],
   "source": [
    "ADM2.tail(30)"
   ]
  }
 ],
 "metadata": {
  "kernelspec": {
   "display_name": "Python 3 (ipykernel)",
   "language": "python",
   "name": "python3"
  },
  "language_info": {
   "codemirror_mode": {
    "name": "ipython",
    "version": 3
   },
   "file_extension": ".py",
   "mimetype": "text/x-python",
   "name": "python",
   "nbconvert_exporter": "python",
   "pygments_lexer": "ipython3",
   "version": "3.10.6"
  }
 },
 "nbformat": 4,
 "nbformat_minor": 5
}
