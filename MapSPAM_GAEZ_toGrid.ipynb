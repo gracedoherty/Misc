{
 "cells": [
  {
   "cell_type": "code",
   "execution_count": 1,
   "id": "9da32e06",
   "metadata": {},
   "outputs": [],
   "source": [
    "import os, sys, glob, re, time\n",
    "from os.path import exists\n",
    "\n",
    "import geopandas as gpd \n",
    "import pandas as pd\n",
    "import numpy as np \n",
    "import fiona\n",
    "from shapely.geometry import Point, LineString, Polygon, shape, MultiPoint\n",
    "import shapely.wkt\n",
    "from shapely.ops import cascaded_union\n",
    "\n",
    "from xrspatial import zonal_stats \n",
    "import rasterio\n",
    "from rasterio.plot import show\n",
    "from rasterio import features, mask\n",
    "from rasterio.features import shapes\n",
    "from osgeo import gdal, osr, ogr, gdal_array"
   ]
  },
  {
   "cell_type": "code",
   "execution_count": 10,
   "id": "fd276175",
   "metadata": {},
   "outputs": [
    {
     "name": "stdout",
     "output_type": "stream",
     "text": [
      "C:\\Users\\wb527163\\GEO_Cdrive_Grace\\Sahel_Cdrive\\exploratory_climate_study\\Agriculture\n"
     ]
    }
   ],
   "source": [
    "ProjectFolder = os.getcwd()\n",
    "print(ProjectFolder)"
   ]
  },
  {
   "cell_type": "markdown",
   "id": "85cc2c93",
   "metadata": {},
   "source": [
    "### MapSPAM"
   ]
  },
  {
   "cell_type": "markdown",
   "id": "c633895e",
   "metadata": {},
   "source": [
    "Before running the script: Downloaded the data for each year and added desired production data to respective year folders."
   ]
  },
  {
   "cell_type": "code",
   "execution_count": 7,
   "id": "fa6d5ad0",
   "metadata": {},
   "outputs": [
    {
     "name": "stdout",
     "output_type": "stream",
     "text": [
      "['spam2000v3r7_production_BANP_L.tif', 'spam2000v3r7_production_BARL_L.tif', 'spam2000v3r7_production_BEAN_L.tif', 'spam2000v3r7_production_CASS_L.tif', 'spam2000v3r7_production_COFF_L.tif', 'spam2000v3r7_production_COTT_L.tif', 'spam2000v3r7_production_GROU_L.tif', 'spam2000v3r7_production_MAIZ_L.tif', 'spam2000v3r7_production_OFIB_L.tif', 'spam2000v3r7_production_OOIL_L.tif', 'spam2000v3r7_production_OPUL_L.tif', 'spam2000v3r7_production_OTHE_L.tif', 'spam2000v3r7_production_POTA_L.tif', 'spam2000v3r7_production_RICE_L.tif', 'spam2000v3r7_production_SORG_L.tif', 'spam2000v3r7_production_SOYB_L.tif', 'spam2000v3r7_production_SUGB_L.tif', 'spam2000v3r7_production_SUGC_L.tif', 'spam2000v3r7_production_SWPY_L.tif', 'spam2000v3r7_production_WHEA_L.tif'] ['SPAM2005V3r2_global_P_TL_ACOF_L.tif', 'SPAM2005V3r2_global_P_TL_BANA_L.tif', 'SPAM2005V3r2_global_P_TL_BARL_L.tif', 'SPAM2005V3r2_global_P_TL_BEAN_L.tif', 'SPAM2005V3r2_global_P_TL_CASS_L.tif', 'SPAM2005V3r2_global_P_TL_CHIC_L.tif', 'SPAM2005V3r2_global_P_TL_CNUT_L.tif', 'SPAM2005V3r2_global_P_TL_COCO_L.tif', 'SPAM2005V3r2_global_P_TL_COTT_L.tif', 'SPAM2005V3r2_global_P_TL_COWP_L.tif', 'SPAM2005V3r2_global_P_TL_GROU_L.tif', 'SPAM2005V3r2_global_P_TL_LENT_L.tif', 'SPAM2005V3r2_global_P_TL_MAIZ_L.tif', 'SPAM2005V3r2_global_P_TL_OCER_L.tif', 'SPAM2005V3r2_global_P_TL_OFIB_L.tif', 'SPAM2005V3r2_global_P_TL_OILP_L.tif', 'SPAM2005V3r2_global_P_TL_OOIL_L.tif', 'SPAM2005V3r2_global_P_TL_OPUL_L.tif', 'SPAM2005V3r2_global_P_TL_ORTS_L.tif', 'SPAM2005V3r2_global_P_TL_PIGE_L.tif', 'SPAM2005V3r2_global_P_TL_PLNT_L.tif', 'SPAM2005V3r2_global_P_TL_PMIL_L.tif', 'SPAM2005V3r2_global_P_TL_POTA_L.tif', 'SPAM2005V3r2_global_P_TL_RAPE_L.tif', 'SPAM2005V3r2_global_P_TL_RCOF_L.tif', 'SPAM2005V3r2_global_P_TL_REST_L.tif', 'SPAM2005V3r2_global_P_TL_RICE_L.tif', 'SPAM2005V3r2_global_P_TL_SESA_L.tif', 'SPAM2005V3r2_global_P_TL_SMIL_L.tif', 'SPAM2005V3r2_global_P_TL_SORG_L.tif', 'SPAM2005V3r2_global_P_TL_SOYB_L.tif', 'SPAM2005V3r2_global_P_TL_SUGB_L.tif', 'SPAM2005V3r2_global_P_TL_SUGC_L.tif', 'SPAM2005V3r2_global_P_TL_SUNF_L.tif', 'SPAM2005V3r2_global_P_TL_SWPO_L.tif', 'SPAM2005V3r2_global_P_TL_TEAS_L.tif', 'SPAM2005V3r2_global_P_TL_TEMF_L.tif', 'SPAM2005V3r2_global_P_TL_TOBA_L.tif', 'SPAM2005V3r2_global_P_TL_TROF_L.tif', 'SPAM2005V3r2_global_P_TL_VEGE_L.tif', 'SPAM2005V3r2_global_P_TL_WHEA_L.tif', 'SPAM2005V3r2_global_P_TL_YAMS_L.tif'] ['spam2010V2r0_global_P_ACOF_L.tif', 'spam2010V2r0_global_P_BANA_L.tif', 'spam2010V2r0_global_P_BARL_L.tif', 'spam2010V2r0_global_P_BEAN_L.tif', 'spam2010V2r0_global_P_CASS_L.tif', 'spam2010V2r0_global_P_CHIC_L.tif', 'spam2010V2r0_global_P_CNUT_L.tif', 'spam2010V2r0_global_P_COCO_L.tif', 'spam2010V2r0_global_P_COTT_L.tif', 'spam2010V2r0_global_P_COWP_L.tif', 'spam2010V2r0_global_P_GROU_L.tif', 'spam2010V2r0_global_P_LENT_L.tif', 'spam2010V2r0_global_P_MAIZ_L.tif', 'spam2010V2r0_global_P_OCER_L.tif', 'spam2010V2r0_global_P_OFIB_L.tif', 'spam2010V2r0_global_P_OILP_L.tif', 'spam2010V2r0_global_P_OOIL_L.tif', 'spam2010V2r0_global_P_OPUL_L.tif', 'spam2010V2r0_global_P_ORTS_L.tif', 'spam2010V2r0_global_P_PIGE_L.tif', 'spam2010V2r0_global_P_PLNT_L.tif', 'spam2010V2r0_global_P_PMIL_L.tif', 'spam2010V2r0_global_P_POTA_L.tif', 'spam2010V2r0_global_P_RAPE_L.tif', 'spam2010V2r0_global_P_RCOF_L.tif', 'spam2010V2r0_global_P_REST_L.tif', 'spam2010V2r0_global_P_RICE_L.tif', 'spam2010V2r0_global_P_SESA_L.tif', 'spam2010V2r0_global_P_SMIL_L.tif', 'spam2010V2r0_global_P_SORG_L.tif', 'spam2010V2r0_global_P_SOYB_L.tif', 'spam2010V2r0_global_P_SUGB_L.tif', 'spam2010V2r0_global_P_SUGC_L.tif', 'spam2010V2r0_global_P_SUNF_L.tif', 'spam2010V2r0_global_P_SWPO_L.tif', 'spam2010V2r0_global_P_TEAS_L.tif', 'spam2010V2r0_global_P_TEMF_L.tif', 'spam2010V2r0_global_P_TOBA_L.tif', 'spam2010V2r0_global_P_TROF_L.tif', 'spam2010V2r0_global_P_VEGE_L.tif', 'spam2010V2r0_global_P_WHEA_L.tif', 'spam2010V2r0_global_P_YAMS_L.tif'] ['spam2017V2r1_SSA_P_ACOF_L.tif', 'spam2017V2r1_SSA_P_BANA_L.tif', 'spam2017V2r1_SSA_P_BARL_L.tif', 'spam2017V2r1_SSA_P_BEAN_L.tif', 'spam2017V2r1_SSA_P_CASS_L.tif', 'spam2017V2r1_SSA_P_CHIC_L.tif', 'spam2017V2r1_SSA_P_CNUT_L.tif', 'spam2017V2r1_SSA_P_COCO_L.tif', 'spam2017V2r1_SSA_P_COTT_L.tif', 'spam2017V2r1_SSA_P_COWP_L.tif', 'spam2017V2r1_SSA_P_GROU_L.tif', 'spam2017V2r1_SSA_P_LENT_L.tif', 'spam2017V2r1_SSA_P_MAIZ_L.tif', 'spam2017V2r1_SSA_P_OCER_L.tif', 'spam2017V2r1_SSA_P_OFIB_L.tif', 'spam2017V2r1_SSA_P_OILP_L.tif', 'spam2017V2r1_SSA_P_OOIL_L.tif', 'spam2017V2r1_SSA_P_OPUL_L.tif', 'spam2017V2r1_SSA_P_ORTS_L.tif', 'spam2017V2r1_SSA_P_PIGE_L.tif', 'spam2017V2r1_SSA_P_PLNT_L.tif', 'spam2017V2r1_SSA_P_PMIL_L.tif', 'spam2017V2r1_SSA_P_POTA_L.tif', 'spam2017V2r1_SSA_P_RAPE_L.tif', 'spam2017V2r1_SSA_P_RCOF_L.tif', 'spam2017V2r1_SSA_P_REST_L.tif', 'spam2017V2r1_SSA_P_RICE_L.tif', 'spam2017V2r1_SSA_P_SESA_L.tif', 'spam2017V2r1_SSA_P_SMIL_L.tif', 'spam2017V2r1_SSA_P_SORG_L.tif', 'spam2017V2r1_SSA_P_SOYB_L.tif', 'spam2017V2r1_SSA_P_SUGB_L.tif', 'spam2017V2r1_SSA_P_SUGC_L.tif', 'spam2017V2r1_SSA_P_SUNF_L.tif', 'spam2017V2r1_SSA_P_SWPO_L.tif', 'spam2017V2r1_SSA_P_TEAS_L.tif', 'spam2017V2r1_SSA_P_TEMF_L.tif', 'spam2017V2r1_SSA_P_TOBA_L.tif', 'spam2017V2r1_SSA_P_TROF_L.tif', 'spam2017V2r1_SSA_P_VEGE_L.tif', 'spam2017V2r1_SSA_P_WHEA_L.tif', 'spam2017V2r1_SSA_P_YAMS_L.tif']\n"
     ]
    }
   ],
   "source": [
    "# Make a list of rainfed, low-input agricultural production rasters for each year.\n",
    "spam2000 = [i for i in os.listdir(r'spam2000_prod_rain_lowinput/') if i.endswith('_L.tif')]\n",
    "spam2005 = [i for i in os.listdir(r'spam2005_prod_rain_lowinput/') if i.endswith('_L.tif')]\n",
    "spam2010 = [i for i in os.listdir(r'spam2010_prod_rain_lowinput/') if i.endswith('_L.tif')]\n",
    "spam2017 = [i for i in os.listdir(r'spam2017_prod_rain_lowinput/') if i.endswith('_L.tif')]\n",
    "\n",
    "print(spam2000, spam2005, spam2010, spam2017)"
   ]
  },
  {
   "cell_type": "code",
   "execution_count": null,
   "id": "de328b10",
   "metadata": {},
   "outputs": [],
   "source": [
    "CheckContents = [rasterio.open(r\"spam2000_prod_rain_lowinput/spam2000v3r7_production_BANP_L.tif\"), \n",
    "               rasterio.open(r\"spam2005_prod_rain_lowinput/SPAM2005V3r2_global_P_TL_ACOF_L.tif\"), \n",
    "               rasterio.open(r\"spam2010_prod_rain_lowinput/spam2010V2r0_global_P_ACOF_L.tif\"),\n",
    "               rasterio.open(r\"spam2017_prod_rain_lowinput/spam2017V2r1_SSA_P_ACOF_L.tif\")]\n",
    "\n",
    "for item in CheckContents:\n",
    "    print(item.name, \"\\nBands= \", item.count, \"\\nWxH= \", item.width, \"x\", item.height, \"\\n\\n\")\n",
    "\n",
    "stats = []\n",
    "for item in CheckContents:\n",
    "    band = item.read(1)\n",
    "    stats.append({\n",
    "        'raster': item.name,\n",
    "        'min': band.min(),\n",
    "        'mean': band.mean(),\n",
    "        'median': np.median(band),\n",
    "        'max': band.max()})\n",
    "\n",
    "# Show stats for each channel\n",
    "print(\"\\n\", stats)"
   ]
  },
  {
   "cell_type": "code",
   "execution_count": 20,
   "id": "2dec9f60",
   "metadata": {},
   "outputs": [],
   "source": [
    "CheckContents = None\n",
    "band = None\n",
    "item = None"
   ]
  },
  {
   "cell_type": "code",
   "execution_count": 17,
   "id": "c6993685",
   "metadata": {},
   "outputs": [],
   "source": [
    "def SimplifyFileNames(folder):\n",
    "    for count, filename in enumerate(os.listdir(folder)):\n",
    "            dst = ''.join(['Crop', str(count), '.tif'])\n",
    "            src =f\"{folder}/{filename}\"  # foldername/filename, if .py file is outside folder\n",
    "            dst =f\"{folder}/{dst}\"\n",
    "\n",
    "            os.rename(src, dst)"
   ]
  },
  {
   "cell_type": "code",
   "execution_count": 21,
   "id": "c23c5b23",
   "metadata": {},
   "outputs": [],
   "source": [
    "SimplifyFileNames(folder = 'spam2000_prod_rain_lowinput')\n",
    "SimplifyFileNames(folder = 'spam2005_prod_rain_lowinput')\n",
    "SimplifyFileNames(folder = 'spam2010_prod_rain_lowinput')\n",
    "SimplifyFileNames(folder = 'spam2017_prod_rain_lowinput')"
   ]
  },
  {
   "cell_type": "code",
   "execution_count": null,
   "id": "73e5c3bd",
   "metadata": {},
   "outputs": [],
   "source": [
    "# Open command line for this:\n",
    "\n",
    "_P_\t\tproduction\n",
    "\n",
    "*_L\trainfed low inputs portion of crop or crop group\n",
    "\n",
    "\n",
    "cd C:\\Users\\wb527163\\GEO_Cdrive_Grace\\Sahel_Cdrive\\exploratory_climate_study\\Agriculture\\spam2000_prod_rain_lowinput\n",
    "\n",
    "# Create an empty raster using the specs of one of the rasters in the folder.\n",
    "gdal_create -if Crop1.tif -burn 0 ProdSum.tif\n",
    "\n",
    "# Add all rasters in the folder with ProdSum.tif as the output location.\n",
    "for %f in (*.tif) do gdal_calc.py -A %f -B result.tif --outfile=ProdSum.tif --calc=A+B\n",
    "\n",
    "gdal_calc.py -A *.tif --outfile=ProdSum.tif --calc=\"numpy.sum(A,axis=0)\""
   ]
  },
  {
   "cell_type": "code",
   "execution_count": null,
   "id": "9ec43b61",
   "metadata": {},
   "outputs": [],
   "source": []
  },
  {
   "cell_type": "code",
   "execution_count": null,
   "id": "8e49156a",
   "metadata": {},
   "outputs": [],
   "source": []
  }
 ],
 "metadata": {
  "kernelspec": {
   "display_name": "Python 3 (ipykernel)",
   "language": "python",
   "name": "python3"
  },
  "language_info": {
   "codemirror_mode": {
    "name": "ipython",
    "version": 3
   },
   "file_extension": ".py",
   "mimetype": "text/x-python",
   "name": "python",
   "nbconvert_exporter": "python",
   "pygments_lexer": "ipython3",
   "version": "3.10.6"
  }
 },
 "nbformat": 4,
 "nbformat_minor": 5
}
