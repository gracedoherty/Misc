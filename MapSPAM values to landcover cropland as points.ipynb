{
 "cells": [
  {
   "cell_type": "markdown",
   "id": "06195076",
   "metadata": {},
   "source": [
    "\n",
    "New agricultural value pseudocode:\n",
    "\t1. Mask landcover to just cropland\n",
    "\t2. Reclassify cropland to 1\n",
    "\t3. Mask cropland to TCD_ADM0\n",
    "\t4. Raster to polygon with Simplify Features checked. (If vertices estimate is already known, can use the maximum vertices limit and skip Dice tool)\n",
    "\t5. Calculate new field $area\n",
    "\t6. Calculate new field VERTEXCT as: !shape!.pointcount and sort by max. Spot check among the largest features to decide what number of vertices gives an appropriate maximum crop area. Can delete this field once this value is known.\n",
    "\t7. Dice polygon. Vertices limit = the vertex count determined in the previous step.\n",
    "\t8. Centroids of polygon\n",
    "\t9. Spatial join crop points within agro9km polygons\n",
    "\t10. Group by agro_ID: proportion (%) of crop area per feature (feature's area / sum of all crop areas agro_id)\n",
    "Agroval_pt = prop_area * agro_val9km\n",
    "\n",
    "\n",
    "1.\tSPAM_ply = SPAM raster to polygons\n",
    "2.\tcrop = Mask landcover to just cropland\n",
    "3.\tcrop = Reclassify cropland to 1\n",
    "4.\tcrop = Mask cropland to TCD_ADM0\n",
    "5.\tcrop_ply = Raster to polygon with Simplify Features checked, max vertices = 100\n",
    "6.\tcrop_ply = calculate new field $area\n",
    "7.\tcrop_pt = Centroids of crop_ply\n",
    "8.\tagro_crop = Spatial join crop points within agro9km polygons\n",
    "9.\tagro_crop = Group by agro_ID: proportion (%) of crop area per feature (feature's area / sum of all crop areas agro_id)\n",
    "10.\tagro_crop$agroval = prop_area * agro_val9km"
   ]
  },
  {
   "cell_type": "code",
   "execution_count": 1,
   "id": "f3e042fa",
   "metadata": {},
   "outputs": [],
   "source": [
    "import os, sys, glob, re, time, subprocess, string # os.getcwd(), os.path.join(), os.listdir(), os.remove(), time.ctime(), glob.glob(), string.zfill(), string.join()\n",
    "from os.path import exists # exists()\n",
    "from functools import reduce # reduce()\n",
    "\n",
    "import geopandas as gpd # read_file(), GeoDataFrame(), sjoin_nearest(), to_crs(), to_file(), .crs, buffer(), dissolve()\n",
    "import pandas as pd # .dtypes, Series(), concat(), DataFrame(), read_table(), merge(), to_csv(), .loc[], head(), sample(), astype(), unique(), rename(), between(), drop(), fillna(), idxmax(), isna(), isin(), apply(), info(), sort_values(), notna(), groupby(), value_counts(), duplicated(), drop_duplicates()\n",
    "from shapely.geometry import Point, LineString, Polygon, shape, MultiPoint\n",
    "from shapely.ops import cascaded_union\n",
    "from shapely.validation import make_valid  # in apply(make_valid)\n",
    "import shapely.wkt\n",
    "\n",
    "import numpy as np # median(), mean(), tolist(), .inf\n",
    "import fiona, rioxarray # fiona.open()\n",
    "import rasterio # open(), write_band(), .name, .count, .width, .height. nodatavals, .meta, update(), copy(), write()\n",
    "from rasterio.plot import show\n",
    "from rasterio import features # features.rasterize()\n",
    "from rasterio.features import shapes\n",
    "from rasterio import mask # rasterio.mask.mask()\n",
    "from osgeo import gdal, osr, ogr, gdal_array, gdalconst # Open(), SpatialReference, WarpOptions(), Warp(), GetDataTypeName(), GetRasterBand(), GetNoDataValue(), Translate(), GetProjection(), GetAttrValue()"
   ]
  },
  {
   "cell_type": "code",
   "execution_count": 2,
   "id": "84276089",
   "metadata": {},
   "outputs": [],
   "source": [
    "def ListFromRange(r1, r2):\n",
    "    return [item for item in range(r1, r2+1)]"
   ]
  },
  {
   "cell_type": "code",
   "execution_count": 3,
   "id": "53c5a464",
   "metadata": {},
   "outputs": [],
   "source": [
    "# From Stack Exchange @RutgerH\n",
    "# https://gis.stackexchange.com/questions/163685/reclassify-a-raster-value-to-9999-and-set-it-to-the-nodata-value-using-python-a\n",
    "def readRaster(filename):\n",
    "    filehandle = gdal.Open(filename)\n",
    "    band1 = filehandle.GetRasterBand(1)\n",
    "    geotransform = filehandle.GetGeoTransform()\n",
    "    geoproj = filehandle.GetProjection()\n",
    "    Z = band1.ReadAsArray()\n",
    "    xsize = filehandle.RasterXSize\n",
    "    ysize = filehandle.RasterYSize\n",
    "    return xsize,ysize,geotransform,geoproj,Z"
   ]
  },
  {
   "cell_type": "code",
   "execution_count": 108,
   "id": "cb36121d",
   "metadata": {},
   "outputs": [],
   "source": [
    "# Default arguments can be changed here, or can be specified below when running the functions.\n",
    "def writeRaster(filename,geotransform,geoprojection,data, NoDataVal=0):\n",
    "    (x,y) = data.shape\n",
    "    Dformat = \"GTiff\"\n",
    "    driver = gdal.GetDriverByName(Dformat)\n",
    "    # you can change the dataformat but be sure to be able to store negative values including -9999\n",
    "    dst_datatype = gdal.GDT_Float32\n",
    "    dst_ds = driver.Create(filename,y,x,1,dst_datatype)\n",
    "    dst_ds.GetRasterBand(1).WriteArray(data)\n",
    "    dst_ds.SetGeoTransform(geotransform)\n",
    "    dst_ds.SetProjection(geoprojection)\n",
    "    dst_ds.GetRasterBand(1).SetNoDataValue(NoDataVal)\n",
    "    return 1\n",
    "    dst_ds = None"
   ]
  },
  {
   "cell_type": "code",
   "execution_count": 5,
   "id": "51c28742",
   "metadata": {},
   "outputs": [],
   "source": [
    "# Based on Stack Exchange @Kurt Schwehr:\n",
    "# https://stackoverflow.com/questions/10454316/how-to-project-and-resample-a-grid-to-match-another-grid-with-gdal-python\n",
    "def resampleRaster(InRaster_Path, MatchRaster_Path, OutFile_Path):\n",
    "    print('Loading for %s. %s' % (InRaster_Path, time.ctime()))\n",
    "    \n",
    "    RasterObject = gdal.Open(InRaster_Path)\n",
    "    In_proj = RasterObject.GetProjection()\n",
    "    [Match_x, Match_y, Match_geo, Match_proj, Match_Z] = readRaster(MatchRaster_Path)\n",
    "    print('---Specs to match to: \\n', \n",
    "      Match_proj, '\\n', Match_geo, '\\n', Match_x, '\\n', Match_y, '\\n')\n",
    "        \n",
    "    OutFile = gdal.GetDriverByName('GTiff').Create(OutFile_Path, Match_x, Match_y, 1, gdalconst.GDT_UInt32)\n",
    "    OutFile.SetGeoTransform(Match_geo)\n",
    "    OutFile.SetProjection(Match_proj)\n",
    "    print('---Created raster file for upsampled version. %s' % time.ctime())\n",
    "    \n",
    "    gdal.ReprojectImage(RasterObject, OutFile, In_proj, Match_proj, gdal.GRA_Bilinear)\n",
    "    print('---Resampled flood values onto an empty raster matching the dimensions of the buildup layer. %s \\n\\n' % time.ctime())\n",
    "    \n",
    "    OutFile.GetRasterBand(1).SetNoDataValue(0)\n",
    "    \n",
    "    RasterObject = Outfile = None\n",
    "    return 1"
   ]
  },
  {
   "cell_type": "code",
   "execution_count": 6,
   "id": "1c66a449",
   "metadata": {},
   "outputs": [],
   "source": [
    "def calcShell(A, B, OutFile, Calculation, OutType = '', \n",
    "              C=None, D=None, E=None, F=None, G=None):\n",
    "    \"\"\"Raster math using gdal_calc.py.\n",
    "\n",
    "    The OSgeo package for Python API does not make raster calculations\n",
    "    easy outside of the shell. This function plugs up to 6 raster files\n",
    "    into a string which subprocess.call() then commits to the terminal.\n",
    "\n",
    "        A : str\n",
    "            File path to the first raster for the calculation.\n",
    "        B : str\n",
    "            File path to the second raster for the calculation.\n",
    "        OutFile : str\n",
    "            File path where to store the raster generated from the calculation.\n",
    "        Calculation : str\n",
    "            Algebra that uses A and B to create a new raster. Use double quotes.\n",
    "    \"\"\"\n",
    "    print('Running for %s. %s' % (A, time.ctime()))\n",
    "    cmd = 'gdal_calc.py -A ' + A + ' -B ' + B \n",
    "    if C is not None:\n",
    "        cmd = cmd + ' -C' + C \n",
    "    if D is not None:\n",
    "        cmd = cmd + ' -D' + D\n",
    "    if E is not None:\n",
    "        cmd = cmd + ' -E' + E\n",
    "    if F is not None:\n",
    "        cmd = cmd + ' -F' + F\n",
    "    if G is not None:\n",
    "        cmd = cmd + ' -G' + G\n",
    "    cmd = cmd + OutType + ' --outfile=' + OutFile + ' --overwrite --calc=' + Calculation\n",
    "    subprocess.call(cmd, shell=True)\n",
    "    cmd = A = B = C = D = E = F = G = None\n",
    "    print('Ran in shell. See OutFile folder to inspect results. %s' % time.ctime())"
   ]
  },
  {
   "cell_type": "code",
   "execution_count": 7,
   "id": "bc6700b8",
   "metadata": {},
   "outputs": [],
   "source": [
    "def mosaicShell(A, B, OutFile, Band = 1, \n",
    "                  C=None, D=None, E=None, F=None, G=None):\n",
    "    print('Running for %s. %s' % (A, time.ctime()))\n",
    "    \n",
    "    StringFiles = ' '.join([A,B])\n",
    "    \n",
    "    for RasterName in [C,D,E,F,G]:\n",
    "        if RasterName is not None:\n",
    "            StringFiles = ' '.join([StringFiles, RasterName])\n",
    "        else:\n",
    "            pass\n",
    "        \n",
    "    cmd = 'gdal_merge.py -o ' + OutFile + ' -of gtiff ' + StringFiles\n",
    "    \n",
    "    subprocess.call(cmd, shell=True)\n",
    "    print('Ran in shell. See OutFile folder to inspect results. %s' % time.ctime())"
   ]
  },
  {
   "cell_type": "code",
   "execution_count": 8,
   "id": "ea3e52ae",
   "metadata": {},
   "outputs": [],
   "source": [
    "def RasterToShapefile(InRasterPath, OutFilePath = 'RastToShp.shp', Band=1, \n",
    "                      OutName='RastToShp', VariableName='value', Driver = 'ESRI Shapefile'):\n",
    "    \"\"\"Raster tiff to vector polygon shapefile.\n",
    "    \n",
    "    \"\"\"\n",
    "    Raster = gdal.Open(InRasterPath)\n",
    "    RasterBand = Raster.GetRasterBand(Band)\n",
    "    \n",
    "    OutDriver = ogr.GetDriverByName(Driver)\n",
    "    InProj = Raster.GetProjectionRef()\n",
    "    SpatRef = osr.SpatialReference()\n",
    "    SpatRef.ImportFromWkt(InProj)\n",
    "    print(InProj, '\\n\\n', SpatRef)\n",
    "    \n",
    "    OutFile = OutDriver.CreateDataSource(OutFilePath)\n",
    "    OutLayer = OutFile.CreateLayer(OutName, srs = SpatRef, geom_type = ogr.wkbPolygon)\n",
    "    OutField = ogr.FieldDefn(VariableName, ogr.OFTInteger)\n",
    "    OutLayer.CreateField(OutField)\n",
    "    OutField = OutLayer.GetLayerDefn().GetFieldIndex(VariableName)\n",
    "    print('\\n', OutFile, '\\n', OutLayer, '\\n', OutField)\n",
    "    \n",
    "    print('Vectorizing. Input: %s. %s' % (InRasterPath, time.ctime()))\n",
    "    gdal.Polygonize(RasterBand, None, OutLayer, 0, [], callback=None)\n",
    "    print('Completed polygons. Stored as: %s. %s' % (OutFilePath, time.ctime()))\n",
    "\n",
    "    del Raster, RasterBand, OutFile, OutLayer"
   ]
  },
  {
   "cell_type": "code",
   "execution_count": 9,
   "id": "52537956",
   "metadata": {},
   "outputs": [],
   "source": [
    "def rioStats(InRasterPath, Band = 1):\n",
    "    out = rasterio.open(InRasterPath)\n",
    "    stats = []\n",
    "    band = out.read(Band)\n",
    "    stats.append({\n",
    "        'raster': out.name,\n",
    "        'bands': out.count,\n",
    "        'data type': out.dtypes,\n",
    "        'no data value': out.nodatavals,\n",
    "        'width': out.width,\n",
    "        'height': out.height,\n",
    "        'min': band.min(),\n",
    "        'mean': band.mean(),\n",
    "        'median': np.median(band),\n",
    "        'max': band.max()})\n",
    "    print(\"\\n\", stats)\n",
    "    \n",
    "    out = band = None"
   ]
  },
  {
   "cell_type": "code",
   "execution_count": 10,
   "id": "e0f9f856",
   "metadata": {},
   "outputs": [],
   "source": [
    "def SimplifyFileNames(FilesList, folder):\n",
    "    i = 1\n",
    "    while i <= len(FilesList):\n",
    "        for filename in FilesList:\n",
    "            dst = ''.join(['Crop', str(i), '.tif'])\n",
    "            src =f\"{folder}/{filename}\"  # foldername/filename, if .py file is outside folder\n",
    "            dst =f\"{folder}/{dst}\"\n",
    "            os.rename(src, dst)\n",
    "            \n",
    "            i += 1"
   ]
  },
  {
   "cell_type": "code",
   "execution_count": 11,
   "id": "086cb1d0",
   "metadata": {},
   "outputs": [],
   "source": [
    "def MaskByZone(MaskPath, SourceFolder, DestFolder, MaskLayerName = None, dstSRS = 'ESRI:102022'):\n",
    "    \"\"\"\n",
    "    Reduces the size of a raster's valid data cells to vector areas of interest.\n",
    "    This is useful if the raster data needs to be vectorized later to save space.\n",
    "    \n",
    "    The script prepares the vector zones as a list of geometries in the desired\n",
    "    spatial reference system, then warps each raster in the specified source\n",
    "    folder to the same SRS. Masking in rasterio then reclassifies any raster cells\n",
    "    falling outside of a mask polygon as NoData.\n",
    "    \"\"\"\n",
    "    \n",
    "    ProjSRS = osr.SpatialReference()\n",
    "    ProjSRS.SetFromUserInput(dstSRS)\n",
    "    ProjWarp = gdal.WarpOptions(dstSRS = dstSRS)\n",
    "    \n",
    "    SourceFiles = []\n",
    "    SourceFiles = SourceFiles + [i for i in os.listdir(''.join([SourceFolder, r'/'])) if i.endswith('tif')]\n",
    "    print(SourceFiles)\n",
    "    \n",
    "    \n",
    "    ### 1. ASSIGN SPATIAL REFERENCE SYSTEM OF VECTOR MASK AND LOAD GEOMETRIES\n",
    "    Vector = gpd.read_file(filename=MaskPath, layer=MaskLayerName)\n",
    "    if Vector.crs != dstSRS:\n",
    "        if MaskLayerName == None:\n",
    "            MaskPath = MaskPath + '_temp'\n",
    "        else:\n",
    "            MaskLayerName = MaskLayerName + '_temp'\n",
    "        Vector.to_crs(dstSRS).to_file(filename=MaskPath, layer=MaskLayerName)\n",
    "    Vector = None # We're reloading the geometries with fiona\n",
    "    \n",
    "    with fiona.open(MaskPath, mode=\"r\", layer=MaskLayerName) as Vector:\n",
    "        MaskGeom = [feature[\"geometry\"] for feature in Vector] # Identify the bounding areas of the mask.\n",
    "    \n",
    "    \n",
    "    ### 2. PREPARE DESTINATION FILES\n",
    "    for FileName in SourceFiles:\n",
    "        InputRasterPath = os.path.join(ProjectFolder, SourceFolder, FileName)\n",
    "        \n",
    "        TempOutputName = 'Temp_' + FileName\n",
    "        TempOutputPath = os.path.join(ProjectFolder, DestFolder, TempOutputName)\n",
    "        FinalOutputName = 'Msk_' + FileName\n",
    "        FinalOutputPath = os.path.join(ProjectFolder, DestFolder, FinalOutputName)\n",
    "\n",
    "    ### 3. ASSIGN SPATIAL REFERENCE SYSTEM OF RASTER(S)\n",
    "        InputRasterObject = gdal.Open(InputRasterPath)\n",
    "        SourceSRS = osr.SpatialReference(wkt=InputRasterObject.GetProjection())\n",
    "        print('Source projection: ', SourceSRS.GetAttrValue('projcs'))\n",
    "        print('Destination projection: ', ProjSRS.GetAttrValue('projcs'))\n",
    "\n",
    "        if SourceSRS.GetAttrValue('projcs') != ProjSRS.GetAttrValue('projcs'):\n",
    "            Warp = gdal.Warp(TempOutputPath, # Where to store the warped raster\n",
    "                         InputRasterObject, # Which raster to warp\n",
    "                         format='GTiff', \n",
    "                         options=ProjWarp) # Reproject to Africa Albers Equal Area Conic\n",
    "            print('Finished gdal.Warp() for %s. %s \\n' % (FileName, time.ctime()))\n",
    "\n",
    "            Warp = None # Close the files\n",
    "        else:\n",
    "            pass\n",
    "        InputRasterObject = None\n",
    "        \n",
    "    ### 4. RECLASSIFY AS NODATA IF OUTSIDE OF ZONE.\n",
    "        if exists(TempOutputPath):\n",
    "            NewInputPath = TempOutputPath \n",
    "            print(\"We warped the data, so we'll use that file for next step.\")\n",
    "        else:\n",
    "            NewInputPath = InputRasterPath \n",
    "            print(\"We skipped the warp, so we continue to use the source file.\")\n",
    "\n",
    "        with rasterio.open(NewInputPath) as InputRasterObject:\n",
    "            MaskedOutputRaster, OutTransform = rasterio.mask.mask(\n",
    "                InputRasterObject, MaskGeom, crop=True) # Anything outside the mask is reclassed to the raster's NoData value.\n",
    "            OutMetaData = InputRasterObject.meta.copy()\n",
    "        print('Finished rasterio.mask.mask() for %s. %s \\n' % (FileName, time.ctime()))\n",
    "\n",
    "        OutMetaData.update({\"driver\": \"GTiff\",\n",
    "                         \"height\": MaskedOutputRaster.shape[1],\n",
    "                         \"width\": MaskedOutputRaster.shape[2],\n",
    "                         \"transform\": OutTransform})\n",
    "\n",
    "        with rasterio.open(FinalOutputPath, \"w\", **OutMetaData) as dest:\n",
    "            dest.write(MaskedOutputRaster)\n",
    "        print('Written to file. %s \\n' % time.ctime())\n",
    "        InputRasterObject = None\n",
    "\n",
    "        if exists(TempOutputPath):\n",
    "            try:  # Finally, remove the intermediate file from disk\n",
    "                os.remove(TempOutputPath)\n",
    "            except OSError:\n",
    "                pass\n",
    "            print('Removed intermediate file. %s \\n' % time.ctime())\n",
    "        else:\n",
    "            pass\n",
    "\n",
    "\n",
    "    print('\\n \\n Finished all items in list. %s' % time.ctime())"
   ]
  },
  {
   "cell_type": "code",
   "execution_count": 12,
   "id": "a24633ea",
   "metadata": {},
   "outputs": [
    {
     "name": "stdout",
     "output_type": "stream",
     "text": [
      "Q:\\GIS\\povertyequity\\mauritania\\Agro_MRT\n"
     ]
    }
   ],
   "source": [
    "ProjectFolder = os.getcwd()\n",
    "print(ProjectFolder)"
   ]
  },
  {
   "cell_type": "markdown",
   "id": "ec0a1107",
   "metadata": {},
   "source": [
    "## 1. Combine SPAM crops' values"
   ]
  },
  {
   "cell_type": "markdown",
   "id": "e9a93494",
   "metadata": {},
   "source": [
    "#### Select only rainfed, low input crop values:"
   ]
  },
  {
   "cell_type": "code",
   "execution_count": 16,
   "id": "37ab027e",
   "metadata": {},
   "outputs": [
    {
     "name": "stdout",
     "output_type": "stream",
     "text": [
      "['spam2017V2r1_SSA_V_ACOF_L.tif', 'spam2017V2r1_SSA_V_BANA_L.tif', 'spam2017V2r1_SSA_V_BARL_L.tif', 'spam2017V2r1_SSA_V_BEAN_L.tif', 'spam2017V2r1_SSA_V_CASS_L.tif', 'spam2017V2r1_SSA_V_CHIC_L.tif', 'spam2017V2r1_SSA_V_CNUT_L.tif', 'spam2017V2r1_SSA_V_COCO_L.tif', 'spam2017V2r1_SSA_V_COTT_L.tif', 'spam2017V2r1_SSA_V_COWP_L.tif', 'spam2017V2r1_SSA_V_GROU_L.tif', 'spam2017V2r1_SSA_V_LENT_L.tif', 'spam2017V2r1_SSA_V_MAIZ_L.tif', 'spam2017V2r1_SSA_V_OCER_L.tif', 'spam2017V2r1_SSA_V_OFIB_L.tif', 'spam2017V2r1_SSA_V_OILP_L.tif', 'spam2017V2r1_SSA_V_OOIL_L.tif', 'spam2017V2r1_SSA_V_OPUL_L.tif', 'spam2017V2r1_SSA_V_ORTS_L.tif', 'spam2017V2r1_SSA_V_PIGE_L.tif', 'spam2017V2r1_SSA_V_PLNT_L.tif', 'spam2017V2r1_SSA_V_PMIL_L.tif', 'spam2017V2r1_SSA_V_POTA_L.tif', 'spam2017V2r1_SSA_V_RAPE_L.tif', 'spam2017V2r1_SSA_V_RCOF_L.tif', 'spam2017V2r1_SSA_V_REST_L.tif', 'spam2017V2r1_SSA_V_RICE_L.tif', 'spam2017V2r1_SSA_V_SESA_L.tif', 'spam2017V2r1_SSA_V_SMIL_L.tif', 'spam2017V2r1_SSA_V_SORG_L.tif', 'spam2017V2r1_SSA_V_SOYB_L.tif', 'spam2017V2r1_SSA_V_SUGB_L.tif', 'spam2017V2r1_SSA_V_SUGC_L.tif', 'spam2017V2r1_SSA_V_SUNF_L.tif', 'spam2017V2r1_SSA_V_SWPO_L.tif', 'spam2017V2r1_SSA_V_TEAS_L.tif', 'spam2017V2r1_SSA_V_TEMF_L.tif', 'spam2017V2r1_SSA_V_TOBA_L.tif', 'spam2017V2r1_SSA_V_TROF_L.tif', 'spam2017V2r1_SSA_V_VEGE_L.tif', 'spam2017V2r1_SSA_V_WHEA_L.tif', 'spam2017V2r1_SSA_V_YAMS_L.tif'] \n",
      "\n",
      "Number of crops:  42\n"
     ]
    }
   ],
   "source": [
    "SPAMcrops = []\n",
    "SPAMcrops = SPAMcrops + [i for i in os.listdir(''.join([ProjectFolder, r'/SPAM/SourceFiles/'])) if i.endswith('L.tif')]\n",
    "print(SPAMcrops, '\\n\\nNumber of crops: ', len(SPAMcrops))"
   ]
  },
  {
   "cell_type": "markdown",
   "id": "1c3c9360",
   "metadata": {},
   "source": [
    "#### Confirm all rasters are aligned"
   ]
  },
  {
   "cell_type": "code",
   "execution_count": 21,
   "id": "0393a5bc",
   "metadata": {},
   "outputs": [
    {
     "name": "stdout",
     "output_type": "stream",
     "text": [
      "spam2017V2r1_SSA_V_ACOF_L.tif : \n",
      " GEOGCS[\"WGS 84\",DATUM[\"WGS_1984\",SPHEROID[\"WGS 84\",6378137,298.257223563,AUTHORITY[\"EPSG\",\"7030\"]],AUTHORITY[\"EPSG\",\"6326\"]],PRIMEM[\"Greenwich\",0,AUTHORITY[\"EPSG\",\"8901\"]],UNIT[\"degree\",0.0174532925199433,AUTHORITY[\"EPSG\",\"9122\"]],AXIS[\"Latitude\",NORTH],AXIS[\"Longitude\",EAST],AUTHORITY[\"EPSG\",\"4326\"]] \n",
      " (-180.0, 0.083333, 0.0, 90.0, 0.0, -0.083333) \n",
      " 4320 \n",
      " 2160 \n",
      "\n",
      "spam2017V2r1_SSA_V_BANA_L.tif : \n",
      " GEOGCS[\"WGS 84\",DATUM[\"WGS_1984\",SPHEROID[\"WGS 84\",6378137,298.257223563,AUTHORITY[\"EPSG\",\"7030\"]],AUTHORITY[\"EPSG\",\"6326\"]],PRIMEM[\"Greenwich\",0,AUTHORITY[\"EPSG\",\"8901\"]],UNIT[\"degree\",0.0174532925199433,AUTHORITY[\"EPSG\",\"9122\"]],AXIS[\"Latitude\",NORTH],AXIS[\"Longitude\",EAST],AUTHORITY[\"EPSG\",\"4326\"]] \n",
      " (-180.0, 0.083333, 0.0, 90.0, 0.0, -0.083333) \n",
      " 4320 \n",
      " 2160 \n",
      "\n",
      "spam2017V2r1_SSA_V_BARL_L.tif : \n",
      " GEOGCS[\"WGS 84\",DATUM[\"WGS_1984\",SPHEROID[\"WGS 84\",6378137,298.257223563,AUTHORITY[\"EPSG\",\"7030\"]],AUTHORITY[\"EPSG\",\"6326\"]],PRIMEM[\"Greenwich\",0,AUTHORITY[\"EPSG\",\"8901\"]],UNIT[\"degree\",0.0174532925199433,AUTHORITY[\"EPSG\",\"9122\"]],AXIS[\"Latitude\",NORTH],AXIS[\"Longitude\",EAST],AUTHORITY[\"EPSG\",\"4326\"]] \n",
      " (-180.0, 0.083333, 0.0, 90.0, 0.0, -0.083333) \n",
      " 4320 \n",
      " 2160 \n",
      "\n",
      "spam2017V2r1_SSA_V_BEAN_L.tif : \n",
      " GEOGCS[\"WGS 84\",DATUM[\"WGS_1984\",SPHEROID[\"WGS 84\",6378137,298.257223563,AUTHORITY[\"EPSG\",\"7030\"]],AUTHORITY[\"EPSG\",\"6326\"]],PRIMEM[\"Greenwich\",0,AUTHORITY[\"EPSG\",\"8901\"]],UNIT[\"degree\",0.0174532925199433,AUTHORITY[\"EPSG\",\"9122\"]],AXIS[\"Latitude\",NORTH],AXIS[\"Longitude\",EAST],AUTHORITY[\"EPSG\",\"4326\"]] \n",
      " (-180.0, 0.083333, 0.0, 90.0, 0.0, -0.083333) \n",
      " 4320 \n",
      " 2160 \n",
      "\n",
      "spam2017V2r1_SSA_V_CASS_L.tif : \n",
      " GEOGCS[\"WGS 84\",DATUM[\"WGS_1984\",SPHEROID[\"WGS 84\",6378137,298.257223563,AUTHORITY[\"EPSG\",\"7030\"]],AUTHORITY[\"EPSG\",\"6326\"]],PRIMEM[\"Greenwich\",0,AUTHORITY[\"EPSG\",\"8901\"]],UNIT[\"degree\",0.0174532925199433,AUTHORITY[\"EPSG\",\"9122\"]],AXIS[\"Latitude\",NORTH],AXIS[\"Longitude\",EAST],AUTHORITY[\"EPSG\",\"4326\"]] \n",
      " (-180.0, 0.083333, 0.0, 90.0, 0.0, -0.083333) \n",
      " 4320 \n",
      " 2160 \n",
      "\n",
      "spam2017V2r1_SSA_V_CHIC_L.tif : \n",
      " GEOGCS[\"WGS 84\",DATUM[\"WGS_1984\",SPHEROID[\"WGS 84\",6378137,298.257223563,AUTHORITY[\"EPSG\",\"7030\"]],AUTHORITY[\"EPSG\",\"6326\"]],PRIMEM[\"Greenwich\",0,AUTHORITY[\"EPSG\",\"8901\"]],UNIT[\"degree\",0.0174532925199433,AUTHORITY[\"EPSG\",\"9122\"]],AXIS[\"Latitude\",NORTH],AXIS[\"Longitude\",EAST],AUTHORITY[\"EPSG\",\"4326\"]] \n",
      " (-180.0, 0.083333, 0.0, 90.0, 0.0, -0.083333) \n",
      " 4320 \n",
      " 2160 \n",
      "\n",
      "spam2017V2r1_SSA_V_CNUT_L.tif : \n",
      " GEOGCS[\"WGS 84\",DATUM[\"WGS_1984\",SPHEROID[\"WGS 84\",6378137,298.257223563,AUTHORITY[\"EPSG\",\"7030\"]],AUTHORITY[\"EPSG\",\"6326\"]],PRIMEM[\"Greenwich\",0,AUTHORITY[\"EPSG\",\"8901\"]],UNIT[\"degree\",0.0174532925199433,AUTHORITY[\"EPSG\",\"9122\"]],AXIS[\"Latitude\",NORTH],AXIS[\"Longitude\",EAST],AUTHORITY[\"EPSG\",\"4326\"]] \n",
      " (-180.0, 0.083333, 0.0, 90.0, 0.0, -0.083333) \n",
      " 4320 \n",
      " 2160 \n",
      "\n",
      "spam2017V2r1_SSA_V_COCO_L.tif : \n",
      " GEOGCS[\"WGS 84\",DATUM[\"WGS_1984\",SPHEROID[\"WGS 84\",6378137,298.257223563,AUTHORITY[\"EPSG\",\"7030\"]],AUTHORITY[\"EPSG\",\"6326\"]],PRIMEM[\"Greenwich\",0,AUTHORITY[\"EPSG\",\"8901\"]],UNIT[\"degree\",0.0174532925199433,AUTHORITY[\"EPSG\",\"9122\"]],AXIS[\"Latitude\",NORTH],AXIS[\"Longitude\",EAST],AUTHORITY[\"EPSG\",\"4326\"]] \n",
      " (-180.0, 0.083333, 0.0, 90.0, 0.0, -0.083333) \n",
      " 4320 \n",
      " 2160 \n",
      "\n",
      "spam2017V2r1_SSA_V_COTT_L.tif : \n",
      " GEOGCS[\"WGS 84\",DATUM[\"WGS_1984\",SPHEROID[\"WGS 84\",6378137,298.257223563,AUTHORITY[\"EPSG\",\"7030\"]],AUTHORITY[\"EPSG\",\"6326\"]],PRIMEM[\"Greenwich\",0,AUTHORITY[\"EPSG\",\"8901\"]],UNIT[\"degree\",0.0174532925199433,AUTHORITY[\"EPSG\",\"9122\"]],AXIS[\"Latitude\",NORTH],AXIS[\"Longitude\",EAST],AUTHORITY[\"EPSG\",\"4326\"]] \n",
      " (-180.0, 0.083333, 0.0, 90.0, 0.0, -0.083333) \n",
      " 4320 \n",
      " 2160 \n",
      "\n",
      "spam2017V2r1_SSA_V_COWP_L.tif : \n",
      " GEOGCS[\"WGS 84\",DATUM[\"WGS_1984\",SPHEROID[\"WGS 84\",6378137,298.257223563,AUTHORITY[\"EPSG\",\"7030\"]],AUTHORITY[\"EPSG\",\"6326\"]],PRIMEM[\"Greenwich\",0,AUTHORITY[\"EPSG\",\"8901\"]],UNIT[\"degree\",0.0174532925199433,AUTHORITY[\"EPSG\",\"9122\"]],AXIS[\"Latitude\",NORTH],AXIS[\"Longitude\",EAST],AUTHORITY[\"EPSG\",\"4326\"]] \n",
      " (-180.0, 0.083333, 0.0, 90.0, 0.0, -0.083333) \n",
      " 4320 \n",
      " 2160 \n",
      "\n",
      "spam2017V2r1_SSA_V_GROU_L.tif : \n",
      " GEOGCS[\"WGS 84\",DATUM[\"WGS_1984\",SPHEROID[\"WGS 84\",6378137,298.257223563,AUTHORITY[\"EPSG\",\"7030\"]],AUTHORITY[\"EPSG\",\"6326\"]],PRIMEM[\"Greenwich\",0,AUTHORITY[\"EPSG\",\"8901\"]],UNIT[\"degree\",0.0174532925199433,AUTHORITY[\"EPSG\",\"9122\"]],AXIS[\"Latitude\",NORTH],AXIS[\"Longitude\",EAST],AUTHORITY[\"EPSG\",\"4326\"]] \n",
      " (-180.0, 0.083333, 0.0, 90.0, 0.0, -0.083333) \n",
      " 4320 \n",
      " 2160 \n",
      "\n",
      "spam2017V2r1_SSA_V_LENT_L.tif : \n",
      " GEOGCS[\"WGS 84\",DATUM[\"WGS_1984\",SPHEROID[\"WGS 84\",6378137,298.257223563,AUTHORITY[\"EPSG\",\"7030\"]],AUTHORITY[\"EPSG\",\"6326\"]],PRIMEM[\"Greenwich\",0,AUTHORITY[\"EPSG\",\"8901\"]],UNIT[\"degree\",0.0174532925199433,AUTHORITY[\"EPSG\",\"9122\"]],AXIS[\"Latitude\",NORTH],AXIS[\"Longitude\",EAST],AUTHORITY[\"EPSG\",\"4326\"]] \n",
      " (-180.0, 0.083333, 0.0, 90.0, 0.0, -0.083333) \n",
      " 4320 \n",
      " 2160 \n",
      "\n",
      "spam2017V2r1_SSA_V_MAIZ_L.tif : \n",
      " GEOGCS[\"WGS 84\",DATUM[\"WGS_1984\",SPHEROID[\"WGS 84\",6378137,298.257223563,AUTHORITY[\"EPSG\",\"7030\"]],AUTHORITY[\"EPSG\",\"6326\"]],PRIMEM[\"Greenwich\",0,AUTHORITY[\"EPSG\",\"8901\"]],UNIT[\"degree\",0.0174532925199433,AUTHORITY[\"EPSG\",\"9122\"]],AXIS[\"Latitude\",NORTH],AXIS[\"Longitude\",EAST],AUTHORITY[\"EPSG\",\"4326\"]] \n",
      " (-180.0, 0.083333, 0.0, 90.0, 0.0, -0.083333) \n",
      " 4320 \n",
      " 2160 \n",
      "\n",
      "spam2017V2r1_SSA_V_OCER_L.tif : \n",
      " GEOGCS[\"WGS 84\",DATUM[\"WGS_1984\",SPHEROID[\"WGS 84\",6378137,298.257223563,AUTHORITY[\"EPSG\",\"7030\"]],AUTHORITY[\"EPSG\",\"6326\"]],PRIMEM[\"Greenwich\",0,AUTHORITY[\"EPSG\",\"8901\"]],UNIT[\"degree\",0.0174532925199433,AUTHORITY[\"EPSG\",\"9122\"]],AXIS[\"Latitude\",NORTH],AXIS[\"Longitude\",EAST],AUTHORITY[\"EPSG\",\"4326\"]] \n",
      " (-180.0, 0.083333, 0.0, 90.0, 0.0, -0.083333) \n",
      " 4320 \n",
      " 2160 \n",
      "\n",
      "spam2017V2r1_SSA_V_OFIB_L.tif : \n",
      " GEOGCS[\"WGS 84\",DATUM[\"WGS_1984\",SPHEROID[\"WGS 84\",6378137,298.257223563,AUTHORITY[\"EPSG\",\"7030\"]],AUTHORITY[\"EPSG\",\"6326\"]],PRIMEM[\"Greenwich\",0,AUTHORITY[\"EPSG\",\"8901\"]],UNIT[\"degree\",0.0174532925199433,AUTHORITY[\"EPSG\",\"9122\"]],AXIS[\"Latitude\",NORTH],AXIS[\"Longitude\",EAST],AUTHORITY[\"EPSG\",\"4326\"]] \n",
      " (-180.0, 0.083333, 0.0, 90.0, 0.0, -0.083333) \n",
      " 4320 \n",
      " 2160 \n",
      "\n",
      "spam2017V2r1_SSA_V_OILP_L.tif : \n",
      " GEOGCS[\"WGS 84\",DATUM[\"WGS_1984\",SPHEROID[\"WGS 84\",6378137,298.257223563,AUTHORITY[\"EPSG\",\"7030\"]],AUTHORITY[\"EPSG\",\"6326\"]],PRIMEM[\"Greenwich\",0,AUTHORITY[\"EPSG\",\"8901\"]],UNIT[\"degree\",0.0174532925199433,AUTHORITY[\"EPSG\",\"9122\"]],AXIS[\"Latitude\",NORTH],AXIS[\"Longitude\",EAST],AUTHORITY[\"EPSG\",\"4326\"]] \n",
      " (-180.0, 0.083333, 0.0, 90.0, 0.0, -0.083333) \n",
      " 4320 \n",
      " 2160 \n",
      "\n",
      "spam2017V2r1_SSA_V_OOIL_L.tif : \n",
      " GEOGCS[\"WGS 84\",DATUM[\"WGS_1984\",SPHEROID[\"WGS 84\",6378137,298.257223563,AUTHORITY[\"EPSG\",\"7030\"]],AUTHORITY[\"EPSG\",\"6326\"]],PRIMEM[\"Greenwich\",0,AUTHORITY[\"EPSG\",\"8901\"]],UNIT[\"degree\",0.0174532925199433,AUTHORITY[\"EPSG\",\"9122\"]],AXIS[\"Latitude\",NORTH],AXIS[\"Longitude\",EAST],AUTHORITY[\"EPSG\",\"4326\"]] \n",
      " (-180.0, 0.083333, 0.0, 90.0, 0.0, -0.083333) \n",
      " 4320 \n",
      " 2160 \n",
      "\n",
      "spam2017V2r1_SSA_V_OPUL_L.tif : \n",
      " GEOGCS[\"WGS 84\",DATUM[\"WGS_1984\",SPHEROID[\"WGS 84\",6378137,298.257223563,AUTHORITY[\"EPSG\",\"7030\"]],AUTHORITY[\"EPSG\",\"6326\"]],PRIMEM[\"Greenwich\",0,AUTHORITY[\"EPSG\",\"8901\"]],UNIT[\"degree\",0.0174532925199433,AUTHORITY[\"EPSG\",\"9122\"]],AXIS[\"Latitude\",NORTH],AXIS[\"Longitude\",EAST],AUTHORITY[\"EPSG\",\"4326\"]] \n",
      " (-180.0, 0.083333, 0.0, 90.0, 0.0, -0.083333) \n",
      " 4320 \n",
      " 2160 \n",
      "\n",
      "spam2017V2r1_SSA_V_ORTS_L.tif : \n",
      " GEOGCS[\"WGS 84\",DATUM[\"WGS_1984\",SPHEROID[\"WGS 84\",6378137,298.257223563,AUTHORITY[\"EPSG\",\"7030\"]],AUTHORITY[\"EPSG\",\"6326\"]],PRIMEM[\"Greenwich\",0,AUTHORITY[\"EPSG\",\"8901\"]],UNIT[\"degree\",0.0174532925199433,AUTHORITY[\"EPSG\",\"9122\"]],AXIS[\"Latitude\",NORTH],AXIS[\"Longitude\",EAST],AUTHORITY[\"EPSG\",\"4326\"]] \n",
      " (-180.0, 0.083333, 0.0, 90.0, 0.0, -0.083333) \n",
      " 4320 \n",
      " 2160 \n",
      "\n",
      "spam2017V2r1_SSA_V_PIGE_L.tif : \n",
      " GEOGCS[\"WGS 84\",DATUM[\"WGS_1984\",SPHEROID[\"WGS 84\",6378137,298.257223563,AUTHORITY[\"EPSG\",\"7030\"]],AUTHORITY[\"EPSG\",\"6326\"]],PRIMEM[\"Greenwich\",0,AUTHORITY[\"EPSG\",\"8901\"]],UNIT[\"degree\",0.0174532925199433,AUTHORITY[\"EPSG\",\"9122\"]],AXIS[\"Latitude\",NORTH],AXIS[\"Longitude\",EAST],AUTHORITY[\"EPSG\",\"4326\"]] \n",
      " (-180.0, 0.083333, 0.0, 90.0, 0.0, -0.083333) \n",
      " 4320 \n",
      " 2160 \n",
      "\n",
      "spam2017V2r1_SSA_V_PLNT_L.tif : \n",
      " GEOGCS[\"WGS 84\",DATUM[\"WGS_1984\",SPHEROID[\"WGS 84\",6378137,298.257223563,AUTHORITY[\"EPSG\",\"7030\"]],AUTHORITY[\"EPSG\",\"6326\"]],PRIMEM[\"Greenwich\",0,AUTHORITY[\"EPSG\",\"8901\"]],UNIT[\"degree\",0.0174532925199433,AUTHORITY[\"EPSG\",\"9122\"]],AXIS[\"Latitude\",NORTH],AXIS[\"Longitude\",EAST],AUTHORITY[\"EPSG\",\"4326\"]] \n",
      " (-180.0, 0.083333, 0.0, 90.0, 0.0, -0.083333) \n",
      " 4320 \n",
      " 2160 \n",
      "\n",
      "spam2017V2r1_SSA_V_PMIL_L.tif : \n",
      " GEOGCS[\"WGS 84\",DATUM[\"WGS_1984\",SPHEROID[\"WGS 84\",6378137,298.257223563,AUTHORITY[\"EPSG\",\"7030\"]],AUTHORITY[\"EPSG\",\"6326\"]],PRIMEM[\"Greenwich\",0,AUTHORITY[\"EPSG\",\"8901\"]],UNIT[\"degree\",0.0174532925199433,AUTHORITY[\"EPSG\",\"9122\"]],AXIS[\"Latitude\",NORTH],AXIS[\"Longitude\",EAST],AUTHORITY[\"EPSG\",\"4326\"]] \n",
      " (-180.0, 0.083333, 0.0, 90.0, 0.0, -0.083333) \n",
      " 4320 \n",
      " 2160 \n",
      "\n"
     ]
    },
    {
     "name": "stdout",
     "output_type": "stream",
     "text": [
      "spam2017V2r1_SSA_V_POTA_L.tif : \n",
      " GEOGCS[\"WGS 84\",DATUM[\"WGS_1984\",SPHEROID[\"WGS 84\",6378137,298.257223563,AUTHORITY[\"EPSG\",\"7030\"]],AUTHORITY[\"EPSG\",\"6326\"]],PRIMEM[\"Greenwich\",0,AUTHORITY[\"EPSG\",\"8901\"]],UNIT[\"degree\",0.0174532925199433,AUTHORITY[\"EPSG\",\"9122\"]],AXIS[\"Latitude\",NORTH],AXIS[\"Longitude\",EAST],AUTHORITY[\"EPSG\",\"4326\"]] \n",
      " (-180.0, 0.083333, 0.0, 90.0, 0.0, -0.083333) \n",
      " 4320 \n",
      " 2160 \n",
      "\n",
      "spam2017V2r1_SSA_V_RAPE_L.tif : \n",
      " GEOGCS[\"WGS 84\",DATUM[\"WGS_1984\",SPHEROID[\"WGS 84\",6378137,298.257223563,AUTHORITY[\"EPSG\",\"7030\"]],AUTHORITY[\"EPSG\",\"6326\"]],PRIMEM[\"Greenwich\",0,AUTHORITY[\"EPSG\",\"8901\"]],UNIT[\"degree\",0.0174532925199433,AUTHORITY[\"EPSG\",\"9122\"]],AXIS[\"Latitude\",NORTH],AXIS[\"Longitude\",EAST],AUTHORITY[\"EPSG\",\"4326\"]] \n",
      " (-180.0, 0.083333, 0.0, 90.0, 0.0, -0.083333) \n",
      " 4320 \n",
      " 2160 \n",
      "\n",
      "spam2017V2r1_SSA_V_RCOF_L.tif : \n",
      " GEOGCS[\"WGS 84\",DATUM[\"WGS_1984\",SPHEROID[\"WGS 84\",6378137,298.257223563,AUTHORITY[\"EPSG\",\"7030\"]],AUTHORITY[\"EPSG\",\"6326\"]],PRIMEM[\"Greenwich\",0,AUTHORITY[\"EPSG\",\"8901\"]],UNIT[\"degree\",0.0174532925199433,AUTHORITY[\"EPSG\",\"9122\"]],AXIS[\"Latitude\",NORTH],AXIS[\"Longitude\",EAST],AUTHORITY[\"EPSG\",\"4326\"]] \n",
      " (-180.0, 0.083333, 0.0, 90.0, 0.0, -0.083333) \n",
      " 4320 \n",
      " 2160 \n",
      "\n",
      "spam2017V2r1_SSA_V_REST_L.tif : \n",
      " GEOGCS[\"WGS 84\",DATUM[\"WGS_1984\",SPHEROID[\"WGS 84\",6378137,298.257223563,AUTHORITY[\"EPSG\",\"7030\"]],AUTHORITY[\"EPSG\",\"6326\"]],PRIMEM[\"Greenwich\",0,AUTHORITY[\"EPSG\",\"8901\"]],UNIT[\"degree\",0.0174532925199433,AUTHORITY[\"EPSG\",\"9122\"]],AXIS[\"Latitude\",NORTH],AXIS[\"Longitude\",EAST],AUTHORITY[\"EPSG\",\"4326\"]] \n",
      " (-180.0, 0.083333, 0.0, 90.0, 0.0, -0.083333) \n",
      " 4320 \n",
      " 2160 \n",
      "\n",
      "spam2017V2r1_SSA_V_RICE_L.tif : \n",
      " GEOGCS[\"WGS 84\",DATUM[\"WGS_1984\",SPHEROID[\"WGS 84\",6378137,298.257223563,AUTHORITY[\"EPSG\",\"7030\"]],AUTHORITY[\"EPSG\",\"6326\"]],PRIMEM[\"Greenwich\",0,AUTHORITY[\"EPSG\",\"8901\"]],UNIT[\"degree\",0.0174532925199433,AUTHORITY[\"EPSG\",\"9122\"]],AXIS[\"Latitude\",NORTH],AXIS[\"Longitude\",EAST],AUTHORITY[\"EPSG\",\"4326\"]] \n",
      " (-180.0, 0.083333, 0.0, 90.0, 0.0, -0.083333) \n",
      " 4320 \n",
      " 2160 \n",
      "\n",
      "spam2017V2r1_SSA_V_SESA_L.tif : \n",
      " GEOGCS[\"WGS 84\",DATUM[\"WGS_1984\",SPHEROID[\"WGS 84\",6378137,298.257223563,AUTHORITY[\"EPSG\",\"7030\"]],AUTHORITY[\"EPSG\",\"6326\"]],PRIMEM[\"Greenwich\",0,AUTHORITY[\"EPSG\",\"8901\"]],UNIT[\"degree\",0.0174532925199433,AUTHORITY[\"EPSG\",\"9122\"]],AXIS[\"Latitude\",NORTH],AXIS[\"Longitude\",EAST],AUTHORITY[\"EPSG\",\"4326\"]] \n",
      " (-180.0, 0.083333, 0.0, 90.0, 0.0, -0.083333) \n",
      " 4320 \n",
      " 2160 \n",
      "\n",
      "spam2017V2r1_SSA_V_SMIL_L.tif : \n",
      " GEOGCS[\"WGS 84\",DATUM[\"WGS_1984\",SPHEROID[\"WGS 84\",6378137,298.257223563,AUTHORITY[\"EPSG\",\"7030\"]],AUTHORITY[\"EPSG\",\"6326\"]],PRIMEM[\"Greenwich\",0,AUTHORITY[\"EPSG\",\"8901\"]],UNIT[\"degree\",0.0174532925199433,AUTHORITY[\"EPSG\",\"9122\"]],AXIS[\"Latitude\",NORTH],AXIS[\"Longitude\",EAST],AUTHORITY[\"EPSG\",\"4326\"]] \n",
      " (-180.0, 0.083333, 0.0, 90.0, 0.0, -0.083333) \n",
      " 4320 \n",
      " 2160 \n",
      "\n",
      "spam2017V2r1_SSA_V_SORG_L.tif : \n",
      " GEOGCS[\"WGS 84\",DATUM[\"WGS_1984\",SPHEROID[\"WGS 84\",6378137,298.257223563,AUTHORITY[\"EPSG\",\"7030\"]],AUTHORITY[\"EPSG\",\"6326\"]],PRIMEM[\"Greenwich\",0,AUTHORITY[\"EPSG\",\"8901\"]],UNIT[\"degree\",0.0174532925199433,AUTHORITY[\"EPSG\",\"9122\"]],AXIS[\"Latitude\",NORTH],AXIS[\"Longitude\",EAST],AUTHORITY[\"EPSG\",\"4326\"]] \n",
      " (-180.0, 0.083333, 0.0, 90.0, 0.0, -0.083333) \n",
      " 4320 \n",
      " 2160 \n",
      "\n",
      "spam2017V2r1_SSA_V_SOYB_L.tif : \n",
      " GEOGCS[\"WGS 84\",DATUM[\"WGS_1984\",SPHEROID[\"WGS 84\",6378137,298.257223563,AUTHORITY[\"EPSG\",\"7030\"]],AUTHORITY[\"EPSG\",\"6326\"]],PRIMEM[\"Greenwich\",0,AUTHORITY[\"EPSG\",\"8901\"]],UNIT[\"degree\",0.0174532925199433,AUTHORITY[\"EPSG\",\"9122\"]],AXIS[\"Latitude\",NORTH],AXIS[\"Longitude\",EAST],AUTHORITY[\"EPSG\",\"4326\"]] \n",
      " (-180.0, 0.083333, 0.0, 90.0, 0.0, -0.083333) \n",
      " 4320 \n",
      " 2160 \n",
      "\n",
      "spam2017V2r1_SSA_V_SUGB_L.tif : \n",
      " GEOGCS[\"WGS 84\",DATUM[\"WGS_1984\",SPHEROID[\"WGS 84\",6378137,298.257223563,AUTHORITY[\"EPSG\",\"7030\"]],AUTHORITY[\"EPSG\",\"6326\"]],PRIMEM[\"Greenwich\",0,AUTHORITY[\"EPSG\",\"8901\"]],UNIT[\"degree\",0.0174532925199433,AUTHORITY[\"EPSG\",\"9122\"]],AXIS[\"Latitude\",NORTH],AXIS[\"Longitude\",EAST],AUTHORITY[\"EPSG\",\"4326\"]] \n",
      " (-180.0, 0.083333, 0.0, 90.0, 0.0, -0.083333) \n",
      " 4320 \n",
      " 2160 \n",
      "\n",
      "spam2017V2r1_SSA_V_SUGC_L.tif : \n",
      " GEOGCS[\"WGS 84\",DATUM[\"WGS_1984\",SPHEROID[\"WGS 84\",6378137,298.257223563,AUTHORITY[\"EPSG\",\"7030\"]],AUTHORITY[\"EPSG\",\"6326\"]],PRIMEM[\"Greenwich\",0,AUTHORITY[\"EPSG\",\"8901\"]],UNIT[\"degree\",0.0174532925199433,AUTHORITY[\"EPSG\",\"9122\"]],AXIS[\"Latitude\",NORTH],AXIS[\"Longitude\",EAST],AUTHORITY[\"EPSG\",\"4326\"]] \n",
      " (-180.0, 0.083333, 0.0, 90.0, 0.0, -0.083333) \n",
      " 4320 \n",
      " 2160 \n",
      "\n",
      "spam2017V2r1_SSA_V_SUNF_L.tif : \n",
      " GEOGCS[\"WGS 84\",DATUM[\"WGS_1984\",SPHEROID[\"WGS 84\",6378137,298.257223563,AUTHORITY[\"EPSG\",\"7030\"]],AUTHORITY[\"EPSG\",\"6326\"]],PRIMEM[\"Greenwich\",0,AUTHORITY[\"EPSG\",\"8901\"]],UNIT[\"degree\",0.0174532925199433,AUTHORITY[\"EPSG\",\"9122\"]],AXIS[\"Latitude\",NORTH],AXIS[\"Longitude\",EAST],AUTHORITY[\"EPSG\",\"4326\"]] \n",
      " (-180.0, 0.083333, 0.0, 90.0, 0.0, -0.083333) \n",
      " 4320 \n",
      " 2160 \n",
      "\n",
      "spam2017V2r1_SSA_V_SWPO_L.tif : \n",
      " GEOGCS[\"WGS 84\",DATUM[\"WGS_1984\",SPHEROID[\"WGS 84\",6378137,298.257223563,AUTHORITY[\"EPSG\",\"7030\"]],AUTHORITY[\"EPSG\",\"6326\"]],PRIMEM[\"Greenwich\",0,AUTHORITY[\"EPSG\",\"8901\"]],UNIT[\"degree\",0.0174532925199433,AUTHORITY[\"EPSG\",\"9122\"]],AXIS[\"Latitude\",NORTH],AXIS[\"Longitude\",EAST],AUTHORITY[\"EPSG\",\"4326\"]] \n",
      " (-180.0, 0.083333, 0.0, 90.0, 0.0, -0.083333) \n",
      " 4320 \n",
      " 2160 \n",
      "\n",
      "spam2017V2r1_SSA_V_TEAS_L.tif : \n",
      " GEOGCS[\"WGS 84\",DATUM[\"WGS_1984\",SPHEROID[\"WGS 84\",6378137,298.257223563,AUTHORITY[\"EPSG\",\"7030\"]],AUTHORITY[\"EPSG\",\"6326\"]],PRIMEM[\"Greenwich\",0,AUTHORITY[\"EPSG\",\"8901\"]],UNIT[\"degree\",0.0174532925199433,AUTHORITY[\"EPSG\",\"9122\"]],AXIS[\"Latitude\",NORTH],AXIS[\"Longitude\",EAST],AUTHORITY[\"EPSG\",\"4326\"]] \n",
      " (-180.0, 0.083333, 0.0, 90.0, 0.0, -0.083333) \n",
      " 4320 \n",
      " 2160 \n",
      "\n",
      "spam2017V2r1_SSA_V_TEMF_L.tif : \n",
      " GEOGCS[\"WGS 84\",DATUM[\"WGS_1984\",SPHEROID[\"WGS 84\",6378137,298.257223563,AUTHORITY[\"EPSG\",\"7030\"]],AUTHORITY[\"EPSG\",\"6326\"]],PRIMEM[\"Greenwich\",0,AUTHORITY[\"EPSG\",\"8901\"]],UNIT[\"degree\",0.0174532925199433,AUTHORITY[\"EPSG\",\"9122\"]],AXIS[\"Latitude\",NORTH],AXIS[\"Longitude\",EAST],AUTHORITY[\"EPSG\",\"4326\"]] \n",
      " (-180.0, 0.083333, 0.0, 90.0, 0.0, -0.083333) \n",
      " 4320 \n",
      " 2160 \n",
      "\n",
      "spam2017V2r1_SSA_V_TOBA_L.tif : \n",
      " GEOGCS[\"WGS 84\",DATUM[\"WGS_1984\",SPHEROID[\"WGS 84\",6378137,298.257223563,AUTHORITY[\"EPSG\",\"7030\"]],AUTHORITY[\"EPSG\",\"6326\"]],PRIMEM[\"Greenwich\",0,AUTHORITY[\"EPSG\",\"8901\"]],UNIT[\"degree\",0.0174532925199433,AUTHORITY[\"EPSG\",\"9122\"]],AXIS[\"Latitude\",NORTH],AXIS[\"Longitude\",EAST],AUTHORITY[\"EPSG\",\"4326\"]] \n",
      " (-180.0, 0.083333, 0.0, 90.0, 0.0, -0.083333) \n",
      " 4320 \n",
      " 2160 \n",
      "\n",
      "spam2017V2r1_SSA_V_TROF_L.tif : \n",
      " GEOGCS[\"WGS 84\",DATUM[\"WGS_1984\",SPHEROID[\"WGS 84\",6378137,298.257223563,AUTHORITY[\"EPSG\",\"7030\"]],AUTHORITY[\"EPSG\",\"6326\"]],PRIMEM[\"Greenwich\",0,AUTHORITY[\"EPSG\",\"8901\"]],UNIT[\"degree\",0.0174532925199433,AUTHORITY[\"EPSG\",\"9122\"]],AXIS[\"Latitude\",NORTH],AXIS[\"Longitude\",EAST],AUTHORITY[\"EPSG\",\"4326\"]] \n",
      " (-180.0, 0.083333, 0.0, 90.0, 0.0, -0.083333) \n",
      " 4320 \n",
      " 2160 \n",
      "\n",
      "spam2017V2r1_SSA_V_VEGE_L.tif : \n",
      " GEOGCS[\"WGS 84\",DATUM[\"WGS_1984\",SPHEROID[\"WGS 84\",6378137,298.257223563,AUTHORITY[\"EPSG\",\"7030\"]],AUTHORITY[\"EPSG\",\"6326\"]],PRIMEM[\"Greenwich\",0,AUTHORITY[\"EPSG\",\"8901\"]],UNIT[\"degree\",0.0174532925199433,AUTHORITY[\"EPSG\",\"9122\"]],AXIS[\"Latitude\",NORTH],AXIS[\"Longitude\",EAST],AUTHORITY[\"EPSG\",\"4326\"]] \n",
      " (-180.0, 0.083333, 0.0, 90.0, 0.0, -0.083333) \n",
      " 4320 \n",
      " 2160 \n",
      "\n",
      "spam2017V2r1_SSA_V_WHEA_L.tif : \n",
      " GEOGCS[\"WGS 84\",DATUM[\"WGS_1984\",SPHEROID[\"WGS 84\",6378137,298.257223563,AUTHORITY[\"EPSG\",\"7030\"]],AUTHORITY[\"EPSG\",\"6326\"]],PRIMEM[\"Greenwich\",0,AUTHORITY[\"EPSG\",\"8901\"]],UNIT[\"degree\",0.0174532925199433,AUTHORITY[\"EPSG\",\"9122\"]],AXIS[\"Latitude\",NORTH],AXIS[\"Longitude\",EAST],AUTHORITY[\"EPSG\",\"4326\"]] \n",
      " (-180.0, 0.083333, 0.0, 90.0, 0.0, -0.083333) \n",
      " 4320 \n",
      " 2160 \n",
      "\n",
      "spam2017V2r1_SSA_V_YAMS_L.tif : \n",
      " GEOGCS[\"WGS 84\",DATUM[\"WGS_1984\",SPHEROID[\"WGS 84\",6378137,298.257223563,AUTHORITY[\"EPSG\",\"7030\"]],AUTHORITY[\"EPSG\",\"6326\"]],PRIMEM[\"Greenwich\",0,AUTHORITY[\"EPSG\",\"8901\"]],UNIT[\"degree\",0.0174532925199433,AUTHORITY[\"EPSG\",\"9122\"]],AXIS[\"Latitude\",NORTH],AXIS[\"Longitude\",EAST],AUTHORITY[\"EPSG\",\"4326\"]] \n",
      " (-180.0, 0.083333, 0.0, 90.0, 0.0, -0.083333) \n",
      " 4320 \n",
      " 2160 \n",
      "\n"
     ]
    }
   ],
   "source": [
    "for Crop in SPAMcrops:\n",
    "    RasterPath = os.path.join(ProjectFolder, 'SPAM/SourceFiles', Crop)\n",
    "    [Match_x, Match_y, Match_geo, Match_proj, Match_Z] = readRaster(RasterPath)\n",
    "    print(Crop, ': \\n', \n",
    "      Match_proj, '\\n', Match_geo, '\\n', Match_x, '\\n', Match_y, '\\n')"
   ]
  },
  {
   "cell_type": "code",
   "execution_count": 19,
   "id": "69f3a364",
   "metadata": {},
   "outputs": [
    {
     "name": "stdout",
     "output_type": "stream",
     "text": [
      "\n",
      " [{'raster': 'Q:/GIS/povertyequity/mauritania/Agro_MRT/SPAM/spam2017V2r1_SSA_V_ACOF_L.tif', 'bands': 1, 'data type': ('float32',), 'no data value': (-1.0,), 'width': 4320, 'height': 2160, 'min': -1.0, 'mean': 26.176563, 'median': -1.0, 'max': 2427903.5}]\n",
      "\n",
      " [{'raster': 'Q:/GIS/povertyequity/mauritania/Agro_MRT/SPAM/spam2017V2r1_SSA_V_BANA_L.tif', 'bands': 1, 'data type': ('float32',), 'no data value': (-1.0,), 'width': 4320, 'height': 2160, 'min': -1.0, 'mean': 118.348076, 'median': -1.0, 'max': 20895364.0}]\n",
      "\n",
      " [{'raster': 'Q:/GIS/povertyequity/mauritania/Agro_MRT/SPAM/spam2017V2r1_SSA_V_BARL_L.tif', 'bands': 1, 'data type': ('float32',), 'no data value': (-1.0,), 'width': 4320, 'height': 2160, 'min': -1.0, 'mean': 4.9961658, 'median': -1.0, 'max': 401078.0}]\n",
      "\n",
      " [{'raster': 'Q:/GIS/povertyequity/mauritania/Agro_MRT/SPAM/spam2017V2r1_SSA_V_BEAN_L.tif', 'bands': 1, 'data type': ('float32',), 'no data value': (-1.0,), 'width': 4320, 'height': 2160, 'min': -1.0, 'mean': 159.24501, 'median': -1.0, 'max': 9533403.0}]\n",
      "\n",
      " [{'raster': 'Q:/GIS/povertyequity/mauritania/Agro_MRT/SPAM/spam2017V2r1_SSA_V_CASS_L.tif', 'bands': 1, 'data type': ('float32',), 'no data value': (-1.0,), 'width': 4320, 'height': 2160, 'min': -1.0, 'mean': 409.17505, 'median': -1.0, 'max': 12097065.0}]\n",
      "\n",
      " [{'raster': 'Q:/GIS/povertyequity/mauritania/Agro_MRT/SPAM/spam2017V2r1_SSA_V_CHIC_L.tif', 'bands': 1, 'data type': ('float32',), 'no data value': (-1.0,), 'width': 4320, 'height': 2160, 'min': -1.0, 'mean': 7.4003053, 'median': -1.0, 'max': 829038.0}]\n",
      "\n",
      " [{'raster': 'Q:/GIS/povertyequity/mauritania/Agro_MRT/SPAM/spam2017V2r1_SSA_V_CNUT_L.tif', 'bands': 1, 'data type': ('float32',), 'no data value': (-1.0,), 'width': 4320, 'height': 2160, 'min': -1.0, 'mean': 12.45838, 'median': -1.0, 'max': 961898.9}]\n",
      "\n",
      " [{'raster': 'Q:/GIS/povertyequity/mauritania/Agro_MRT/SPAM/spam2017V2r1_SSA_V_COCO_L.tif', 'bands': 1, 'data type': ('float32',), 'no data value': (-1.0,), 'width': 4320, 'height': 2160, 'min': -1.0, 'mean': 327.7178, 'median': -1.0, 'max': 9149994.0}]\n",
      "\n",
      " [{'raster': 'Q:/GIS/povertyequity/mauritania/Agro_MRT/SPAM/spam2017V2r1_SSA_V_COTT_L.tif', 'bands': 1, 'data type': ('float32',), 'no data value': (-1.0,), 'width': 4320, 'height': 2160, 'min': -1.0, 'mean': 157.52437, 'median': -1.0, 'max': 4358530.5}]\n",
      "\n",
      " [{'raster': 'Q:/GIS/povertyequity/mauritania/Agro_MRT/SPAM/spam2017V2r1_SSA_V_COWP_L.tif', 'bands': 1, 'data type': ('float32',), 'no data value': (-1.0,), 'width': 4320, 'height': 2160, 'min': -1.0, 'mean': 46.457504, 'median': -1.0, 'max': 461122.0}]\n",
      "\n",
      " [{'raster': 'Q:/GIS/povertyequity/mauritania/Agro_MRT/SPAM/spam2017V2r1_SSA_V_GROU_L.tif', 'bands': 1, 'data type': ('float32',), 'no data value': (-1.0,), 'width': 4320, 'height': 2160, 'min': -1.0, 'mean': 148.93684, 'median': -1.0, 'max': 2512657.8}]\n",
      "\n",
      " [{'raster': 'Q:/GIS/povertyequity/mauritania/Agro_MRT/SPAM/spam2017V2r1_SSA_V_LENT_L.tif', 'bands': 1, 'data type': ('float32',), 'no data value': (-1.0,), 'width': 4320, 'height': 2160, 'min': -1.0, 'mean': 0.96178883, 'median': -1.0, 'max': 386822.5}]\n",
      "\n",
      " [{'raster': 'Q:/GIS/povertyequity/mauritania/Agro_MRT/SPAM/spam2017V2r1_SSA_V_MAIZ_L.tif', 'bands': 1, 'data type': ('float32',), 'no data value': (-1.0,), 'width': 4320, 'height': 2160, 'min': -1.0, 'mean': 295.85568, 'median': -1.0, 'max': 4908855.0}]\n",
      "\n",
      " [{'raster': 'Q:/GIS/povertyequity/mauritania/Agro_MRT/SPAM/spam2017V2r1_SSA_V_OCER_L.tif', 'bands': 1, 'data type': ('float32',), 'no data value': (-1.0,), 'width': 4320, 'height': 2160, 'min': -1.0, 'mean': 48.379696, 'median': -1.0, 'max': 3809608.2}]\n",
      "\n",
      " [{'raster': 'Q:/GIS/povertyequity/mauritania/Agro_MRT/SPAM/spam2017V2r1_SSA_V_OFIB_L.tif', 'bands': 1, 'data type': ('float32',), 'no data value': (-1.0,), 'width': 4320, 'height': 2160, 'min': -1.0, 'mean': 6.0976405, 'median': -1.0, 'max': 1003179.5}]\n",
      "\n",
      " [{'raster': 'Q:/GIS/povertyequity/mauritania/Agro_MRT/SPAM/spam2017V2r1_SSA_V_OILP_L.tif', 'bands': 1, 'data type': ('float32',), 'no data value': (-1.0,), 'width': 4320, 'height': 2160, 'min': -1.0, 'mean': 38.71199, 'median': -1.0, 'max': 2646711.5}]\n",
      "\n",
      " [{'raster': 'Q:/GIS/povertyequity/mauritania/Agro_MRT/SPAM/spam2017V2r1_SSA_V_OOIL_L.tif', 'bands': 1, 'data type': ('float32',), 'no data value': (-1.0,), 'width': 4320, 'height': 2160, 'min': -1.0, 'mean': 32.403572, 'median': -1.0, 'max': 780406.9}]\n",
      "\n",
      " [{'raster': 'Q:/GIS/povertyequity/mauritania/Agro_MRT/SPAM/spam2017V2r1_SSA_V_OPUL_L.tif', 'bands': 1, 'data type': ('float32',), 'no data value': (-1.0,), 'width': 4320, 'height': 2160, 'min': -1.0, 'mean': 35.7215, 'median': -1.0, 'max': 1776453.2}]\n",
      "\n",
      " [{'raster': 'Q:/GIS/povertyequity/mauritania/Agro_MRT/SPAM/spam2017V2r1_SSA_V_ORTS_L.tif', 'bands': 1, 'data type': ('float32',), 'no data value': (-1.0,), 'width': 4320, 'height': 2160, 'min': -1.0, 'mean': 141.40018, 'median': -1.0, 'max': 37131110.0}]\n",
      "\n",
      " [{'raster': 'Q:/GIS/povertyequity/mauritania/Agro_MRT/SPAM/spam2017V2r1_SSA_V_PIGE_L.tif', 'bands': 1, 'data type': ('float32',), 'no data value': (-1.0,), 'width': 4320, 'height': 2160, 'min': -1.0, 'mean': 12.602716, 'median': -1.0, 'max': 574538.3}]\n",
      "\n",
      " [{'raster': 'Q:/GIS/povertyequity/mauritania/Agro_MRT/SPAM/spam2017V2r1_SSA_V_PLNT_L.tif', 'bands': 1, 'data type': ('float32',), 'no data value': (-1.0,), 'width': 4320, 'height': 2160, 'min': -1.0, 'mean': 230.0989, 'median': -1.0, 'max': 10618811.0}]\n",
      "\n",
      " [{'raster': 'Q:/GIS/povertyequity/mauritania/Agro_MRT/SPAM/spam2017V2r1_SSA_V_PMIL_L.tif', 'bands': 1, 'data type': ('float32',), 'no data value': (-1.0,), 'width': 4320, 'height': 2160, 'min': -1.0, 'mean': 64.19799, 'median': -1.0, 'max': 612118.3}]\n",
      "\n",
      " [{'raster': 'Q:/GIS/povertyequity/mauritania/Agro_MRT/SPAM/spam2017V2r1_SSA_V_POTA_L.tif', 'bands': 1, 'data type': ('float32',), 'no data value': (-1.0,), 'width': 4320, 'height': 2160, 'min': -1.0, 'mean': 84.661705, 'median': -1.0, 'max': 9646562.0}]\n",
      "\n",
      " [{'raster': 'Q:/GIS/povertyequity/mauritania/Agro_MRT/SPAM/spam2017V2r1_SSA_V_RAPE_L.tif', 'bands': 1, 'data type': ('float32',), 'no data value': (-1.0,), 'width': 4320, 'height': 2160, 'min': -1.0, 'mean': 3.6819358, 'median': -1.0, 'max': 392619.4}]\n",
      "\n",
      " [{'raster': 'Q:/GIS/povertyequity/mauritania/Agro_MRT/SPAM/spam2017V2r1_SSA_V_RCOF_L.tif', 'bands': 1, 'data type': ('float32',), 'no data value': (-1.0,), 'width': 4320, 'height': 2160, 'min': -1.0, 'mean': 32.143764, 'median': -1.0, 'max': 1991678.6}]\n",
      "\n",
      " [{'raster': 'Q:/GIS/povertyequity/mauritania/Agro_MRT/SPAM/spam2017V2r1_SSA_V_REST_L.tif', 'bands': 1, 'data type': ('float32',), 'no data value': (-1.0,), 'width': 4320, 'height': 2160, 'min': -1.0, 'mean': 135.88385, 'median': -1.0, 'max': 3786918.0}]\n",
      "\n",
      " [{'raster': 'Q:/GIS/povertyequity/mauritania/Agro_MRT/SPAM/spam2017V2r1_SSA_V_RICE_L.tif', 'bands': 1, 'data type': ('float32',), 'no data value': (-1.0,), 'width': 4320, 'height': 2160, 'min': -1.0, 'mean': 194.20654, 'median': -1.0, 'max': 2269420.5}]\n",
      "\n",
      " [{'raster': 'Q:/GIS/povertyequity/mauritania/Agro_MRT/SPAM/spam2017V2r1_SSA_V_SESA_L.tif', 'bands': 1, 'data type': ('float32',), 'no data value': (-1.0,), 'width': 4320, 'height': 2160, 'min': -1.0, 'mean': 112.27696, 'median': -1.0, 'max': 7233253.5}]\n",
      "\n",
      " [{'raster': 'Q:/GIS/povertyequity/mauritania/Agro_MRT/SPAM/spam2017V2r1_SSA_V_SMIL_L.tif', 'bands': 1, 'data type': ('float32',), 'no data value': (-1.0,), 'width': 4320, 'height': 2160, 'min': -1.0, 'mean': 10.041575, 'median': -1.0, 'max': 4329271.0}]\n",
      "\n",
      " [{'raster': 'Q:/GIS/povertyequity/mauritania/Agro_MRT/SPAM/spam2017V2r1_SSA_V_SORG_L.tif', 'bands': 1, 'data type': ('float32',), 'no data value': (-1.0,), 'width': 4320, 'height': 2160, 'min': -1.0, 'mean': 87.62319, 'median': -1.0, 'max': 1038922.9}]\n",
      "\n",
      " [{'raster': 'Q:/GIS/povertyequity/mauritania/Agro_MRT/SPAM/spam2017V2r1_SSA_V_SOYB_L.tif', 'bands': 1, 'data type': ('float32',), 'no data value': (-1.0,), 'width': 4320, 'height': 2160, 'min': -1.0, 'mean': 53.078495, 'median': -1.0, 'max': 1481156.5}]\n",
      "\n",
      " [{'raster': 'Q:/GIS/povertyequity/mauritania/Agro_MRT/SPAM/spam2017V2r1_SSA_V_SUGB_L.tif', 'bands': 1, 'data type': ('float32',), 'no data value': (-1.0,), 'width': 4320, 'height': 2160, 'min': -1.0, 'mean': -0.9483541, 'median': -1.0, 'max': 1461.4}]\n",
      "\n",
      " [{'raster': 'Q:/GIS/povertyequity/mauritania/Agro_MRT/SPAM/spam2017V2r1_SSA_V_SUGC_L.tif', 'bands': 1, 'data type': ('float32',), 'no data value': (-1.0,), 'width': 4320, 'height': 2160, 'min': -1.0, 'mean': 54.175423, 'median': -1.0, 'max': 4791682.0}]\n",
      "\n",
      " [{'raster': 'Q:/GIS/povertyequity/mauritania/Agro_MRT/SPAM/spam2017V2r1_SSA_V_SUNF_L.tif', 'bands': 1, 'data type': ('float32',), 'no data value': (-1.0,), 'width': 4320, 'height': 2160, 'min': -1.0, 'mean': 40.073837, 'median': -1.0, 'max': 680021.5}]\n"
     ]
    },
    {
     "name": "stdout",
     "output_type": "stream",
     "text": [
      "\n",
      " [{'raster': 'Q:/GIS/povertyequity/mauritania/Agro_MRT/SPAM/spam2017V2r1_SSA_V_SWPO_L.tif', 'bands': 1, 'data type': ('float32',), 'no data value': (-1.0,), 'width': 4320, 'height': 2160, 'min': -1.0, 'mean': 94.754364, 'median': -1.0, 'max': 3342256.8}]\n",
      "\n",
      " [{'raster': 'Q:/GIS/povertyequity/mauritania/Agro_MRT/SPAM/spam2017V2r1_SSA_V_TEAS_L.tif', 'bands': 1, 'data type': ('float32',), 'no data value': (-1.0,), 'width': 4320, 'height': 2160, 'min': -1.0, 'mean': 39.98859, 'median': -1.0, 'max': 7224164.0}]\n",
      "\n",
      " [{'raster': 'Q:/GIS/povertyequity/mauritania/Agro_MRT/SPAM/spam2017V2r1_SSA_V_TEMF_L.tif', 'bands': 1, 'data type': ('float32',), 'no data value': (-1.0,), 'width': 4320, 'height': 2160, 'min': -1.0, 'mean': 115.583115, 'median': -1.0, 'max': 14821220.0}]\n",
      "\n",
      " [{'raster': 'Q:/GIS/povertyequity/mauritania/Agro_MRT/SPAM/spam2017V2r1_SSA_V_TOBA_L.tif', 'bands': 1, 'data type': ('float32',), 'no data value': (-1.0,), 'width': 4320, 'height': 2160, 'min': -1.0, 'mean': 36.577988, 'median': -1.0, 'max': 664207.7}]\n",
      "\n",
      " [{'raster': 'Q:/GIS/povertyequity/mauritania/Agro_MRT/SPAM/spam2017V2r1_SSA_V_TROF_L.tif', 'bands': 1, 'data type': ('float32',), 'no data value': (-1.0,), 'width': 4320, 'height': 2160, 'min': -1.0, 'mean': 579.11163, 'median': -1.0, 'max': 18325912.0}]\n",
      "\n",
      " [{'raster': 'Q:/GIS/povertyequity/mauritania/Agro_MRT/SPAM/spam2017V2r1_SSA_V_VEGE_L.tif', 'bands': 1, 'data type': ('float32',), 'no data value': (-1.0,), 'width': 4320, 'height': 2160, 'min': -1.0, 'mean': 231.92233, 'median': -1.0, 'max': 11501271.0}]\n",
      "\n",
      " [{'raster': 'Q:/GIS/povertyequity/mauritania/Agro_MRT/SPAM/spam2017V2r1_SSA_V_WHEA_L.tif', 'bands': 1, 'data type': ('float32',), 'no data value': (-1.0,), 'width': 4320, 'height': 2160, 'min': -1.0, 'mean': 30.203041, 'median': -1.0, 'max': 1719998.5}]\n",
      "\n",
      " [{'raster': 'Q:/GIS/povertyequity/mauritania/Agro_MRT/SPAM/spam2017V2r1_SSA_V_YAMS_L.tif', 'bands': 1, 'data type': ('float32',), 'no data value': (-1.0,), 'width': 4320, 'height': 2160, 'min': -1.0, 'mean': 836.4146, 'median': -1.0, 'max': 13689663.0}]\n"
     ]
    }
   ],
   "source": [
    "for Crop in SPAMcrops:\n",
    "    RasterPath = os.path.join(ProjectFolder, 'SPAM/SourceFiles', Crop)\n",
    "    rioStats(RasterPath)"
   ]
  },
  {
   "cell_type": "markdown",
   "id": "345e353a",
   "metadata": {},
   "source": [
    "#### Rename value of production rasters for ease of use in gdal_calc"
   ]
  },
  {
   "cell_type": "code",
   "execution_count": 52,
   "id": "d7891d6a",
   "metadata": {},
   "outputs": [],
   "source": [
    "SimplifyFileNames(SPAMcrops, os.path.join(ProjectFolder, 'SPAM/SourceFiles'))"
   ]
  },
  {
   "cell_type": "code",
   "execution_count": 54,
   "id": "47a31ccf",
   "metadata": {},
   "outputs": [
    {
     "name": "stdout",
     "output_type": "stream",
     "text": [
      "['Crop1.tif', 'Crop10.tif', 'Crop11.tif', 'Crop12.tif', 'Crop13.tif', 'Crop14.tif', 'Crop15.tif', 'Crop16.tif', 'Crop17.tif', 'Crop18.tif', 'Crop19.tif', 'Crop2.tif', 'Crop20.tif', 'Crop21.tif', 'Crop22.tif', 'Crop23.tif', 'Crop24.tif', 'Crop25.tif', 'Crop26.tif', 'Crop27.tif', 'Crop28.tif', 'Crop29.tif', 'Crop3.tif', 'Crop30.tif', 'Crop31.tif', 'Crop32.tif', 'Crop33.tif', 'Crop34.tif', 'Crop35.tif', 'Crop36.tif', 'Crop37.tif', 'Crop38.tif', 'Crop39.tif', 'Crop4.tif', 'Crop40.tif', 'Crop41.tif', 'Crop42.tif', 'Crop5.tif', 'Crop6.tif', 'Crop7.tif', 'Crop8.tif', 'Crop9.tif'] \n",
      "\n",
      "Number of crops:  42\n"
     ]
    }
   ],
   "source": [
    "SPAMcrops = []\n",
    "SPAMcrops = SPAMcrops + [i for i in os.listdir(''.join([ProjectFolder, r'/SPAM/SourceFiles/'])) if i.startswith('Crop')]\n",
    "print(SPAMcrops, '\\n\\nNumber of crops: ', len(SPAMcrops))"
   ]
  },
  {
   "cell_type": "markdown",
   "id": "2efe5b38",
   "metadata": {},
   "source": [
    "#### Run gdal_calc in batches to avoid overload."
   ]
  },
  {
   "cell_type": "code",
   "execution_count": 59,
   "id": "7e913096",
   "metadata": {},
   "outputs": [
    {
     "name": "stdout",
     "output_type": "stream",
     "text": [
      "Running for Q:\\GIS\\povertyequity\\mauritania\\Agro_MRT\\SPAM\\Crop1.tif. Fri Feb 24 19:12:47 2023\n",
      "Ran in shell. See OutFile folder to inspect results. Fri Feb 24 19:12:54 2023\n",
      "Running for Q:\\GIS\\povertyequity\\mauritania\\Agro_MRT\\SPAM\\Crop8.tif. Fri Feb 24 19:12:54 2023\n",
      "Ran in shell. See OutFile folder to inspect results. Fri Feb 24 19:13:01 2023\n",
      "Running for Q:\\GIS\\povertyequity\\mauritania\\Agro_MRT\\SPAM\\Crop15.tif. Fri Feb 24 19:13:01 2023\n",
      "Ran in shell. See OutFile folder to inspect results. Fri Feb 24 19:13:07 2023\n",
      "Running for Q:\\GIS\\povertyequity\\mauritania\\Agro_MRT\\SPAM\\Crop22.tif. Fri Feb 24 19:13:07 2023\n",
      "Ran in shell. See OutFile folder to inspect results. Fri Feb 24 19:13:14 2023\n",
      "Running for Q:\\GIS\\povertyequity\\mauritania\\Agro_MRT\\SPAM\\Crop29.tif. Fri Feb 24 19:13:14 2023\n",
      "Ran in shell. See OutFile folder to inspect results. Fri Feb 24 19:13:21 2023\n",
      "Running for Q:\\GIS\\povertyequity\\mauritania\\Agro_MRT\\SPAM\\Crop36.tif. Fri Feb 24 19:13:21 2023\n",
      "Ran in shell. See OutFile folder to inspect results. Fri Feb 24 19:13:28 2023\n"
     ]
    }
   ],
   "source": [
    "i = 1\n",
    "Calc = 'A+B+C+D+E+F+G'\n",
    "\n",
    "while i < 43:\n",
    "    C1 = os.path.join(ProjectFolder, 'SPAM/SourceFiles', ''.join(['Crop', str(i), '.tif']))\n",
    "    C2 = os.path.join(ProjectFolder, 'SPAM/SourceFiles', ''.join(['Crop', str(i+1), '.tif']))\n",
    "    C3 = os.path.join(ProjectFolder, 'SPAM/SourceFiles', ''.join(['Crop', str(i+2), '.tif']))\n",
    "    C4 = os.path.join(ProjectFolder, 'SPAM/SourceFiles', ''.join(['Crop', str(i+3), '.tif']))\n",
    "    C5 = os.path.join(ProjectFolder, 'SPAM/SourceFiles', ''.join(['Crop', str(i+4), '.tif']))\n",
    "    C6 = os.path.join(ProjectFolder, 'SPAM/SourceFiles', ''.join(['Crop', str(i+5), '.tif']))\n",
    "    C7 = os.path.join(ProjectFolder, 'SPAM/SourceFiles', ''.join(['Crop', str(i+6), '.tif']))\n",
    "    OutName = ''.join(['Subset', str(i), 'to', str(i+6), '.tif'])\n",
    "    calcShell(A=C1, B=C2, C=C3, D=C4, E=C5, F=C6, G=C7, \n",
    "              OutFile = os.path.join(ProjectFolder, 'SPAM', OutName), \n",
    "              Calculation = Calc)\n",
    "    i += 7"
   ]
  },
  {
   "cell_type": "code",
   "execution_count": 83,
   "id": "f4e5d659",
   "metadata": {},
   "outputs": [
    {
     "data": {
      "text/plain": [
       "['Subset15to21.tif',\n",
       " 'Subset1to7.tif',\n",
       " 'Subset22to28.tif',\n",
       " 'Subset29to35.tif',\n",
       " 'Subset36to42.tif',\n",
       " 'Subset8to14.tif']"
      ]
     },
     "execution_count": 83,
     "metadata": {},
     "output_type": "execute_result"
    }
   ],
   "source": [
    "SPAMcrops = []\n",
    "SPAMcrops = SPAMcrops + [i for i in os.listdir(''.join([ProjectFolder, r'/SPAM/'])) if i.startswith('Subset')]\n",
    "SPAMcrops"
   ]
  },
  {
   "cell_type": "markdown",
   "id": "e774bf0f",
   "metadata": {},
   "source": [
    "#### Add the batches together for final total"
   ]
  },
  {
   "cell_type": "code",
   "execution_count": 84,
   "id": "cc080345",
   "metadata": {},
   "outputs": [
    {
     "name": "stdout",
     "output_type": "stream",
     "text": [
      "Running for Q:\\GIS\\povertyequity\\mauritania\\Agro_MRT\\SPAM\\Subset15to21.tif. Sat Feb 25 12:05:13 2023\n",
      "Ran in shell. See OutFile folder to inspect results. Sat Feb 25 12:05:20 2023\n"
     ]
    }
   ],
   "source": [
    "Calc = 'A+B+C+D+E+F'\n",
    "\n",
    "C1 = os.path.join(ProjectFolder, 'SPAM', SPAMcrops[0])\n",
    "C2 = os.path.join(ProjectFolder, 'SPAM', SPAMcrops[1])\n",
    "C3 = os.path.join(ProjectFolder, 'SPAM', SPAMcrops[2])\n",
    "C4 = os.path.join(ProjectFolder, 'SPAM', SPAMcrops[3])\n",
    "C5 = os.path.join(ProjectFolder, 'SPAM', SPAMcrops[4])\n",
    "C6 = os.path.join(ProjectFolder, 'SPAM', SPAMcrops[5])\n",
    "OutName = 'SPAM_ProdVal_2017.tif'\n",
    "calcShell(A=C1, B=C2, C=C3, D=C4, E=C5, F=C6, \n",
    "          OutFile = os.path.join(ProjectFolder, 'SPAM', OutName), \n",
    "          Calculation = Calc)"
   ]
  },
  {
   "cell_type": "markdown",
   "id": "2b3fff21",
   "metadata": {},
   "source": [
    "#### I get into a lot of issues if I'm not in WGS84 for some of these functions. Quick warp."
   ]
  },
  {
   "cell_type": "code",
   "execution_count": 101,
   "id": "d620e0f7",
   "metadata": {},
   "outputs": [
    {
     "name": "stdout",
     "output_type": "stream",
     "text": [
      "Finished gdal.Warp(). Sat Feb 25 12:21:00 2023 \n",
      "\n"
     ]
    }
   ],
   "source": [
    "ProjSRS = osr.SpatialReference()\n",
    "ProjSRS.SetFromUserInput('EPSG:4326')\n",
    "ProjWarp = gdal.WarpOptions(dstSRS = 'EPSG:4326')\n",
    "\n",
    "InputRasterObject = gdal.Open('SPAM/SPAM_ProdVal_2017.tif')\n",
    "OutputRasterPath = 'SPAM/SPAM_ProdVal_2017_WGS84.tif'\n",
    "SourceSRS = osr.SpatialReference(wkt=InputRasterObject.GetProjection())\n",
    "\n",
    "Warp = gdal.Warp(OutputRasterPath, # Where to store the warped raster\n",
    "             InputRasterObject, # Which raster to warp\n",
    "             format='GTiff', \n",
    "             options=ProjWarp) \n",
    "print('Finished gdal.Warp(). %s \\n' % (time.ctime()))\n",
    "\n",
    "Warp = None # Close the files\n",
    "\n",
    "InputRasterObject = OutputRasterPath = None"
   ]
  },
  {
   "cell_type": "markdown",
   "id": "c6f02b09",
   "metadata": {},
   "source": [
    "#### Before masking, make sure the NoData value is what we want."
   ]
  },
  {
   "cell_type": "code",
   "execution_count": 102,
   "id": "d5714c5d",
   "metadata": {},
   "outputs": [
    {
     "name": "stdout",
     "output_type": "stream",
     "text": [
      "\n",
      " [{'raster': 'Q:/GIS/povertyequity/mauritania/Agro_MRT/SPAM/SPAM_ProdVal_2017_WGS84.tif', 'bands': 1, 'data type': ('float32',), 'no data value': (3.4028234663852886e+38,), 'width': 4320, 'height': 2160, 'min': nan, 'mean': nan, 'median': nan, 'max': nan}]\n"
     ]
    }
   ],
   "source": [
    "RasterPath = os.path.join(ProjectFolder, 'SPAM', 'SPAM_ProdVal_2017_WGS84.tif')\n",
    "rioStats(RasterPath)"
   ]
  },
  {
   "cell_type": "code",
   "execution_count": 103,
   "id": "af855ae5",
   "metadata": {},
   "outputs": [
    {
     "name": "stdout",
     "output_type": "stream",
     "text": [
      "4320 2160 (-180.0, 0.08333333333333333, 0.0, 90.0, 0.0, -0.083333) GEOGCS[\"WGS 84\",DATUM[\"WGS_1984\",SPHEROID[\"WGS 84\",6378137,298.257223563,AUTHORITY[\"EPSG\",\"7030\"]],AUTHORITY[\"EPSG\",\"6326\"]],PRIMEM[\"Greenwich\",0,AUTHORITY[\"EPSG\",\"8901\"]],UNIT[\"degree\",0.0174532925199433,AUTHORITY[\"EPSG\",\"9122\"]],AXIS[\"Latitude\",NORTH],AXIS[\"Longitude\",EAST],AUTHORITY[\"EPSG\",\"4326\"]] [[nan nan nan ... nan nan nan]\n",
      " [nan nan nan ... nan nan nan]\n",
      " [nan nan nan ... nan nan nan]\n",
      " ...\n",
      " [nan nan nan ... nan nan nan]\n",
      " [nan nan nan ... nan nan nan]\n",
      " [nan nan nan ... nan nan nan]]\n"
     ]
    }
   ],
   "source": [
    "[xsize,ysize,geotransform,geoproj,Z] = readRaster('SPAM/SPAM_ProdVal_2017_WGS84.tif')\n",
    "print(xsize, ysize, geotransform, geoproj, Z)"
   ]
  },
  {
   "cell_type": "code",
   "execution_count": 104,
   "id": "7aa5d273",
   "metadata": {},
   "outputs": [
    {
     "name": "stdout",
     "output_type": "stream",
     "text": [
      "Nan values:  9186874 \n",
      "\n",
      "Numeric values:  144326\n"
     ]
    }
   ],
   "source": [
    "print('Nan values: ', np.count_nonzero(np.isnan(Z)), '\\n')\n",
    "print('Numeric values: ', np.count_nonzero(~np.isnan(Z)))"
   ]
  },
  {
   "cell_type": "code",
   "execution_count": 105,
   "id": "1cd9acd0",
   "metadata": {},
   "outputs": [
    {
     "name": "stdout",
     "output_type": "stream",
     "text": [
      "[[0. 0. 0. ... 0. 0. 0.]\n",
      " [0. 0. 0. ... 0. 0. 0.]\n",
      " [0. 0. 0. ... 0. 0. 0.]\n",
      " ...\n",
      " [0. 0. 0. ... 0. 0. 0.]\n",
      " [0. 0. 0. ... 0. 0. 0.]\n",
      " [0. 0. 0. ... 0. 0. 0.]]\n"
     ]
    }
   ],
   "source": [
    "N = np.nan_to_num(Z)\n",
    "print(N)"
   ]
  },
  {
   "cell_type": "code",
   "execution_count": 106,
   "id": "6251a9cd",
   "metadata": {},
   "outputs": [
    {
     "name": "stdout",
     "output_type": "stream",
     "text": [
      "[  2268.4     8687.2   198659.5     1241.1     1883.1      642.\n",
      "   1027.1     3222.2     2311.2     1069.9    18886.5    17877.4\n",
      "  64844.5    17877.4     1284.      1284.      2439.5     1284.\n",
      "    747.6    13429.101]\n"
     ]
    }
   ],
   "source": [
    "print(N[N>0][:20]) # Print first 20 values that are not 0."
   ]
  },
  {
   "cell_type": "code",
   "execution_count": 95,
   "id": "6491940f",
   "metadata": {},
   "outputs": [],
   "source": [
    "N = N.astype('uint32')"
   ]
  },
  {
   "cell_type": "code",
   "execution_count": 109,
   "id": "13682424",
   "metadata": {},
   "outputs": [
    {
     "data": {
      "text/plain": [
       "1"
      ]
     },
     "execution_count": 109,
     "metadata": {},
     "output_type": "execute_result"
    }
   ],
   "source": [
    "writeRaster('SPAM/TotVal/SPAM_ProdVal_2017_v2.tif',geotransform,geoproj,N, NoDataVal=0) "
   ]
  },
  {
   "cell_type": "markdown",
   "id": "e01ace59",
   "metadata": {},
   "source": [
    "#### Crop to country"
   ]
  },
  {
   "cell_type": "code",
   "execution_count": 68,
   "id": "0f951c22",
   "metadata": {},
   "outputs": [
    {
     "name": "stdout",
     "output_type": "stream",
     "text": [
      "['SPAM_ProdVal_2017.tif']\n",
      "Source projection:  None\n",
      "Destination projection:  None\n",
      "We skipped the warp, so we continue to use the source file.\n",
      "Finished rasterio.mask.mask() for SPAM_ProdVal_2017.tif. Sat Feb 25 11:39:12 2023 \n",
      "\n",
      "Written to file. Sat Feb 25 11:39:12 2023 \n",
      "\n",
      "\n",
      " \n",
      " Finished all items in list. Sat Feb 25 11:39:12 2023\n"
     ]
    }
   ],
   "source": [
    "MaskByZone(MaskPath='ADM/MRT_ADM0.shp', SourceFolder='SPAM/TotVal', DestFolder='SPAM', dstSRS = 'ESRI:102022')"
   ]
  },
  {
   "cell_type": "code",
   "execution_count": null,
   "id": "f71919d2",
   "metadata": {},
   "outputs": [],
   "source": []
  },
  {
   "cell_type": "code",
   "execution_count": null,
   "id": "134ab935",
   "metadata": {},
   "outputs": [],
   "source": []
  },
  {
   "cell_type": "markdown",
   "id": "3e5591ac",
   "metadata": {},
   "source": [
    "## 2. Convert SPAM agricultural value to polygon"
   ]
  },
  {
   "cell_type": "code",
   "execution_count": 69,
   "id": "cd5464cc",
   "metadata": {},
   "outputs": [
    {
     "name": "stdout",
     "output_type": "stream",
     "text": [
      "\n",
      " [{'raster': 'Q:/GIS/povertyequity/mauritania/Agro_MRT/SPAM/Msk_SPAM_ProdVal_2017.tif', 'bands': 1, 'data type': ('float32',), 'no data value': (3.4028234663852886e+38,), 'width': 148, 'height': 152, 'min': nan, 'mean': nan, 'median': nan, 'max': nan}]\n"
     ]
    },
    {
     "name": "stderr",
     "output_type": "stream",
     "text": [
      "C:\\Users\\grace\\miniconda3\\envs\\geo\\lib\\site-packages\\numpy\\core\\_methods.py:180: RuntimeWarning: overflow encountered in reduce\n",
      "  ret = umr_sum(arr, axis, dtype, out, keepdims, where=where)\n"
     ]
    }
   ],
   "source": [
    "RasterPath = os.path.join(ProjectFolder, 'SPAM', 'Msk_SPAM_ProdVal_2017.tif')\n",
    "rioStats(RasterPath)"
   ]
  },
  {
   "cell_type": "code",
   "execution_count": 61,
   "id": "2f52fe87",
   "metadata": {
    "scrolled": true
   },
   "outputs": [
    {
     "name": "stdout",
     "output_type": "stream",
     "text": [
      "152 164 (-4407004.614664944, 8471.910742119699, 0.0, 3080913.283621446, 0.0, -8471.910742119699) PROJCS[\"Africa_Albers_Equal_Area_Conic\",GEOGCS[\"WGS 84\",DATUM[\"WGS_1984\",SPHEROID[\"WGS 84\",6378137,298.257223563,AUTHORITY[\"EPSG\",\"7030\"]],AUTHORITY[\"EPSG\",\"6326\"]],PRIMEM[\"Greenwich\",0],UNIT[\"degree\",0.0174532925199433,AUTHORITY[\"EPSG\",\"9122\"]],AUTHORITY[\"EPSG\",\"4326\"]],PROJECTION[\"Albers_Conic_Equal_Area\"],PARAMETER[\"latitude_of_center\",0],PARAMETER[\"longitude_of_center\",25],PARAMETER[\"standard_parallel_1\",20],PARAMETER[\"standard_parallel_2\",-23],PARAMETER[\"false_easting\",0],PARAMETER[\"false_northing\",0],UNIT[\"metre\",1,AUTHORITY[\"EPSG\",\"9001\"]],AXIS[\"Easting\",EAST],AXIS[\"Northing\",NORTH]] [[3.4028235e+38 3.4028235e+38 3.4028235e+38 ... 3.4028235e+38\n",
      "  3.4028235e+38 3.4028235e+38]\n",
      " [3.4028235e+38 3.4028235e+38 3.4028235e+38 ... 3.4028235e+38\n",
      "  3.4028235e+38 3.4028235e+38]\n",
      " [3.4028235e+38 3.4028235e+38 3.4028235e+38 ... 3.4028235e+38\n",
      "  3.4028235e+38 3.4028235e+38]\n",
      " ...\n",
      " [3.4028235e+38 3.4028235e+38 3.4028235e+38 ... 3.4028235e+38\n",
      "  3.4028235e+38 3.4028235e+38]\n",
      " [3.4028235e+38 3.4028235e+38 3.4028235e+38 ... 3.4028235e+38\n",
      "  3.4028235e+38 3.4028235e+38]\n",
      " [3.4028235e+38 3.4028235e+38 3.4028235e+38 ... 3.4028235e+38\n",
      "  3.4028235e+38 3.4028235e+38]]\n"
     ]
    }
   ],
   "source": [
    "[xsize,ysize,geotransform,geoproj,Z] = readRaster('SPAM/Msk_SPAM_ProdVal_2017.tif')\n",
    "print(xsize, ysize, geotransform, geoproj, Z)"
   ]
  },
  {
   "cell_type": "code",
   "execution_count": 62,
   "id": "d87e33ae",
   "metadata": {},
   "outputs": [
    {
     "name": "stdout",
     "output_type": "stream",
     "text": [
      "float32\n"
     ]
    }
   ],
   "source": [
    "print(Z.dtype)"
   ]
  },
  {
   "cell_type": "code",
   "execution_count": 63,
   "id": "b8ef4bcb",
   "metadata": {},
   "outputs": [
    {
     "name": "stdout",
     "output_type": "stream",
     "text": [
      "[3.4028235e+38 3.4028235e+38 3.4028235e+38 ... 3.4028235e+38 3.4028235e+38\n",
      " 3.4028235e+38]\n"
     ]
    }
   ],
   "source": [
    "print(Z[Z>0])"
   ]
  },
  {
   "cell_type": "code",
   "execution_count": 58,
   "id": "d3146266",
   "metadata": {},
   "outputs": [
    {
     "name": "stdout",
     "output_type": "stream",
     "text": [
      "uint32\n",
      "[[0 0 0 ... 0 0 0]\n",
      " [0 0 0 ... 0 0 0]\n",
      " [0 0 0 ... 0 0 0]\n",
      " ...\n",
      " [0 0 0 ... 0 0 0]\n",
      " [0 0 0 ... 0 0 0]\n",
      " [0 0 0 ... 0 0 0]]\n"
     ]
    }
   ],
   "source": [
    "Z = Z.astype('uint32')\n",
    "print(Z.dtype)\n",
    "print(Z)"
   ]
  },
  {
   "cell_type": "code",
   "execution_count": 59,
   "id": "1e26f04b",
   "metadata": {},
   "outputs": [
    {
     "name": "stdout",
     "output_type": "stream",
     "text": [
      "[  2268   8687   8687   1241   1883    642   1027   2311   1069   1284\n",
      "   1284   2439   2439   1284   2311   1284   1284   2576   2311   3353\n",
      "   2576   2311   1711   2311   1284   2439    642   2439   2576   2439\n",
      "   6641   8870   2311   1284   2439   2439   2896   1284   2667   6504\n",
      "  13300   2311   2311   2311   2576   3754   2311   1284   1284   1284\n",
      "   4495   2439   2454   2745   2311   2684   2592   4769   2439   1069\n",
      "   2896   2896   2804  14452   2439   2643   5068   2516   2454   2439\n",
      "   1711   3444   2576   2868   4618   2439   1284   1711   1711   1284\n",
      "   5363   2896   6139   2439   2439   2439    856    856   1284   5363\n",
      "   2896   6139   2439   3982   2311   1069   1711   4074   3982   2140\n",
      "   2987   1284   2353    214   4819   2576   5043   1069   2353   3486\n",
      "   4358   4632   2896   1284   2353   1284   2353   6413   3845   2140\n",
      "   1284   1284   9291  17092   2439    385   2576   2439   1284   2439\n",
      "   6322   2439  16817   1284   2759    770   2353   3855   3444   2439\n",
      "   3353   2439   3982  12021   8870   2759   1284    214   2896   2439\n",
      "   4495   2759   3216    856   3216  11884   2353   1284   1284   1284\n",
      "   3353   2439   3216   2576   1925   2576   1284   2759   2353   1284\n",
      "  20426   1284   1284   2353   2759   2439 139136  48341  18682  18682\n",
      " 419089 419089 421552 139496 139496 160232  26520 160232  31607  17548\n",
      "  18582     30  20197   8052   4609    856  20197   2396   2439   2439\n",
      "  19156  35288  13720 249497    138   5839 501586   2439  77437  12593\n",
      "  42793  32721  25522  41030 309886 304280 257882 258913 237579 407062\n",
      "   1492 141159   2439 130899  10781   2439   2439   2439   2439   4449\n",
      "  77437  12593  42793  32721  25522  41030  34132 275431   2439   1455\n",
      " 274566  31667 154760  12262  30772  42482  40508 127435  14157    199\n",
      "  75316  75316  13760  16514    199     61   2713   1455   3837   3883\n",
      "  62221  27845     61   2439   2439   2783   2439  35260   2439   2439\n",
      "   2439   2439   7002   2439 119049    245   6202   5436   5436   3635\n",
      "  80397   2870   2439   2439   5621   5130 399405 399405   6570   2439\n",
      "   2439   3288   2439 522058 358322   2439   2439  10646  35407   2473\n",
      "   2439   2229   2439   5131   2439   5948   2485   2439  14173   2439\n",
      "    428   2439   2439   1498   3939    214   4779   5124   2439   2454\n",
      "   2439  14173   2439   9108   6322 157503 185588   1069   2439 202780\n",
      " 198103 115454  33457  15044  69923  59614  59614  65747  20914  40628\n",
      "  24566   2439  73818  68358 136982  77452   2439   2439   3905  20159\n",
      "  49093   2439   2439   2439   2439   2439   9108   6322 157503 205413\n",
      " 107628 206667  41098  52425 318922 337916 262278 335001 335589 266955\n",
      " 275824 275824 126301 106396  82554 191390 103017  12252  43374   5351\n",
      "   2439   2439   2439  28241  82810  43631 135802 134071  77629   7424\n",
      "  14215  11484  52606  10796    642   7297   4247   3704   5888 106722\n",
      "   7376  35849   2439   2439   2439 127319 232499 141321 197934 205413\n",
      " 107628 206667  41098  52425 318922 337916 262278 394991 216573 151816\n",
      " 151816 134563 116738 119408 173905 127428 110520  28384  61056 114778\n",
      " 231084 139769  14978  75728  74483  22251  39845  33656  72767  41904\n",
      "   3268   2439   2439   4109  13823   9476   2439   5060   3402   8044\n",
      "   2439   2439   8635   4405   1968 198751 159021   7476 218323  81657\n",
      " 107284 227337  11796 101384 297240 346785 273507   2439 107230 261280\n",
      " 179717 225425 262879   9492  93440 234550 239249 327218 394991 216573\n",
      " 151816 151816 134563 116738 119408 173905 127428 213764 108845 199607\n",
      " 215314 243659   5060   3402   8044   2439   2439   2439   1455   1455\n",
      "   1455   2700   1498   2396   2439  17195 232694  77833  33291 253297\n",
      " 212791 117954   2439  21144  11657   2823  12594   2439   2439   9768\n",
      "  50360  59344  48783 111734   4457   2439  21144 204624 103337  92428\n",
      "  92428   2473   2439    898  33553 103337 103337   2439   2396  26349\n",
      " 107763 341045   2439   2439   1069   3640  22716 123758   2439   2439\n",
      "   2439  51669  93007  27423  30852  32507   2439  23669  62621 108578\n",
      " 102877  31844  72133  53900  74701  26815   5742  10993   9912  51039\n",
      " 104820  16354  14573  50410  45126  22500 204564]\n"
     ]
    }
   ],
   "source": [
    "print(Z[Z>0])"
   ]
  },
  {
   "cell_type": "code",
   "execution_count": 43,
   "id": "dcf4008d",
   "metadata": {},
   "outputs": [
    {
     "data": {
      "text/plain": [
       "array([[0, 0, 0, ..., 0, 0, 0],\n",
       "       [0, 0, 0, ..., 0, 0, 0],\n",
       "       [0, 0, 0, ..., 0, 0, 0],\n",
       "       ...,\n",
       "       [0, 0, 0, ..., 0, 0, 0],\n",
       "       [0, 0, 0, ..., 0, 0, 0],\n",
       "       [0, 0, 0, ..., 0, 0, 0]], dtype=uint32)"
      ]
     },
     "execution_count": 43,
     "metadata": {},
     "output_type": "execute_result"
    }
   ],
   "source": [
    "# N = np.where(Z<0, 0, Z)\n",
    "# N"
   ]
  },
  {
   "cell_type": "code",
   "execution_count": 54,
   "id": "24e6c867",
   "metadata": {},
   "outputs": [],
   "source": [
    "# N = np.multiply(N, 100, where=(N>0))\n",
    "# #N = N.astype('uint64')"
   ]
  },
  {
   "cell_type": "code",
   "execution_count": 55,
   "id": "50e8fc6e",
   "metadata": {},
   "outputs": [
    {
     "data": {
      "text/plain": [
       "array([ 623964176,        600,  559020848, ..., 2139095039, 2139095039,\n",
       "       2139095039], dtype=uint32)"
      ]
     },
     "execution_count": 55,
     "metadata": {},
     "output_type": "execute_result"
    }
   ],
   "source": [
    "# N[N>0]"
   ]
  },
  {
   "cell_type": "code",
   "execution_count": 60,
   "id": "30256653",
   "metadata": {},
   "outputs": [
    {
     "data": {
      "text/plain": [
       "1"
      ]
     },
     "execution_count": 60,
     "metadata": {},
     "output_type": "execute_result"
    }
   ],
   "source": [
    "writeRaster('SPAM/ProdVal_2017_v2.tif',geotransform,geoproj,Z, NoDataVal=0) "
   ]
  },
  {
   "cell_type": "code",
   "execution_count": null,
   "id": "1f7cbac1",
   "metadata": {},
   "outputs": [],
   "source": []
  },
  {
   "cell_type": "markdown",
   "id": "410cb6aa",
   "metadata": {},
   "source": [
    "## 1. Mosaic UMD GLAD land cover"
   ]
  },
  {
   "cell_type": "code",
   "execution_count": 21,
   "id": "6b9e4524",
   "metadata": {},
   "outputs": [
    {
     "data": {
      "text/plain": [
       "['Q:\\\\GIS\\\\povertyequity\\\\mauritania\\\\Agro_MRT\\\\GLAD\\\\20N_010W.tif',\n",
       " 'Q:\\\\GIS\\\\povertyequity\\\\mauritania\\\\Agro_MRT\\\\GLAD\\\\20N_020W.tif',\n",
       " 'Q:\\\\GIS\\\\povertyequity\\\\mauritania\\\\Agro_MRT\\\\GLAD\\\\30N_010W.tif',\n",
       " 'Q:\\\\GIS\\\\povertyequity\\\\mauritania\\\\Agro_MRT\\\\GLAD\\\\30N_020W.tif']"
      ]
     },
     "execution_count": 21,
     "metadata": {},
     "output_type": "execute_result"
    }
   ],
   "source": [
    "GLADpaths = []\n",
    "\n",
    "for i in os.listdir(''.join([ProjectFolder, r'/GLAD/'])):\n",
    "    k = os.path.join(ProjectFolder, 'GLAD', i)\n",
    "    GLADpaths = GLADpaths + [k]\n",
    "    \n",
    "GLADpaths"
   ]
  },
  {
   "cell_type": "code",
   "execution_count": 23,
   "id": "1def3f8c",
   "metadata": {},
   "outputs": [
    {
     "name": "stdout",
     "output_type": "stream",
     "text": [
      "Running for Q:\\GIS\\povertyequity\\mauritania\\Agro_MRT\\GLAD\\20N_010W.tif. Fri Feb 24 20:30:32 2023\n",
      "Ran in shell. See OutFile folder to inspect results. Fri Feb 24 20:36:49 2023\n"
     ]
    }
   ],
   "source": [
    "mosaicShell(A=GLADpaths[0], B=GLADpaths[1], C=GLADpaths[2], D=GLADpaths[3],\n",
    "             OutFile = os.path.join(ProjectFolder, 'GLAD', 'LC_strata_mosaic.tif'))"
   ]
  },
  {
   "cell_type": "code",
   "execution_count": 30,
   "id": "bb3ee172",
   "metadata": {
    "collapsed": true
   },
   "outputs": [
    {
     "name": "stdout",
     "output_type": "stream",
     "text": [
      "Skipped due to error. (Was the file already deleted?). Q:\\GIS\\povertyequity\\mauritania\\Agro_MRT\\GLAD\\20N_010W.tif. Fri Feb 24 20:58:02 2023 \n",
      "\n",
      "Skipped due to error. (Was the file already deleted?). Q:\\GIS\\povertyequity\\mauritania\\Agro_MRT\\GLAD\\20N_020W.tif. Fri Feb 24 20:58:02 2023 \n",
      "\n",
      "Skipped due to error. (Was the file already deleted?). Q:\\GIS\\povertyequity\\mauritania\\Agro_MRT\\GLAD\\30N_010W.tif. Fri Feb 24 20:58:02 2023 \n",
      "\n",
      "Skipped due to error. (Was the file already deleted?). Q:\\GIS\\povertyequity\\mauritania\\Agro_MRT\\GLAD\\30N_020W.tif. Fri Feb 24 20:58:02 2023 \n",
      "\n"
     ]
    }
   ],
   "source": [
    "for i in GLADpaths:\n",
    "    try:  \n",
    "        os.remove(os.path.join(i))\n",
    "        print('Removed intermediate file: %s. %s \\n' % (i, time.ctime()))\n",
    "    except OSError:\n",
    "        print('Skipped due to error. (Was the file already deleted?). %s. %s \\n' % (i, time.ctime()))"
   ]
  },
  {
   "cell_type": "markdown",
   "id": "b72447bd",
   "metadata": {},
   "source": [
    "## 3. Mask and reclassify land cover to country's cropland"
   ]
  },
  {
   "cell_type": "markdown",
   "id": "7703ba4f",
   "metadata": {},
   "source": [
    "#### Use the country shapefile to define the limits of the land cover data. Both datasets will be reprojected by the function."
   ]
  },
  {
   "cell_type": "code",
   "execution_count": 37,
   "id": "5c983540",
   "metadata": {},
   "outputs": [
    {
     "name": "stdout",
     "output_type": "stream",
     "text": [
      "['LC_strata_mosaic.tif', 'Temp_LC_strata_mosaic.tif']\n",
      "Source projection:  None\n",
      "Destination projection:  Africa_Albers_Equal_Area_Conic\n",
      "Finished gdal.Warp() for LC_strata_mosaic.tif. Fri Feb 24 21:13:45 2023 \n",
      "\n",
      "We warped the data, so we'll use that file for next step.\n",
      "Finished rasterio.mask.mask() for LC_strata_mosaic.tif. Fri Feb 24 21:14:50 2023 \n",
      "\n",
      "Written to file. Fri Feb 24 21:15:05 2023 \n",
      "\n",
      "Removed intermediate file. Fri Feb 24 21:15:05 2023 \n",
      "\n",
      "Source projection:  Africa_Albers_Equal_Area_Conic\n",
      "Destination projection:  Africa_Albers_Equal_Area_Conic\n",
      "We skipped the warp, so we continue to use the source file.\n",
      "Finished rasterio.mask.mask() for Temp_LC_strata_mosaic.tif. Fri Feb 24 21:15:26 2023 \n",
      "\n",
      "Written to file. Fri Feb 24 21:15:37 2023 \n",
      "\n",
      "\n",
      " \n",
      " Finished all items in list. Fri Feb 24 21:15:37 2023\n"
     ]
    }
   ],
   "source": [
    "MaskByZone(MaskPath='ADM/MRT_ADM0.shp', SourceFolder='GLAD', DestFolder='GLAD', dstSRS = 'ESRI:102022')"
   ]
  },
  {
   "cell_type": "markdown",
   "id": "2a736779",
   "metadata": {},
   "source": [
    "#### Read in the new raster and reclassify so that crop cells = 1 and all else is NoData (0)."
   ]
  },
  {
   "cell_type": "code",
   "execution_count": 44,
   "id": "25116858",
   "metadata": {},
   "outputs": [
    {
     "name": "stdout",
     "output_type": "stream",
     "text": [
      "47569 51473 (-4405175.985618629, 26.858620772433884, 0.0, 3076733.4404738816, 0.0, -26.858620772433884) PROJCS[\"Africa_Albers_Equal_Area_Conic\",GEOGCS[\"WGS 84\",DATUM[\"WGS_1984\",SPHEROID[\"WGS 84\",6378137,298.257223563,AUTHORITY[\"EPSG\",\"7030\"]],AUTHORITY[\"EPSG\",\"6326\"]],PRIMEM[\"Greenwich\",0],UNIT[\"degree\",0.0174532925199433,AUTHORITY[\"EPSG\",\"9122\"]],AUTHORITY[\"EPSG\",\"4326\"]],PROJECTION[\"Albers_Conic_Equal_Area\"],PARAMETER[\"latitude_of_center\",0],PARAMETER[\"longitude_of_center\",25],PARAMETER[\"standard_parallel_1\",20],PARAMETER[\"standard_parallel_2\",-23],PARAMETER[\"false_easting\",0],PARAMETER[\"false_northing\",0],UNIT[\"metre\",1,AUTHORITY[\"EPSG\",\"9001\"]],AXIS[\"Easting\",EAST],AXIS[\"Northing\",NORTH]] [[0 0 0 ... 0 0 0]\n",
      " [0 0 0 ... 0 0 0]\n",
      " [0 0 0 ... 0 0 0]\n",
      " ...\n",
      " [0 0 0 ... 0 0 0]\n",
      " [0 0 0 ... 0 0 0]\n",
      " [0 0 0 ... 0 0 0]]\n"
     ]
    },
    {
     "data": {
      "text/plain": [
       "1"
      ]
     },
     "execution_count": 44,
     "metadata": {},
     "output_type": "execute_result"
    }
   ],
   "source": [
    "[xsize,ysize,geotransform,geoproj,Z] = readRaster('GLAD/Msk_LC_strata_mosaic.tif')\n",
    "print(xsize, ysize, geotransform, geoproj, Z)\n",
    "\n",
    "Z[Z<17] = 0\n",
    "Z[Z>17] = 0\n",
    "\n",
    "writeRaster('GLAD/LC_CroplandOnly.tif',geotransform,geoproj,Z, NoDataVal=0) "
   ]
  },
  {
   "cell_type": "code",
   "execution_count": 45,
   "id": "6eca07bc",
   "metadata": {
    "scrolled": true
   },
   "outputs": [
    {
     "name": "stdout",
     "output_type": "stream",
     "text": [
      "47569 51473 (-4405175.985618629, 26.858620772433884, 0.0, 3076733.4404738816, 0.0, -26.858620772433884) PROJCS[\"Africa_Albers_Equal_Area_Conic\",GEOGCS[\"WGS 84\",DATUM[\"WGS_1984\",SPHEROID[\"WGS 84\",6378137,298.257223563,AUTHORITY[\"EPSG\",\"7030\"]],AUTHORITY[\"EPSG\",\"6326\"]],PRIMEM[\"Greenwich\",0],UNIT[\"degree\",0.0174532925199433,AUTHORITY[\"EPSG\",\"9122\"]],AUTHORITY[\"EPSG\",\"4326\"]],PROJECTION[\"Albers_Conic_Equal_Area\"],PARAMETER[\"latitude_of_center\",0],PARAMETER[\"longitude_of_center\",25],PARAMETER[\"standard_parallel_1\",20],PARAMETER[\"standard_parallel_2\",-23],PARAMETER[\"false_easting\",0],PARAMETER[\"false_northing\",0],UNIT[\"metre\",1,AUTHORITY[\"EPSG\",\"9001\"]],AXIS[\"Easting\",EAST],AXIS[\"Northing\",NORTH]] [[0 0 0 ... 0 0 0]\n",
      " [0 0 0 ... 0 0 0]\n",
      " [0 0 0 ... 0 0 0]\n",
      " ...\n",
      " [0 0 0 ... 0 0 0]\n",
      " [0 0 0 ... 0 0 0]\n",
      " [0 0 0 ... 0 0 0]]\n"
     ]
    },
    {
     "data": {
      "text/plain": [
       "1"
      ]
     },
     "execution_count": 45,
     "metadata": {},
     "output_type": "execute_result"
    }
   ],
   "source": [
    "# It wasn't writing correctly when I tried to include this final reclassification step in the same code block as previous.\n",
    "[xsize,ysize,geotransform,geoproj,Z] = readRaster('GLAD/LC_CroplandOnly.tif')\n",
    "print(xsize, ysize, geotransform, geoproj, Z)\n",
    "\n",
    "Z[Z==17] = 1\n",
    "\n",
    "writeRaster('GLAD/Cropland.tif',geotransform,geoproj,Z, NoDataVal=0) "
   ]
  },
  {
   "cell_type": "code",
   "execution_count": null,
   "id": "a64fcaa0",
   "metadata": {},
   "outputs": [],
   "source": []
  },
  {
   "cell_type": "markdown",
   "id": "5b622e36",
   "metadata": {},
   "source": [
    "## 4. Create simplified vector features of cropland"
   ]
  },
  {
   "cell_type": "code",
   "execution_count": null,
   "id": "d0bfef57",
   "metadata": {},
   "outputs": [],
   "source": []
  },
  {
   "cell_type": "code",
   "execution_count": null,
   "id": "9acc94f8",
   "metadata": {},
   "outputs": [],
   "source": []
  },
  {
   "cell_type": "code",
   "execution_count": null,
   "id": "a22242d6",
   "metadata": {},
   "outputs": [],
   "source": []
  },
  {
   "cell_type": "markdown",
   "id": "b1093476",
   "metadata": {},
   "source": [
    "## 5. Join datasets"
   ]
  },
  {
   "cell_type": "code",
   "execution_count": null,
   "id": "fbffed34",
   "metadata": {},
   "outputs": [],
   "source": []
  },
  {
   "cell_type": "code",
   "execution_count": null,
   "id": "6ed8a74e",
   "metadata": {},
   "outputs": [],
   "source": []
  },
  {
   "cell_type": "code",
   "execution_count": null,
   "id": "397850aa",
   "metadata": {},
   "outputs": [],
   "source": []
  },
  {
   "cell_type": "code",
   "execution_count": null,
   "id": "5938d293",
   "metadata": {},
   "outputs": [],
   "source": []
  },
  {
   "cell_type": "markdown",
   "id": "75d0f348",
   "metadata": {},
   "source": [
    "## 6. Calculate value per point"
   ]
  },
  {
   "cell_type": "code",
   "execution_count": null,
   "id": "30f10a72",
   "metadata": {},
   "outputs": [],
   "source": []
  },
  {
   "cell_type": "code",
   "execution_count": null,
   "id": "2eccc02d",
   "metadata": {},
   "outputs": [],
   "source": []
  },
  {
   "cell_type": "code",
   "execution_count": null,
   "id": "364cd9cd",
   "metadata": {},
   "outputs": [],
   "source": []
  }
 ],
 "metadata": {
  "kernelspec": {
   "display_name": "Python 3 (ipykernel)",
   "language": "python",
   "name": "python3"
  },
  "language_info": {
   "codemirror_mode": {
    "name": "ipython",
    "version": 3
   },
   "file_extension": ".py",
   "mimetype": "text/x-python",
   "name": "python",
   "nbconvert_exporter": "python",
   "pygments_lexer": "ipython3",
   "version": "3.10.6"
  }
 },
 "nbformat": 4,
 "nbformat_minor": 5
}
