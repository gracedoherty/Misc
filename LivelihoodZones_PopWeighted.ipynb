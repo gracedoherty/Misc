{
 "cells": [
  {
   "cell_type": "markdown",
   "id": "85fd14a1",
   "metadata": {},
   "source": [
    "---"
   ]
  },
  {
   "cell_type": "markdown",
   "id": "7a0190f8",
   "metadata": {},
   "source": [
    "## 0. PSEUDOCODE / OVERVIEW"
   ]
  },
  {
   "cell_type": "markdown",
   "id": "30b90950",
   "metadata": {},
   "source": [
    "##### Before Python:\n",
    "Projected most data to same equal area projection.\n",
    "<br>Exported version of GRID3 that exclude cities (built-up area)."
   ]
  },
  {
   "cell_type": "markdown",
   "id": "e9093fd6",
   "metadata": {},
   "source": [
    "##### Prep data\n",
    "Merge: GRID3_BFA, GRID3_MLI, GRID3_NER, GRID3_TCD\n",
    "<br> Export GRID3 without Built-Up Area class (projection = Africa Albers) = GRID3_noBuiltUp.shp\n",
    "\n",
    "<br> Reproject ADM3.shp to Africa Albers\n",
    "<br> Reproject LZ.shp to Africa Albers\n",
    "<br> Field calculator: create numeric classes for OECD_ZONE (new field: OECD_ZNUM)\n",
    "\n",
    "##### Rasterize\n",
    "Rasterize ADM3.shp. (Value = OBJECTID) = ADM3.tif\n",
    "<br> Rasterize LZ.shp. (Value = OECD_ZNUM) = LZ.tif\n",
    "\n",
    "##### Concatenation\n",
    "Raster math: \n",
    "<br> LZ.tif + (ADM3.tif * 10) = LZ_ADM3.tif\n",
    "\n",
    "##### Vector joins\n",
    "Polygonize LZ_ADM3.tif\n",
    "<br> Result: LZ_ADM3_ply.shp\n",
    "\n",
    "<br> Spatial join: (one to one)\n",
    "<br> Target: LZ_ADM3_ply.shp\n",
    "<br> Join: GRID3_noBuiltUp.shp\n",
    "<br> Statistics: popUN --> sum\n",
    "<br> Result: LZ_ADM3_G3.shp\n",
    "\n",
    "##### Group by largest population\n",
    "Calculate field:\n",
    "<br> LZ_ADM3_G3['gridstring'] = LZ_ADM3_G3['gridcode'].astype(str).str.zfill(length_of_maximum_value)\n",
    "<br> LZ_ADM3_G3['ADM_ID'] = LZ_ADM3_G3['gridstring'].str[:-len_ADM].astype(int)\n",
    "<br> LZ_ADM3_G3['LZ_NUM'] = LZ_ADM3_G3['gridstring'].str[-len_ADM:].astype(int)\n",
    "\n",
    "<br> Largest = LZ_ADM3_G3.loc[LZ_ADM3_G3.groupby([\"ADM3\"])[\"popUN\"].idxmax()]\n",
    "\n",
    "##### Finalize\n",
    "Spatial join: (one to one)\n",
    "<br> Target: ADM3_EqAarea.shp\n",
    "<br> Join: Largest.shp\n",
    "<br> Result: LZ_ADM3.shp"
   ]
  },
  {
   "cell_type": "markdown",
   "id": "9276b447",
   "metadata": {},
   "source": [
    "## 1. PREPARE WORKSPACE"
   ]
  },
  {
   "cell_type": "markdown",
   "id": "6b2a2548",
   "metadata": {},
   "source": [
    "### 1.1 Load all packages."
   ]
  },
  {
   "cell_type": "code",
   "execution_count": 1,
   "id": "8c42795f",
   "metadata": {},
   "outputs": [],
   "source": [
    "# Built-in:\n",
    "# dir(), print(), range(), format(), int(), len(), list(), max(), min(), zip(), sorted(), sum(), open(), del, = None, try except, with as, for in, if elif else\n",
    "# Also: list.append(), list.insert(), list.remove(), count(), startswith(), endswith(), contains(), replace()\n",
    "\n",
    "import os, sys, glob, re, time, subprocess, string # os.getcwd(), os.path.join(), os.listdir(), os.remove(), time.ctime(), glob.glob(), string.zfill(), string.join()\n",
    "from os.path import exists # exists()\n",
    "from functools import reduce # reduce()\n",
    "\n",
    "import geopandas as gpd # read_file(), GeoDataFrame(), sjoin_nearest(), to_crs(), to_file(), .crs, buffer(), dissolve()\n",
    "import pandas as pd # .dtypes, Series(), concat(), DataFrame(), read_table(), merge(), to_csv(), .loc[], head(), sample(), astype(), unique(), rename(), between(), drop(), fillna(), idxmax(), isna(), isin(), apply(), info(), sort_values(), notna(), groupby(), value_counts(), duplicated(), drop_duplicates()\n",
    "from shapely.geometry import Point, LineString, Polygon, shape, MultiPoint\n",
    "from shapely.ops import cascaded_union\n",
    "from shapely.validation import make_valid  # in apply(make_valid)\n",
    "import shapely.wkt\n",
    "\n",
    "import numpy as np # median(), mean(), tolist(), .inf\n",
    "import fiona, rioxarray # fiona.open()\n",
    "import rasterio # open(), write_band(), .name, .count, .width, .height. nodatavals, .meta, update(), copy(), write()\n",
    "from rasterio.plot import show\n",
    "from rasterio import features # features.rasterize()\n",
    "from rasterio.features import shapes\n",
    "from rasterio import mask # rasterio.mask.mask()\n",
    "from rasterio.enums import Resampling # rasterio.enums.Resampling()\n",
    "from osgeo import gdal, osr, ogr, gdal_array, gdalconst # Open(), SpatialReference, WarpOptions(), Warp(), GetDataTypeName(), GetRasterBand(), GetNoDataValue(), Translate(), GetProjection(), GetAttrValue()"
   ]
  },
  {
   "cell_type": "code",
   "execution_count": 2,
   "id": "a20dfb25",
   "metadata": {},
   "outputs": [
    {
     "name": "stdout",
     "output_type": "stream",
     "text": [
      "Q:\\GIS\\povertyequity\\PTI_Sahel\\LivelihoodZones_forPython\n"
     ]
    }
   ],
   "source": [
    "ProjectFolder = os.getcwd()\n",
    "print(ProjectFolder)"
   ]
  },
  {
   "cell_type": "markdown",
   "id": "5be5f9d7",
   "metadata": {},
   "source": [
    "### 1.2 User-defined functions."
   ]
  },
  {
   "cell_type": "code",
   "execution_count": 3,
   "id": "267db21b",
   "metadata": {},
   "outputs": [],
   "source": [
    "def ListFromRange(r1, r2):\n",
    "    return [item for item in range(r1, r2+1)]"
   ]
  },
  {
   "cell_type": "code",
   "execution_count": 4,
   "id": "317d1355",
   "metadata": {},
   "outputs": [],
   "source": [
    "# From Stack Exchange @RutgerH\n",
    "# https://gis.stackexchange.com/questions/163685/reclassify-a-raster-value-to-9999-and-set-it-to-the-nodata-value-using-python-a\n",
    "def readRaster(filename):\n",
    "    filehandle = gdal.Open(filename)\n",
    "    band1 = filehandle.GetRasterBand(1)\n",
    "    geotransform = filehandle.GetGeoTransform()\n",
    "    geoproj = filehandle.GetProjection()\n",
    "    Z = band1.ReadAsArray()\n",
    "    xsize = filehandle.RasterXSize\n",
    "    ysize = filehandle.RasterYSize\n",
    "    return xsize,ysize,geotransform,geoproj,Z"
   ]
  },
  {
   "cell_type": "code",
   "execution_count": 5,
   "id": "48d2e64f",
   "metadata": {},
   "outputs": [],
   "source": [
    "# Default arguments can be changed here, or can be specified below when running the functions.\n",
    "def writeRaster(filename,geotransform,geoprojection,data, NoDataVal=0, dst_datatype=gdal.GDT_UInt32):\n",
    "    (x,y) = data.shape\n",
    "    Dformat = \"GTiff\"\n",
    "    driver = gdal.GetDriverByName(Dformat)\n",
    "    # you can change the dataformat but be sure to be able to store negative values including -9999\n",
    "    dst_ds = driver.Create(filename,y,x,1,dst_datatype)\n",
    "    dst_ds.GetRasterBand(1).WriteArray(data)\n",
    "    dst_ds.SetGeoTransform(geotransform)\n",
    "    dst_ds.SetProjection(geoprojection)\n",
    "    dst_ds.GetRasterBand(1).SetNoDataValue(NoDataVal)\n",
    "    return 1\n",
    "    dst_ds = None"
   ]
  },
  {
   "cell_type": "code",
   "execution_count": 6,
   "id": "65c5efde",
   "metadata": {},
   "outputs": [],
   "source": [
    "def calcShell(A, OutFile, Calculation, OutType = '', \n",
    "              B=None, C=None, D=None, E=None, F=None, G=None):\n",
    "    \"\"\"Raster math using gdal_calc.py.\n",
    "\n",
    "    The OSgeo package for Python API does not make raster calculations\n",
    "    easy outside of the shell. This function plugs up to 6 raster files\n",
    "    into a string which subprocess.call() then commits to the terminal.\n",
    "\n",
    "        A : str\n",
    "            File path to the first raster for the calculation.\n",
    "        B : str\n",
    "            File path to the second raster for the calculation.\n",
    "        OutFile : str\n",
    "            File path where to store the raster generated from the calculation.\n",
    "        Calculation : str\n",
    "            Algebra that uses A and B to create a new raster. Use double quotes.\n",
    "    \"\"\"\n",
    "    print('Running for %s. %s' % (A, time.ctime()))\n",
    "    cmd = 'gdal_calc.py -A ' + A\n",
    "    if B is not None:\n",
    "        cmd = cmd + ' -B ' + B \n",
    "    if C is not None:\n",
    "        cmd = cmd + ' -C ' + C \n",
    "    if D is not None:\n",
    "        cmd = cmd + ' -D ' + D\n",
    "    if E is not None:\n",
    "        cmd = cmd + ' -E ' + E\n",
    "    if F is not None:\n",
    "        cmd = cmd + ' -F ' + F\n",
    "    if G is not None:\n",
    "        cmd = cmd + ' -G ' + G\n",
    "    cmd = cmd + OutType + ' --outfile=' + OutFile + ' --overwrite --calc=' + Calculation\n",
    "    subprocess.call(cmd, shell=True)\n",
    "    cmd = A = B = C = D = E = F = G = None\n",
    "    print('Ran in shell. See OutFile folder to inspect results. %s' % time.ctime())"
   ]
  },
  {
   "cell_type": "code",
   "execution_count": 7,
   "id": "ac123cbb",
   "metadata": {},
   "outputs": [],
   "source": [
    "def mosaicShell(A, B, OutFile, Band = 1, OutType = '',\n",
    "                  C=None, D=None, E=None, F=None, G=None):\n",
    "    print('Running for %s. %s' % (A, time.ctime()))\n",
    "    \n",
    "    StringFiles = ' '.join([A,B])\n",
    "    \n",
    "    for RasterName in [C,D,E,F,G]:\n",
    "        if RasterName is not None:\n",
    "            StringFiles = ' '.join([StringFiles, RasterName])\n",
    "        else:\n",
    "            pass\n",
    "        \n",
    "    cmd = 'gdal_merge.py -o ' + OutFile + OutType + ' -of gtiff ' + StringFiles\n",
    "    \n",
    "    subprocess.call(cmd, shell=True)\n",
    "    print('Ran in shell. See OutFile folder to inspect results. %s' % time.ctime())"
   ]
  },
  {
   "cell_type": "code",
   "execution_count": 8,
   "id": "c7ae0d7a",
   "metadata": {},
   "outputs": [],
   "source": [
    "def RasterToShapefile(InRasterPath, OutFilePath = 'RastToShp.shp', Band=1, \n",
    "                      OutName='RastToShp', VariableName='value', Driver = 'ESRI Shapefile'):\n",
    "    \"\"\"Raster tiff to vector polygon shapefile.\n",
    "    Can also be used for other file types like geopackage, but note that this code\n",
    "    currently does not account for writing into an existing file. It will write over\n",
    "    the file if specified as the file path.\n",
    "    \n",
    "    \"\"\"\n",
    "    Raster = gdal.Open(InRasterPath)\n",
    "    RasterBand = Raster.GetRasterBand(Band)\n",
    "    \n",
    "    OutDriver = ogr.GetDriverByName(Driver)\n",
    "    InProj = Raster.GetProjectionRef()\n",
    "    SpatRef = osr.SpatialReference()\n",
    "    SpatRef.ImportFromWkt(InProj)\n",
    "    print(InProj, '\\n\\n', SpatRef)\n",
    "    \n",
    "    if exists(OutFilePath):\n",
    "        OutFile = ogr.Open(OutFilePath)\n",
    "    else:\n",
    "        OutFile = OutDriver.CreateDataSource(OutFilePath)\n",
    "    OutLayer = OutFile.CreateLayer(OutName, srs = SpatRef, geom_type = ogr.wkbPolygon)\n",
    "    OutField = ogr.FieldDefn(VariableName, ogr.OFTInteger)\n",
    "    OutLayer.CreateField(OutField)\n",
    "    OutField = OutLayer.GetLayerDefn().GetFieldIndex(VariableName)\n",
    "    print('\\n', OutFile, '\\n', OutLayer, '\\n', OutField)\n",
    "    \n",
    "    print('Vectorizing. Input: %s. %s' % (InRasterPath, time.ctime()))\n",
    "    gdal.Polygonize(RasterBand, None, OutLayer, 0, [], callback=None)\n",
    "    print('Completed polygons. Stored as: %s. %s' % (OutFilePath, time.ctime()))\n",
    "\n",
    "    del Raster, RasterBand, OutFile, OutLayer"
   ]
  },
  {
   "cell_type": "code",
   "execution_count": 9,
   "id": "d23cfdbb",
   "metadata": {},
   "outputs": [],
   "source": [
    "def rioStats(InRasterPath, Band = 1):\n",
    "    out = rasterio.open(InRasterPath)\n",
    "    stats = []\n",
    "    band = out.read(Band)\n",
    "    stats.append({\n",
    "        'raster': out.name,\n",
    "        'bands': out.count,\n",
    "        'data type': out.dtypes,\n",
    "        'no data value': out.nodatavals,\n",
    "        'width': out.width,\n",
    "        'height': out.height,\n",
    "        'min': band.min(),\n",
    "        'mean': band.mean(),\n",
    "        'median': np.median(band),\n",
    "        'max': band.max()})\n",
    "    print(\"\\n\", stats)\n",
    "    \n",
    "    out = band = None"
   ]
  },
  {
   "cell_type": "code",
   "execution_count": 10,
   "id": "95b9a04e",
   "metadata": {},
   "outputs": [],
   "source": [
    "def ShapeToRaster(Shapefile, ValueVar, MetaRasterPath, OutFilePath = 'ShpToRast.tif', Band=1, NewDType=None):\n",
    "    \"\"\"\n",
    "    Polygon spatial object to raster tiff.\n",
    "    \"\"\"\n",
    "    # Copy and update the metadata from another raster for the output\n",
    "    MetaRaster = rasterio.open(MetaRasterPath)\n",
    "    meta = MetaRaster.meta.copy()\n",
    "    meta.update(compress='lzw')\n",
    "    if NewDType is not None:\n",
    "        meta.update(dtype=NewDType)\n",
    "    MetaRaster.meta\n",
    "\n",
    "    print(\"Rasterizing dataset. %s\" % time.ctime())\n",
    "    with rasterio.open(OutFilePath, 'w+', **meta) as out:\n",
    "        out_arr = out.read(Band)\n",
    "\n",
    "        # this is where we create a generator of geom, value pairs to use in rasterizing\n",
    "        shapes = ((geom,value) for geom, value in zip(Shapefile.geometry, Shapefile[ValueVar]))\n",
    "\n",
    "        burned = features.rasterize(shapes=shapes, fill=0, out=out_arr, transform=out.transform)\n",
    "        out.write_band(1, burned)\n",
    "    out = burned = shapes = None\n",
    "    \n",
    "    print(\"Finished rasterizing. Checking contents. %s\" % time.ctime())\n",
    "    rioStats(OutFilePath)"
   ]
  },
  {
   "cell_type": "code",
   "execution_count": 11,
   "id": "7ccda52e",
   "metadata": {},
   "outputs": [],
   "source": [
    "def MaskByZone(MaskPath, SourceFolder, DestFolder, SourceList = None,\n",
    "               MaskLayerName = None, dstSRS = 'ESRI:102022'):\n",
    "    \"\"\"\n",
    "    Reduces the size of a raster's valid data cells to vector areas of interest.\n",
    "    This is useful if the raster data needs to be vectorized later to save space.\n",
    "    \n",
    "    The script prepares the vector zones as a list of geometries in the desired\n",
    "    spatial reference system, then warps each raster in the specified source\n",
    "    folder to the same SRS. Masking in rasterio then reclassifies any raster cells\n",
    "    falling outside of a mask polygon as NoData.\n",
    "    \"\"\"\n",
    "    \n",
    "    ProjSRS = osr.SpatialReference()\n",
    "    ProjSRS.SetFromUserInput(dstSRS)\n",
    "    ProjWarp = gdal.WarpOptions(dstSRS = dstSRS)\n",
    "    \n",
    "    if SourceList is not None:\n",
    "        SourceFiles = SourceList\n",
    "    else:\n",
    "        SourceFiles = []\n",
    "        SourceFiles = SourceFiles + [i for i in os.listdir(''.join([SourceFolder, r'/'])) if i.endswith('tif')]\n",
    "        print(SourceFiles)\n",
    "\n",
    "    \n",
    "    ### 1. ASSIGN SPATIAL REFERENCE SYSTEM OF VECTOR MASK AND LOAD GEOMETRIES\n",
    "    Vector = gpd.read_file(filename=MaskPath, layer=MaskLayerName)\n",
    "    if Vector.crs != dstSRS:\n",
    "        if MaskLayerName == None:\n",
    "            MaskPath = MaskPath + '_temp'\n",
    "        else:\n",
    "            MaskLayerName = MaskLayerName + '_temp'\n",
    "        Vector.to_crs(dstSRS).to_file(filename=MaskPath, layer=MaskLayerName)\n",
    "    Vector = None # We're reloading the geometries with fiona\n",
    "    \n",
    "    with fiona.open(MaskPath, mode=\"r\", layer=MaskLayerName) as Vector:\n",
    "        MaskGeom = [feature[\"geometry\"] for feature in Vector] # Identify the bounding areas of the mask.\n",
    "    \n",
    "    \n",
    "    ### 2. PREPARE DESTINATION FILES\n",
    "    for FileName in SourceFiles:\n",
    "    \n",
    "        InputRasterPath = os.path.join(ProjectFolder, SourceFolder, FileName)\n",
    "        \n",
    "        Sensor = re.search('[A-Z]+_', FileName)\n",
    "        if Sensor is None:\n",
    "            Sensor = ''\n",
    "        else:\n",
    "            Sensor = Sensor.group(0)\n",
    "\n",
    "        Year = re.search('\\d{4}', FileName)\n",
    "        if Year is None:\n",
    "            Year = ''\n",
    "        else:\n",
    "            Year = Year.group(0)\n",
    "\n",
    "        if FileName.endswith('avg.tif') == True:\n",
    "            IndicType = '_avg'\n",
    "        elif FileName.endswith('cfc.tif') == True:\n",
    "            IndicType = '_cfc'\n",
    "        else:\n",
    "            IndicType = ''\n",
    "\n",
    "        TempOutputName = 'Temp_' + Sensor + Year + IndicType + '.tif'\n",
    "        TempOutputPath = os.path.join(ProjectFolder, DestFolder, TempOutputName)\n",
    "        FinalOutputName = 'Msk_' + Sensor + Year + IndicType + '.tif'\n",
    "        FinalOutputPath = os.path.join(ProjectFolder, DestFolder, FinalOutputName)\n",
    "\n",
    "    ### 3. ASSIGN SPATIAL REFERENCE SYSTEM OF RASTER(S)\n",
    "        InputRasterObject = gdal.Open(InputRasterPath)\n",
    "        SourceSRS = osr.SpatialReference(wkt=InputRasterObject.GetProjection())\n",
    "        print('Source projection: ', SourceSRS.GetAttrValue('projcs'))\n",
    "        print('Destination projection: ', ProjSRS.GetAttrValue('projcs'))\n",
    "\n",
    "        if SourceSRS.GetAttrValue('projcs') != ProjSRS.GetAttrValue('projcs'):\n",
    "            Warp = gdal.Warp(TempOutputPath, # Where to store the warped raster\n",
    "                         InputRasterObject, # Which raster to warp\n",
    "                         format='GTiff', \n",
    "                         options=ProjWarp) # Reproject to Africa Albers Equal Area Conic\n",
    "            print('Finished gdal.Warp() for %s. %s \\n' % (FileName, time.ctime()))\n",
    "\n",
    "            Warp = None # Close the files\n",
    "        else:\n",
    "            pass\n",
    "        InputRasterObject = None\n",
    "        \n",
    "    ### 4. RECLASSIFY AS NODATA IF OUTSIDE OF SETTLEMENT BUFFER ZONE.\n",
    "        if exists(TempOutputPath):\n",
    "            NewInputPath = TempOutputPath \n",
    "            print(\"We warped the data, so we'll use that file for next step.\")\n",
    "        else:\n",
    "            NewInputPath = InputRasterPath \n",
    "            print(\"We skipped the warp, so we continue to use the source file.\")\n",
    "\n",
    "        with rasterio.open(NewInputPath) as InputRasterObject:\n",
    "            MaskedOutputRaster, OutTransform = rasterio.mask.mask(\n",
    "                InputRasterObject, MaskGeom, crop=True) # Anything outside the mask is reclassed to the raster's NoData value.\n",
    "            OutMetaData = InputRasterObject.meta.copy()\n",
    "        print('Finished rasterio.mask.mask() for %s. %s \\n' % (FileName, time.ctime()))\n",
    "\n",
    "        OutMetaData.update({\"driver\": \"GTiff\",\n",
    "                         \"height\": MaskedOutputRaster.shape[1],\n",
    "                         \"width\": MaskedOutputRaster.shape[2],\n",
    "                         \"transform\": OutTransform})\n",
    "\n",
    "        with rasterio.open(FinalOutputPath, \"w\", **OutMetaData) as dest:\n",
    "            dest.write(MaskedOutputRaster)\n",
    "        print('Written to file. %s \\n' % time.ctime())\n",
    "        InputRasterObject = None\n",
    "\n",
    "        if exists(TempOutputPath):\n",
    "            try:  # Finally, remove the intermediate file from disk\n",
    "                os.remove(TempOutputPath)\n",
    "            except OSError:\n",
    "                pass\n",
    "            print('Removed intermediate file. %s \\n' % time.ctime())\n",
    "        else:\n",
    "            pass\n",
    "\n",
    "\n",
    "    print('\\n \\n Finished all years in list. %s' % time.ctime())"
   ]
  },
  {
   "cell_type": "markdown",
   "id": "5537c1ce",
   "metadata": {},
   "source": [
    "---"
   ]
  },
  {
   "cell_type": "markdown",
   "id": "18c08550",
   "metadata": {},
   "source": [
    "## 2. PREPARE DATA\n",
    "All datasets are already projected to: Africa Albers Equal Area Conic"
   ]
  },
  {
   "cell_type": "markdown",
   "id": "e591ea5f",
   "metadata": {},
   "source": [
    "### 2.1 Merge and subset GRID3 Sahel datasets"
   ]
  },
  {
   "cell_type": "code",
   "execution_count": 16,
   "id": "edfa274b",
   "metadata": {},
   "outputs": [
    {
     "data": {
      "text/plain": [
       "['GRID3_NER_rural',\n",
       " 'GRID3_BFA_rural',\n",
       " 'GRID3_MLI_rural',\n",
       " 'GRID3_TCD_rural',\n",
       " 'LZ_harmonized',\n",
       " 'ADM3',\n",
       " 'ADM2',\n",
       " 'ADM1']"
      ]
     },
     "execution_count": 16,
     "metadata": {},
     "output_type": "execute_result"
    }
   ],
   "source": [
    "fiona.listlayers('LZ.gpkg')"
   ]
  },
  {
   "cell_type": "code",
   "execution_count": 13,
   "id": "1677aae0",
   "metadata": {},
   "outputs": [
    {
     "name": "stdout",
     "output_type": "stream",
     "text": [
      "<class 'geopandas.geodataframe.GeoDataFrame'>\n",
      "RangeIndex: 614846 entries, 0 to 614845\n",
      "Data columns (total 5 columns):\n",
      " #   Column      Non-Null Count   Dtype   \n",
      "---  ------      --------------   -----   \n",
      " 0   OBJECTID    614846 non-null  int64   \n",
      " 1   type        614846 non-null  object  \n",
      " 2   population  614846 non-null  float64 \n",
      " 3   pop_un_adj  614846 non-null  float64 \n",
      " 4   geometry    614846 non-null  geometry\n",
      "dtypes: float64(2), geometry(1), int64(1), object(1)\n",
      "memory usage: 23.5+ MB\n"
     ]
    }
   ],
   "source": [
    "G3B, G3M, G3N, G3T = gpd.read_file('LZ.gpkg', layer=1), gpd.read_file('LZ.gpkg', layer=2), gpd.read_file('LZ.gpkg', layer=0), gpd.read_file('LZ.gpkg', layer=3)\n",
    "G3B.info()"
   ]
  },
  {
   "cell_type": "code",
   "execution_count": 14,
   "id": "8eaa1757",
   "metadata": {},
   "outputs": [
    {
     "name": "stdout",
     "output_type": "stream",
     "text": [
      "<class 'geopandas.geodataframe.GeoDataFrame'>\n",
      "RangeIndex: 320968 entries, 0 to 320967\n",
      "Data columns (total 5 columns):\n",
      " #   Column      Non-Null Count   Dtype   \n",
      "---  ------      --------------   -----   \n",
      " 0   OBJECTID    320968 non-null  int64   \n",
      " 1   type        320968 non-null  object  \n",
      " 2   population  320968 non-null  float64 \n",
      " 3   pop_un_adj  320968 non-null  float64 \n",
      " 4   geometry    320968 non-null  geometry\n",
      "dtypes: float64(2), geometry(1), int64(1), object(1)\n",
      "memory usage: 12.2+ MB\n"
     ]
    }
   ],
   "source": [
    "G3N.info()"
   ]
  },
  {
   "cell_type": "code",
   "execution_count": 15,
   "id": "e7dbc713",
   "metadata": {
    "scrolled": true
   },
   "outputs": [
    {
     "name": "stdout",
     "output_type": "stream",
     "text": [
      "<class 'geopandas.geodataframe.GeoDataFrame'>\n",
      "Int64Index: 1709337 entries, 0 to 353241\n",
      "Data columns (total 5 columns):\n",
      " #   Column      Dtype   \n",
      "---  ------      -----   \n",
      " 0   OBJECTID    int64   \n",
      " 1   type        object  \n",
      " 2   population  float64 \n",
      " 3   pop_un_adj  float64 \n",
      " 4   geometry    geometry\n",
      "dtypes: float64(2), geometry(1), int64(1), object(1)\n",
      "memory usage: 78.2+ MB\n",
      "None    OBJECTID                   type   population   pop_un_adj  \\\n",
      "0        17  Small Settlement Area    69.158031    63.314946   \n",
      "1        18  Small Settlement Area  1457.134585  1334.022913   \n",
      "2        19  Small Settlement Area   132.393655   121.207863   \n",
      "3        20  Small Settlement Area   151.230414   138.453126   \n",
      "4        21  Small Settlement Area    71.164482    65.151876   \n",
      "5        22  Small Settlement Area   229.821181   210.403846   \n",
      "6        23  Small Settlement Area   170.399199   156.002360   \n",
      "7        24  Small Settlement Area  1171.680225  1072.686279   \n",
      "8        25  Small Settlement Area   369.293494   338.092299   \n",
      "9        26  Small Settlement Area   114.837077   105.134621   \n",
      "\n",
      "                                            geometry  \n",
      "0  MULTIPOLYGON (((-3090958.184 1153346.755, -309...  \n",
      "1  MULTIPOLYGON (((-3091344.888 1154999.793, -309...  \n",
      "2  MULTIPOLYGON (((-3076725.230 1162013.508, -307...  \n",
      "3  MULTIPOLYGON (((-3121014.436 1163592.294, -312...  \n",
      "4  MULTIPOLYGON (((-3084214.636 1166544.137, -308...  \n",
      "5  MULTIPOLYGON (((-3085231.716 1166636.599, -308...  \n",
      "6  MULTIPOLYGON (((-3104093.925 1166285.244, -310...  \n",
      "7  MULTIPOLYGON (((-3105322.500 1166838.598, -310...  \n",
      "8  MULTIPOLYGON (((-3085176.239 1167357.801, -308...  \n",
      "9  MULTIPOLYGON (((-3125452.603 1168119.069, -312...  \n"
     ]
    }
   ],
   "source": [
    "G3list = [G3B, G3M, G3N, G3T]\n",
    "G3 = pd.concat(G3list)\n",
    "print(G3.info(), G3.head(10))"
   ]
  },
  {
   "cell_type": "code",
   "execution_count": 17,
   "id": "baf4f22f",
   "metadata": {},
   "outputs": [
    {
     "data": {
      "text/html": [
       "<div>\n",
       "<style scoped>\n",
       "    .dataframe tbody tr th:only-of-type {\n",
       "        vertical-align: middle;\n",
       "    }\n",
       "\n",
       "    .dataframe tbody tr th {\n",
       "        vertical-align: top;\n",
       "    }\n",
       "\n",
       "    .dataframe thead th {\n",
       "        text-align: right;\n",
       "    }\n",
       "</style>\n",
       "<table border=\"1\" class=\"dataframe\">\n",
       "  <thead>\n",
       "    <tr style=\"text-align: right;\">\n",
       "      <th></th>\n",
       "      <th>OBJECTID</th>\n",
       "      <th>type</th>\n",
       "      <th>population</th>\n",
       "      <th>pop_un_adj</th>\n",
       "      <th>geometry</th>\n",
       "    </tr>\n",
       "  </thead>\n",
       "  <tbody>\n",
       "  </tbody>\n",
       "</table>\n",
       "</div>"
      ],
      "text/plain": [
       "Empty GeoDataFrame\n",
       "Columns: [OBJECTID, type, population, pop_un_adj, geometry]\n",
       "Index: []"
      ]
     },
     "execution_count": 17,
     "metadata": {},
     "output_type": "execute_result"
    }
   ],
   "source": [
    "G3[G3['type'].str.startswith(\"B\")] # Double-checking that Built Up Area was removed from all files before the merge."
   ]
  },
  {
   "cell_type": "code",
   "execution_count": 18,
   "id": "690af96a",
   "metadata": {},
   "outputs": [],
   "source": [
    "G3.to_file(driver='GPKG', filename='LZ.gpkg', layer='GRID3_Sahel_rural')"
   ]
  },
  {
   "cell_type": "markdown",
   "id": "5fc8322d",
   "metadata": {},
   "source": [
    "### 2.2 Merge and empty out WorldPop Sahel datasets for raster snapping"
   ]
  },
  {
   "cell_type": "code",
   "execution_count": 38,
   "id": "789daf48",
   "metadata": {},
   "outputs": [
    {
     "name": "stdout",
     "output_type": "stream",
     "text": [
      "Running for bfa_ppp_2020_constrained.tif. Sun Apr 30 16:03:34 2023\n",
      "Ran in shell. See OutFile folder to inspect results. Sun Apr 30 16:05:26 2023\n"
     ]
    }
   ],
   "source": [
    "mosaicShell(A='bfa_ppp_2020_constrained.tif', B='mli_ppp_2020_UNadj_constrained.tif', \n",
    "           C='ner_ppp_2020_UNadj_constrained.tif', D='tcd_ppp_2020_UNadj_constrained.tif',\n",
    "           OutFile='sahel_ppp_2020_UNadj_constrained.tif')"
   ]
  },
  {
   "cell_type": "code",
   "execution_count": 54,
   "id": "0c8875c9",
   "metadata": {},
   "outputs": [
    {
     "name": "stdout",
     "output_type": "stream",
     "text": [
      "\n",
      " [{'raster': 'sahel_ppp_2020_UNadj_constrained.tif', 'bands': 1, 'data type': ('float32',), 'no data value': (None,), 'width': 43495, 'height': 21070, 'min': 0.0, 'mean': 0.09134865, 'median': 0.0, 'max': 1414.3038}]\n"
     ]
    }
   ],
   "source": [
    "rioStats('sahel_ppp_2020_UNadj_constrained.tif')"
   ]
  },
  {
   "cell_type": "code",
   "execution_count": 62,
   "id": "3961c207",
   "metadata": {},
   "outputs": [],
   "source": [
    "xsize,ysize,geotransform,geoproj,Z = readRaster('sahel_ppp_2020_UNadj_constrained.tif')"
   ]
  },
  {
   "cell_type": "code",
   "execution_count": 63,
   "id": "611571fc",
   "metadata": {},
   "outputs": [],
   "source": [
    "Z[Z!=0] = 0 # Not using the population data, so let's reclassify all values to the NoData value."
   ]
  },
  {
   "cell_type": "code",
   "execution_count": 64,
   "id": "77aca213",
   "metadata": {},
   "outputs": [
    {
     "data": {
      "text/plain": [
       "1"
      ]
     },
     "execution_count": 64,
     "metadata": {},
     "output_type": "execute_result"
    }
   ],
   "source": [
    "writeRaster('Empty_Sahel_100m.tif',geotransform,geoproj,Z, NoDataVal=0, dst_datatype=gdal.GDT_UInt32)"
   ]
  },
  {
   "cell_type": "code",
   "execution_count": 65,
   "id": "387bba7e",
   "metadata": {},
   "outputs": [],
   "source": [
    "inRaster = gdal.Open('Empty_Sahel_100m.tif')\n",
    "outPath = 'Empty_Sahel_100m_EqArea.tif'\n",
    "warp = gdal.Warp(outPath,inRaster,dstSRS='ESRI:102022')\n",
    "warp = None # Closes the files"
   ]
  },
  {
   "cell_type": "markdown",
   "id": "ca195d70",
   "metadata": {},
   "source": [
    "### 2.3 Create numeric classes for livelihood zones"
   ]
  },
  {
   "cell_type": "code",
   "execution_count": 34,
   "id": "166db192",
   "metadata": {},
   "outputs": [
    {
     "name": "stdout",
     "output_type": "stream",
     "text": [
      "<class 'geopandas.geodataframe.GeoDataFrame'>\n",
      "RangeIndex: 63 entries, 0 to 62\n",
      "Data columns (total 5 columns):\n",
      " #   Column     Non-Null Count  Dtype   \n",
      "---  ------     --------------  -----   \n",
      " 0   OBJECTID   63 non-null     int64   \n",
      " 1   LZNAMEEN   63 non-null     object  \n",
      " 2   LZNAMEFR   63 non-null     object  \n",
      " 3   OECD_ZONE  63 non-null     object  \n",
      " 4   geometry   63 non-null     geometry\n",
      "dtypes: geometry(1), int64(1), object(3)\n",
      "memory usage: 2.6+ KB\n"
     ]
    }
   ],
   "source": [
    "LZ = gpd.read_file('LZ.gpkg', layer='LZ_harmonized')\n",
    "LZ.info()"
   ]
  },
  {
   "cell_type": "code",
   "execution_count": 35,
   "id": "dc87ebd9",
   "metadata": {},
   "outputs": [
    {
     "data": {
      "text/html": [
       "<div>\n",
       "<style scoped>\n",
       "    .dataframe tbody tr th:only-of-type {\n",
       "        vertical-align: middle;\n",
       "    }\n",
       "\n",
       "    .dataframe tbody tr th {\n",
       "        vertical-align: top;\n",
       "    }\n",
       "\n",
       "    .dataframe thead th {\n",
       "        text-align: right;\n",
       "    }\n",
       "</style>\n",
       "<table border=\"1\" class=\"dataframe\">\n",
       "  <thead>\n",
       "    <tr style=\"text-align: right;\">\n",
       "      <th></th>\n",
       "      <th>OBJECTID</th>\n",
       "      <th>LZNAMEEN</th>\n",
       "      <th>LZNAMEFR</th>\n",
       "      <th>OECD_ZONE</th>\n",
       "      <th>geometry</th>\n",
       "      <th>OECD_ZNUM</th>\n",
       "    </tr>\n",
       "  </thead>\n",
       "  <tbody>\n",
       "    <tr>\n",
       "      <th>50</th>\n",
       "      <td>14</td>\n",
       "      <td>Center-eastern Millet and Livestock</td>\n",
       "      <td>Centre-est mil et élevage</td>\n",
       "      <td>Agro-Pastoral</td>\n",
       "      <td>MULTIPOLYGON (((-2940358.653 1787933.704, -294...</td>\n",
       "      <td>1</td>\n",
       "    </tr>\n",
       "    <tr>\n",
       "      <th>42</th>\n",
       "      <td>6</td>\n",
       "      <td>Western Groundnut, Sorghum, and Maize</td>\n",
       "      <td>Ouest arachide, sorgho et maïs</td>\n",
       "      <td>Rainfed Agriculture</td>\n",
       "      <td>MULTIPOLYGON (((-3721867.182 1657723.291, -372...</td>\n",
       "      <td>7</td>\n",
       "    </tr>\n",
       "    <tr>\n",
       "      <th>55</th>\n",
       "      <td>0</td>\n",
       "      <td>Eastern Rainfed Cereals and Market Gardening</td>\n",
       "      <td>Zone est: céréales pluviales et maraïchage</td>\n",
       "      <td>Rainfed Agriculture</td>\n",
       "      <td>MULTIPOLYGON (((-450402.789 1403340.854, -4241...</td>\n",
       "      <td>7</td>\n",
       "    </tr>\n",
       "    <tr>\n",
       "      <th>7</th>\n",
       "      <td>50</td>\n",
       "      <td>Southwest fruits, cotton, and cereals</td>\n",
       "      <td>Sud-ouest fruits, coton et céréales</td>\n",
       "      <td>Cash Crops and Rice</td>\n",
       "      <td>MULTIPOLYGON (((-3156819.184 1344660.029, -315...</td>\n",
       "      <td>2</td>\n",
       "    </tr>\n",
       "    <tr>\n",
       "      <th>11</th>\n",
       "      <td>345</td>\n",
       "      <td>Rainfed Sorghum Belt</td>\n",
       "      <td></td>\n",
       "      <td>Rainfed Agriculture</td>\n",
       "      <td>MULTIPOLYGON (((-268959.162 1469573.378, -2689...</td>\n",
       "      <td>7</td>\n",
       "    </tr>\n",
       "    <tr>\n",
       "      <th>30</th>\n",
       "      <td>0</td>\n",
       "      <td>North-west sorghum, maize, soybeans, and rice</td>\n",
       "      <td></td>\n",
       "      <td>Irrigated and River Valley Agriculture</td>\n",
       "      <td>MULTIPOLYGON (((-2222630.398 1373293.900, -222...</td>\n",
       "      <td>5</td>\n",
       "    </tr>\n",
       "    <tr>\n",
       "      <th>20</th>\n",
       "      <td>577</td>\n",
       "      <td>Not Zoned (Desert)</td>\n",
       "      <td>Pas de Zone (Désert)\\r\\n)</td>\n",
       "      <td>Desert</td>\n",
       "      <td>MULTIPOLYGON (((-2170700.285 2128289.259, -217...</td>\n",
       "      <td>3</td>\n",
       "    </tr>\n",
       "    <tr>\n",
       "      <th>56</th>\n",
       "      <td>0</td>\n",
       "      <td>Western Agropastoral and Fishing</td>\n",
       "      <td>Zone ouest agropastorale et de pêche</td>\n",
       "      <td>Irrigated and River Valley Agriculture</td>\n",
       "      <td>MULTIPOLYGON (((-1176415.584 1696549.161, -117...</td>\n",
       "      <td>5</td>\n",
       "    </tr>\n",
       "    <tr>\n",
       "      <th>46</th>\n",
       "      <td>10</td>\n",
       "      <td>Central Sorghum and Millet</td>\n",
       "      <td>Centre sorgho et mil</td>\n",
       "      <td>Rainfed Agriculture</td>\n",
       "      <td>MULTIPOLYGON (((-3493051.086 1650491.189, -349...</td>\n",
       "      <td>7</td>\n",
       "    </tr>\n",
       "    <tr>\n",
       "      <th>3</th>\n",
       "      <td>46</td>\n",
       "      <td>North transhumant pastoralism and millet</td>\n",
       "      <td>Nord élevage transhumant et mil</td>\n",
       "      <td>Agro-Pastoral</td>\n",
       "      <td>MULTIPOLYGON (((-2790099.917 1681066.838, -279...</td>\n",
       "      <td>1</td>\n",
       "    </tr>\n",
       "    <tr>\n",
       "      <th>52</th>\n",
       "      <td>16</td>\n",
       "      <td>Southwestern Gold Mining and Maize</td>\n",
       "      <td>Sud-ouest orpaillage et maïs</td>\n",
       "      <td>Cash Crops and Rice</td>\n",
       "      <td>MULTIPOLYGON (((-3746124.669 1410759.265, -374...</td>\n",
       "      <td>2</td>\n",
       "    </tr>\n",
       "    <tr>\n",
       "      <th>33</th>\n",
       "      <td>0</td>\n",
       "      <td>Lake Chad fishing, maize, wheat, cowpeas, and ...</td>\n",
       "      <td></td>\n",
       "      <td>Fishing</td>\n",
       "      <td>MULTIPOLYGON (((-1207165.847 1604549.928, -120...</td>\n",
       "      <td>4</td>\n",
       "    </tr>\n",
       "    <tr>\n",
       "      <th>5</th>\n",
       "      <td>48</td>\n",
       "      <td>Southeast cereals, livestock, forestry and faune</td>\n",
       "      <td>Sud-est céréales, élevage, foret et faune</td>\n",
       "      <td>Rainfed Agriculture</td>\n",
       "      <td>MULTIPOLYGON (((-2374851.791 1415559.440, -238...</td>\n",
       "      <td>7</td>\n",
       "    </tr>\n",
       "    <tr>\n",
       "      <th>6</th>\n",
       "      <td>49</td>\n",
       "      <td>West cotton and cereals</td>\n",
       "      <td>Ouest coton et céréales</td>\n",
       "      <td>Cash Crops and Rice</td>\n",
       "      <td>MULTIPOLYGON (((-3156092.412 1371865.974, -315...</td>\n",
       "      <td>2</td>\n",
       "    </tr>\n",
       "    <tr>\n",
       "      <th>9</th>\n",
       "      <td>340</td>\n",
       "      <td>West and Central Pastoral</td>\n",
       "      <td></td>\n",
       "      <td>Nomadic/Transhumant Pastoralist</td>\n",
       "      <td>MULTIPOLYGON (((-215993.421 1772609.205, -2159...</td>\n",
       "      <td>6</td>\n",
       "    </tr>\n",
       "    <tr>\n",
       "      <th>31</th>\n",
       "      <td>0</td>\n",
       "      <td>Kano-Katsina sahelian: millet, sorghum, sesame...</td>\n",
       "      <td></td>\n",
       "      <td>Rainfed Agriculture</td>\n",
       "      <td>MULTIPOLYGON (((-1809625.231 1547043.053, -180...</td>\n",
       "      <td>7</td>\n",
       "    </tr>\n",
       "    <tr>\n",
       "      <th>54</th>\n",
       "      <td>0</td>\n",
       "      <td>Northern Oasis Cultivation with Camels and Natron</td>\n",
       "      <td>Zone du nord: cultures oasiennes, élevage came...</td>\n",
       "      <td>Desert</td>\n",
       "      <td>MULTIPOLYGON (((-989643.668 1946122.275, -9932...</td>\n",
       "      <td>3</td>\n",
       "    </tr>\n",
       "    <tr>\n",
       "      <th>59</th>\n",
       "      <td>0</td>\n",
       "      <td>South-central Cereals</td>\n",
       "      <td>Zone sud-centrale céréaliculture</td>\n",
       "      <td>Agro-Pastoral</td>\n",
       "      <td>MULTIPOLYGON (((-583095.310 1306306.178, -5926...</td>\n",
       "      <td>1</td>\n",
       "    </tr>\n",
       "    <tr>\n",
       "      <th>36</th>\n",
       "      <td>0</td>\n",
       "      <td>North-east sahelian: millet, sesame, cowpeas, ...</td>\n",
       "      <td></td>\n",
       "      <td>Rainfed Agriculture</td>\n",
       "      <td>MULTIPOLYGON (((-1592825.739 1506723.191, -158...</td>\n",
       "      <td>7</td>\n",
       "    </tr>\n",
       "    <tr>\n",
       "      <th>21</th>\n",
       "      <td>578</td>\n",
       "      <td>Transhumant and Nomad Pastoralism</td>\n",
       "      <td>Zone Pastorale des Transhumants et des Nomades</td>\n",
       "      <td>Nomadic/Transhumant Pastoralist</td>\n",
       "      <td>MULTIPOLYGON (((-2505942.491 1742281.285, -250...</td>\n",
       "      <td>6</td>\n",
       "    </tr>\n",
       "  </tbody>\n",
       "</table>\n",
       "</div>"
      ],
      "text/plain": [
       "    OBJECTID                                           LZNAMEEN  \\\n",
       "50        14                Center-eastern Millet and Livestock   \n",
       "42         6              Western Groundnut, Sorghum, and Maize   \n",
       "55         0       Eastern Rainfed Cereals and Market Gardening   \n",
       "7         50              Southwest fruits, cotton, and cereals   \n",
       "11       345                               Rainfed Sorghum Belt   \n",
       "30         0      North-west sorghum, maize, soybeans, and rice   \n",
       "20       577                                 Not Zoned (Desert)   \n",
       "56         0                   Western Agropastoral and Fishing   \n",
       "46        10                         Central Sorghum and Millet   \n",
       "3         46           North transhumant pastoralism and millet   \n",
       "52        16                 Southwestern Gold Mining and Maize   \n",
       "33         0  Lake Chad fishing, maize, wheat, cowpeas, and ...   \n",
       "5         48   Southeast cereals, livestock, forestry and faune   \n",
       "6         49                            West cotton and cereals   \n",
       "9        340                          West and Central Pastoral   \n",
       "31         0  Kano-Katsina sahelian: millet, sorghum, sesame...   \n",
       "54         0  Northern Oasis Cultivation with Camels and Natron   \n",
       "59         0                              South-central Cereals   \n",
       "36         0  North-east sahelian: millet, sesame, cowpeas, ...   \n",
       "21       578                  Transhumant and Nomad Pastoralism   \n",
       "\n",
       "                                             LZNAMEFR  \\\n",
       "50                          Centre-est mil et élevage   \n",
       "42                     Ouest arachide, sorgho et maïs   \n",
       "55         Zone est: céréales pluviales et maraïchage   \n",
       "7                 Sud-ouest fruits, coton et céréales   \n",
       "11                                                      \n",
       "30                                                      \n",
       "20                          Pas de Zone (Désert)\\r\\n)   \n",
       "56               Zone ouest agropastorale et de pêche   \n",
       "46                               Centre sorgho et mil   \n",
       "3                     Nord élevage transhumant et mil   \n",
       "52                       Sud-ouest orpaillage et maïs   \n",
       "33                                                      \n",
       "5           Sud-est céréales, élevage, foret et faune   \n",
       "6                             Ouest coton et céréales   \n",
       "9                                                       \n",
       "31                                                      \n",
       "54  Zone du nord: cultures oasiennes, élevage came...   \n",
       "59                   Zone sud-centrale céréaliculture   \n",
       "36                                                      \n",
       "21     Zone Pastorale des Transhumants et des Nomades   \n",
       "\n",
       "                                 OECD_ZONE  \\\n",
       "50                           Agro-Pastoral   \n",
       "42                     Rainfed Agriculture   \n",
       "55                     Rainfed Agriculture   \n",
       "7                      Cash Crops and Rice   \n",
       "11                     Rainfed Agriculture   \n",
       "30  Irrigated and River Valley Agriculture   \n",
       "20                                  Desert   \n",
       "56  Irrigated and River Valley Agriculture   \n",
       "46                     Rainfed Agriculture   \n",
       "3                            Agro-Pastoral   \n",
       "52                     Cash Crops and Rice   \n",
       "33                                 Fishing   \n",
       "5                      Rainfed Agriculture   \n",
       "6                      Cash Crops and Rice   \n",
       "9          Nomadic/Transhumant Pastoralist   \n",
       "31                     Rainfed Agriculture   \n",
       "54                                  Desert   \n",
       "59                           Agro-Pastoral   \n",
       "36                     Rainfed Agriculture   \n",
       "21         Nomadic/Transhumant Pastoralist   \n",
       "\n",
       "                                             geometry  OECD_ZNUM  \n",
       "50  MULTIPOLYGON (((-2940358.653 1787933.704, -294...          1  \n",
       "42  MULTIPOLYGON (((-3721867.182 1657723.291, -372...          7  \n",
       "55  MULTIPOLYGON (((-450402.789 1403340.854, -4241...          7  \n",
       "7   MULTIPOLYGON (((-3156819.184 1344660.029, -315...          2  \n",
       "11  MULTIPOLYGON (((-268959.162 1469573.378, -2689...          7  \n",
       "30  MULTIPOLYGON (((-2222630.398 1373293.900, -222...          5  \n",
       "20  MULTIPOLYGON (((-2170700.285 2128289.259, -217...          3  \n",
       "56  MULTIPOLYGON (((-1176415.584 1696549.161, -117...          5  \n",
       "46  MULTIPOLYGON (((-3493051.086 1650491.189, -349...          7  \n",
       "3   MULTIPOLYGON (((-2790099.917 1681066.838, -279...          1  \n",
       "52  MULTIPOLYGON (((-3746124.669 1410759.265, -374...          2  \n",
       "33  MULTIPOLYGON (((-1207165.847 1604549.928, -120...          4  \n",
       "5   MULTIPOLYGON (((-2374851.791 1415559.440, -238...          7  \n",
       "6   MULTIPOLYGON (((-3156092.412 1371865.974, -315...          2  \n",
       "9   MULTIPOLYGON (((-215993.421 1772609.205, -2159...          6  \n",
       "31  MULTIPOLYGON (((-1809625.231 1547043.053, -180...          7  \n",
       "54  MULTIPOLYGON (((-989643.668 1946122.275, -9932...          3  \n",
       "59  MULTIPOLYGON (((-583095.310 1306306.178, -5926...          1  \n",
       "36  MULTIPOLYGON (((-1592825.739 1506723.191, -158...          7  \n",
       "21  MULTIPOLYGON (((-2505942.491 1742281.285, -250...          6  "
      ]
     },
     "execution_count": 35,
     "metadata": {},
     "output_type": "execute_result"
    }
   ],
   "source": [
    "LZ['OECD_ZNUM'] = LZ.groupby('OECD_ZONE').grouper.group_info[0]+1\n",
    "LZ.sample(20)"
   ]
  },
  {
   "cell_type": "markdown",
   "id": "e12931f1",
   "metadata": {},
   "source": [
    "## 3. RASTERIZE"
   ]
  },
  {
   "cell_type": "code",
   "execution_count": 70,
   "id": "1cfdca3b",
   "metadata": {},
   "outputs": [
    {
     "name": "stdout",
     "output_type": "stream",
     "text": [
      "<class 'geopandas.geodataframe.GeoDataFrame'>\n",
      "RangeIndex: 1433 entries, 0 to 1432\n",
      "Data columns (total 10 columns):\n",
      " #   Column      Non-Null Count  Dtype   \n",
      "---  ------      --------------  -----   \n",
      " 0   admin3Name  1433 non-null   object  \n",
      " 1   admin3Pcod  1433 non-null   object  \n",
      " 2   admin2Pcod  1433 non-null   object  \n",
      " 3   admin1Pcod  1433 non-null   object  \n",
      " 4   admin0Pcod  1433 non-null   object  \n",
      " 5   ADM3_CODE   1433 non-null   object  \n",
      " 6   ADM2_CODE   1433 non-null   object  \n",
      " 7   ADM1_CODE   1433 non-null   object  \n",
      " 8   geometry    1433 non-null   geometry\n",
      " 9   FID         1433 non-null   int64   \n",
      "dtypes: geometry(1), int64(1), object(8)\n",
      "memory usage: 112.1+ KB\n"
     ]
    }
   ],
   "source": [
    "ADM3, ADM2, ADM1 = gpd.read_file('LZ.gpkg', layer='ADM3'), gpd.read_file('LZ.gpkg', layer='ADM2'), gpd.read_file('LZ.gpkg', layer='ADM1')\n",
    "ADM3['FID'], ADM2['FID'], ADM1['FID'] = ADM3.index, ADM2.index, ADM1.index\n",
    "ADM3.info()"
   ]
  },
  {
   "cell_type": "code",
   "execution_count": 72,
   "id": "e0666bee",
   "metadata": {},
   "outputs": [
    {
     "name": "stdout",
     "output_type": "stream",
     "text": [
      "Rasterizing dataset. Sun Apr 30 17:41:15 2023\n",
      "Finished rasterizing. Checking contents. Sun Apr 30 17:41:41 2023\n",
      "\n",
      " [{'raster': 'ADM3.tif', 'bands': 1, 'data type': ('int32',), 'no data value': (0.0,), 'width': 43003, 'height': 22754, 'min': 0, 'mean': 531.3980212416258, 'median': 204.0, 'max': 1432}]\n",
      "\n",
      " [{'raster': 'ADM3.tif', 'bands': 1, 'data type': ('int32',), 'no data value': (0.0,), 'width': 43003, 'height': 22754, 'min': 0, 'mean': 531.3980212416258, 'median': 204.0, 'max': 1432}]\n"
     ]
    }
   ],
   "source": [
    "ShapeToRaster(ADM3, ValueVar='FID', MetaRasterPath='Empty_Sahel_100m_EqArea.tif', \n",
    "              OutFilePath='ADM3.tif', Band=1, NewDType='int32')"
   ]
  },
  {
   "cell_type": "code",
   "execution_count": 73,
   "id": "1e647f19",
   "metadata": {},
   "outputs": [
    {
     "name": "stdout",
     "output_type": "stream",
     "text": [
      "Rasterizing dataset. Sun Apr 30 17:41:57 2023\n",
      "Finished rasterizing. Checking contents. Sun Apr 30 17:42:20 2023\n",
      "\n",
      " [{'raster': 'ADM2.tif', 'bands': 1, 'data type': ('int32',), 'no data value': (0.0,), 'width': 43003, 'height': 22754, 'min': 0, 'mean': 66.34791939605425, 'median': 25.0, 'max': 274}]\n",
      "\n",
      " [{'raster': 'ADM2.tif', 'bands': 1, 'data type': ('int32',), 'no data value': (0.0,), 'width': 43003, 'height': 22754, 'min': 0, 'mean': 66.34791939605425, 'median': 25.0, 'max': 274}]\n"
     ]
    }
   ],
   "source": [
    "ShapeToRaster(ADM2, ValueVar='FID', MetaRasterPath='Empty_Sahel_100m_EqArea.tif', \n",
    "              OutFilePath='ADM2.tif', Band=1, NewDType='int32')"
   ]
  },
  {
   "cell_type": "code",
   "execution_count": 74,
   "id": "3cfcf0d1",
   "metadata": {},
   "outputs": [
    {
     "name": "stdout",
     "output_type": "stream",
     "text": [
      "Rasterizing dataset. Sun Apr 30 17:42:37 2023\n",
      "Finished rasterizing. Checking contents. Sun Apr 30 17:42:59 2023\n",
      "\n",
      " [{'raster': 'ADM1.tif', 'bands': 1, 'data type': ('int32',), 'no data value': (0.0,), 'width': 43003, 'height': 22754, 'min': 0, 'mean': 13.607009924438062, 'median': 7.0, 'max': 52}]\n",
      "\n",
      " [{'raster': 'ADM1.tif', 'bands': 1, 'data type': ('int32',), 'no data value': (0.0,), 'width': 43003, 'height': 22754, 'min': 0, 'mean': 13.607009924438062, 'median': 7.0, 'max': 52}]\n"
     ]
    }
   ],
   "source": [
    "ShapeToRaster(ADM1, ValueVar='FID', MetaRasterPath='Empty_Sahel_100m_EqArea.tif', \n",
    "              OutFilePath='ADM1.tif', Band=1, NewDType='int32')"
   ]
  },
  {
   "cell_type": "code",
   "execution_count": 75,
   "id": "70435ea7",
   "metadata": {},
   "outputs": [
    {
     "name": "stdout",
     "output_type": "stream",
     "text": [
      "Rasterizing dataset. Sun Apr 30 17:43:42 2023\n",
      "Finished rasterizing. Checking contents. Sun Apr 30 17:44:02 2023\n",
      "\n",
      " [{'raster': 'LZ.tif', 'bands': 1, 'data type': ('int32',), 'no data value': (0.0,), 'width': 43003, 'height': 22754, 'min': 0, 'mean': 1.883359035411637, 'median': 1.0, 'max': 8}]\n",
      "\n",
      " [{'raster': 'LZ.tif', 'bands': 1, 'data type': ('int32',), 'no data value': (0.0,), 'width': 43003, 'height': 22754, 'min': 0, 'mean': 1.883359035411637, 'median': 1.0, 'max': 8}]\n"
     ]
    }
   ],
   "source": [
    "ShapeToRaster(LZ, ValueVar='OECD_ZNUM', MetaRasterPath='Empty_Sahel_100m_EqArea.tif', \n",
    "              OutFilePath='LZ.tif', Band=1, NewDType='int32')"
   ]
  },
  {
   "cell_type": "markdown",
   "id": "4f78e533",
   "metadata": {},
   "source": [
    "## 4. CONCATENATION"
   ]
  },
  {
   "cell_type": "code",
   "execution_count": 76,
   "id": "41086b7f",
   "metadata": {},
   "outputs": [
    {
     "name": "stdout",
     "output_type": "stream",
     "text": [
      "1 2 3 4\n"
     ]
    }
   ],
   "source": [
    "# Calculate number of digits for each dataset.\n",
    "LZ_rio = rasterio.open('LZ.tif').read(1)\n",
    "ADM1_rio = rasterio.open('ADM1.tif').read(1)\n",
    "ADM2_rio = rasterio.open('ADM2.tif').read(1)\n",
    "ADM3_rio = rasterio.open('ADM3.tif').read(1)\n",
    "\n",
    "len_LZ = len(str(LZ_rio.max()))\n",
    "len_ADM1 = len(str(ADM1_rio.max()))\n",
    "len_ADM2 = len(str(ADM2_rio.max()))\n",
    "len_ADM3 = len(str(ADM3_rio.max()))\n",
    "print(len_LZ, len_ADM1, len_ADM2, len_ADM3)\n",
    "\n",
    "LZ_rio = ADM1_rio = ADM2_rio = ADM3_rio = None"
   ]
  },
  {
   "cell_type": "code",
   "execution_count": 79,
   "id": "08145e9a",
   "metadata": {},
   "outputs": [
    {
     "name": "stdout",
     "output_type": "stream",
     "text": [
      "Running for ADM1.tif. Sun Apr 30 18:25:06 2023\n",
      "Ran in shell. See OutFile folder to inspect results. Sun Apr 30 18:26:40 2023\n",
      "Running for ADM2.tif. Sun Apr 30 18:26:40 2023\n",
      "Ran in shell. See OutFile folder to inspect results. Sun Apr 30 18:28:00 2023\n",
      "Running for ADM3.tif. Sun Apr 30 18:28:00 2023\n",
      "Ran in shell. See OutFile folder to inspect results. Sun Apr 30 18:29:40 2023\n"
     ]
    }
   ],
   "source": [
    "# Calculations\n",
    "# The number of digits in the largest index value of Variable B becomes\n",
    "# the number of zeroes we tack onto Variable A in the serial.\n",
    "\n",
    "Calc = \"(A*\" + str(10**len_LZ) + \")+B\" \n",
    "\n",
    "calcShell(A='ADM1.tif', B='LZ.tif', OutFile='ADM1_LZ.tif', Calculation=Calc)\n",
    "calcShell(A='ADM2.tif', B='LZ.tif', OutFile='ADM2_LZ.tif', Calculation=Calc)\n",
    "calcShell(A='ADM3.tif', B='LZ.tif', OutFile='ADM3_LZ.tif', Calculation=Calc)"
   ]
  },
  {
   "cell_type": "markdown",
   "id": "89967bd2",
   "metadata": {},
   "source": [
    "## 5. VECTOR JOINS"
   ]
  },
  {
   "cell_type": "markdown",
   "id": "97295114",
   "metadata": {},
   "source": [
    "### 5.1 Polygonize admin and livelihood combos."
   ]
  },
  {
   "cell_type": "code",
   "execution_count": null,
   "id": "756584eb",
   "metadata": {},
   "outputs": [],
   "source": [
    "RasterToShapefile('ADM1_LZ.tif', OutFilePath='ADM1_LZ.shp', Driver='ESRI Shapefile')\n",
    "RasterToShapefile('ADM2_LZ.tif', OutFilePath='ADM2_LZ.shp', Driver='ESRI Shapefile')\n",
    "RasterToShapefile('ADM3_LZ.tif', OutFilePath='ADM3_LZ.shp', Driver='ESRI Shapefile')"
   ]
  },
  {
   "cell_type": "code",
   "execution_count": 12,
   "id": "a2b539e8",
   "metadata": {},
   "outputs": [
    {
     "name": "stdout",
     "output_type": "stream",
     "text": [
      "<class 'geopandas.geodataframe.GeoDataFrame'>\n",
      "RangeIndex: 3958 entries, 0 to 3957\n",
      "Data columns (total 2 columns):\n",
      " #   Column    Non-Null Count  Dtype   \n",
      "---  ------    --------------  -----   \n",
      " 0   value     3958 non-null   int64   \n",
      " 1   geometry  3958 non-null   geometry\n",
      "dtypes: geometry(1), int64(1)\n",
      "memory usage: 62.0 KB\n",
      "<class 'geopandas.geodataframe.GeoDataFrame'>\n",
      "RangeIndex: 6349 entries, 0 to 6348\n",
      "Data columns (total 2 columns):\n",
      " #   Column    Non-Null Count  Dtype   \n",
      "---  ------    --------------  -----   \n",
      " 0   value     6349 non-null   int64   \n",
      " 1   geometry  6349 non-null   geometry\n",
      "dtypes: geometry(1), int64(1)\n",
      "memory usage: 99.3 KB\n",
      "<class 'geopandas.geodataframe.GeoDataFrame'>\n",
      "RangeIndex: 9980 entries, 0 to 9979\n",
      "Data columns (total 2 columns):\n",
      " #   Column    Non-Null Count  Dtype   \n",
      "---  ------    --------------  -----   \n",
      " 0   value     9980 non-null   int64   \n",
      " 1   geometry  9980 non-null   geometry\n",
      "dtypes: geometry(1), int64(1)\n",
      "memory usage: 156.1 KB\n",
      "None None None\n"
     ]
    }
   ],
   "source": [
    "ADM1_LZ = gpd.read_file('ADM1_LZ.shp')\n",
    "ADM2_LZ = gpd.read_file('ADM2_LZ.shp')\n",
    "ADM3_LZ = gpd.read_file('ADM3_LZ.shp')\n",
    "\n",
    "print(ADM1_LZ.info(), \n",
    "      ADM2_LZ.info(), \n",
    "      ADM3_LZ.info())"
   ]
  },
  {
   "cell_type": "markdown",
   "id": "793aa66d",
   "metadata": {},
   "source": [
    "### 5.2 Split concatenated IDs"
   ]
  },
  {
   "cell_type": "code",
   "execution_count": 13,
   "id": "dba74ddc",
   "metadata": {},
   "outputs": [],
   "source": [
    "# # If starting from here...\n",
    "# len_LZ = 1\n",
    "# len_ADM1 = 2\n",
    "# len_ADM2 = 3\n",
    "# len_ADM3 = 4"
   ]
  },
  {
   "cell_type": "code",
   "execution_count": 14,
   "id": "76842e49",
   "metadata": {},
   "outputs": [
    {
     "name": "stdout",
     "output_type": "stream",
     "text": [
      "           value                                           geometry  \\\n",
      "1486         286  POLYGON ((-1429221.977 1864453.146, -1427542.0...   \n",
      "1693         117  POLYGON ((-2792847.044 1598412.309, -2792670.2...   \n",
      "1068 -2147483647  POLYGON ((-1162031.745 1757382.540, -1161943.3...   \n",
      "1305         188  POLYGON ((-3037226.198 1683732.817, -3036960.9...   \n",
      "1503         117  POLYGON ((-2812563.597 1627677.686, -2812386.7...   \n",
      "\n",
      "        valstring  ADM1_CODE  LZ  \n",
      "1486          286         28   6  \n",
      "1693          117         11   7  \n",
      "1068  -2147483647 -214748364   7  \n",
      "1305          188         18   8  \n",
      "1503          117         11   7              value                                           geometry  \\\n",
      "4699         452  POLYGON ((-3449063.425 1452350.674, -3448975.0...   \n",
      "2505         537  POLYGON ((-3749320.880 1614769.091, -3749232.4...   \n",
      "2724         127  POLYGON ((-2790990.328 1596113.519, -2790725.0...   \n",
      "3152 -2147483647  POLYGON ((-2494181.060 1565610.332, -2494092.6...   \n",
      "269         2673  POLYGON ((-985466.923 2134914.735, -985378.508...   \n",
      "\n",
      "        valstring  ADM2_CODE  LZ  \n",
      "4699         0452         45   2  \n",
      "2505         0537         53   7  \n",
      "2724         0127         12   7  \n",
      "3152  -2147483647 -214748364   7  \n",
      "269          2673        267   3              value                                           geometry  \\\n",
      "9517        1592  POLYGON ((-2864109.561 1311151.865, -2863667.4...   \n",
      "8316        9972  POLYGON ((-3110345.431 1392140.036, -3110257.0...   \n",
      "9219       13387  POLYGON ((-634812.898 1332283.058, -634724.483...   \n",
      "8033 -2147483647  POLYGON ((-2374201.859 1414597.454, -2374113.4...   \n",
      "1641 -2147483647  POLYGON ((-1146735.944 1778160.073, -1146647.5...   \n",
      "\n",
      "        valstring  ADM3_CODE  LZ  \n",
      "9517        01592        159   2  \n",
      "8316        09972        997   2  \n",
      "9219        13387       1338   7  \n",
      "8033  -2147483647 -214748364   7  \n",
      "1641  -2147483647 -214748364   7  \n"
     ]
    }
   ],
   "source": [
    "ADM1_LZ['valstring'] = ADM1_LZ['value'].astype(str).str.zfill(3)\n",
    "ADM1_LZ['ADM1_CODE'] = ADM1_LZ['valstring'].str[:-len_LZ].astype(int)\n",
    "ADM1_LZ['LZ'] = ADM1_LZ['valstring'].str[-len_LZ:].astype(int)\n",
    "\n",
    "ADM2_LZ['valstring'] = ADM2_LZ['value'].astype(str).str.zfill(4)\n",
    "ADM2_LZ['ADM2_CODE'] = ADM2_LZ['valstring'].str[:-len_LZ].astype(int)\n",
    "ADM2_LZ['LZ'] = ADM2_LZ['valstring'].str[-len_LZ:].astype(int)\n",
    "\n",
    "ADM3_LZ['valstring'] = ADM3_LZ['value'].astype(str).str.zfill(5)\n",
    "ADM3_LZ['ADM3_CODE'] = ADM3_LZ['valstring'].str[:-len_LZ].astype(int)\n",
    "ADM3_LZ['LZ'] = ADM3_LZ['valstring'].str[-len_LZ:].astype(int)\n",
    "\n",
    "print(ADM1_LZ.sample(5), ADM2_LZ.sample(5), ADM3_LZ.sample(5))"
   ]
  },
  {
   "cell_type": "markdown",
   "id": "907c9280",
   "metadata": {},
   "source": [
    "### 5.3 Spatial join with GRID3 (rural only)"
   ]
  },
  {
   "cell_type": "code",
   "execution_count": 16,
   "id": "4ef9c3ca",
   "metadata": {},
   "outputs": [],
   "source": [
    "# # If starting from here...\n",
    "# G3 = gpd.read_file(filename='LZ.gpkg', layer='GRID3_Sahel_rural')"
   ]
  },
  {
   "cell_type": "code",
   "execution_count": 18,
   "id": "6fd6acf6",
   "metadata": {},
   "outputs": [
    {
     "name": "stdout",
     "output_type": "stream",
     "text": [
      "Done with ADM1.\n",
      "<class 'geopandas.geodataframe.GeoDataFrame'>\n",
      "Int64Index: 1718863 entries, 0 to 1709336\n",
      "Data columns (total 8 columns):\n",
      " #   Column       Dtype   \n",
      "---  ------       -----   \n",
      " 0   OBJECTID     int64   \n",
      " 1   type         object  \n",
      " 2   population   float64 \n",
      " 3   pop_un_adj   float64 \n",
      " 4   geometry     geometry\n",
      " 5   index_right  int64   \n",
      " 6   ADM1_CODE    int32   \n",
      " 7   LZ           int32   \n",
      "dtypes: float64(2), geometry(1), int32(2), int64(2), object(1)\n",
      "memory usage: 104.9+ MB\n"
     ]
    }
   ],
   "source": [
    "G3_ADM = gpd.sjoin(G3, ADM1_LZ[['ADM1_CODE', 'LZ', 'geometry']], how='left')\n",
    "print('Done with ADM1.')\n",
    "G3_ADM.info()"
   ]
  },
  {
   "cell_type": "code",
   "execution_count": 19,
   "id": "afe7981c",
   "metadata": {},
   "outputs": [
    {
     "data": {
      "text/html": [
       "<div>\n",
       "<style scoped>\n",
       "    .dataframe tbody tr th:only-of-type {\n",
       "        vertical-align: middle;\n",
       "    }\n",
       "\n",
       "    .dataframe tbody tr th {\n",
       "        vertical-align: top;\n",
       "    }\n",
       "\n",
       "    .dataframe thead th {\n",
       "        text-align: right;\n",
       "    }\n",
       "</style>\n",
       "<table border=\"1\" class=\"dataframe\">\n",
       "  <thead>\n",
       "    <tr style=\"text-align: right;\">\n",
       "      <th></th>\n",
       "      <th>OBJECTID</th>\n",
       "      <th>type</th>\n",
       "      <th>population</th>\n",
       "      <th>pop_un_adj</th>\n",
       "      <th>geometry</th>\n",
       "      <th>index_right</th>\n",
       "      <th>ADM1_CODE</th>\n",
       "      <th>LZ</th>\n",
       "    </tr>\n",
       "  </thead>\n",
       "  <tbody>\n",
       "    <tr>\n",
       "      <th>813275</th>\n",
       "      <td>198611</td>\n",
       "      <td>Hamlet</td>\n",
       "      <td>2.441029</td>\n",
       "      <td>2.124485</td>\n",
       "      <td>MULTIPOLYGON (((-3144295.559 1430155.467, -314...</td>\n",
       "      <td>3377</td>\n",
       "      <td>20</td>\n",
       "      <td>7</td>\n",
       "    </tr>\n",
       "    <tr>\n",
       "      <th>412843</th>\n",
       "      <td>413141</td>\n",
       "      <td>Hamlet</td>\n",
       "      <td>13.088088</td>\n",
       "      <td>11.982290</td>\n",
       "      <td>MULTIPOLYGON (((-2789892.759 1499474.903, -278...</td>\n",
       "      <td>2892</td>\n",
       "      <td>9</td>\n",
       "      <td>7</td>\n",
       "    </tr>\n",
       "    <tr>\n",
       "      <th>574465</th>\n",
       "      <td>574830</td>\n",
       "      <td>Hamlet</td>\n",
       "      <td>13.845990</td>\n",
       "      <td>12.676158</td>\n",
       "      <td>MULTIPOLYGON (((-2505768.921 1540631.298, -250...</td>\n",
       "      <td>2478</td>\n",
       "      <td>11</td>\n",
       "      <td>1</td>\n",
       "    </tr>\n",
       "    <tr>\n",
       "      <th>27127</th>\n",
       "      <td>27144</td>\n",
       "      <td>Hamlet</td>\n",
       "      <td>38.429897</td>\n",
       "      <td>35.182998</td>\n",
       "      <td>MULTIPOLYGON (((-3043716.365 1248291.755, -304...</td>\n",
       "      <td>3940</td>\n",
       "      <td>2</td>\n",
       "      <td>2</td>\n",
       "    </tr>\n",
       "    <tr>\n",
       "      <th>1196631</th>\n",
       "      <td>161732</td>\n",
       "      <td>Hamlet</td>\n",
       "      <td>17.597507</td>\n",
       "      <td>17.768718</td>\n",
       "      <td>MULTIPOLYGON (((-2531281.046 1684283.321, -253...</td>\n",
       "      <td>1681</td>\n",
       "      <td>27</td>\n",
       "      <td>1</td>\n",
       "    </tr>\n",
       "    <tr>\n",
       "      <th>333996</th>\n",
       "      <td>334233</td>\n",
       "      <td>Hamlet</td>\n",
       "      <td>10.873146</td>\n",
       "      <td>9.954486</td>\n",
       "      <td>MULTIPOLYGON (((-2535768.293 1384897.771, -253...</td>\n",
       "      <td>3834</td>\n",
       "      <td>7</td>\n",
       "      <td>7</td>\n",
       "    </tr>\n",
       "    <tr>\n",
       "      <th>1426655</th>\n",
       "      <td>70714</td>\n",
       "      <td>Hamlet</td>\n",
       "      <td>8.139250</td>\n",
       "      <td>8.053419</td>\n",
       "      <td>MULTIPOLYGON (((-819330.303 1291222.122, -8193...</td>\n",
       "      <td>3917</td>\n",
       "      <td>33</td>\n",
       "      <td>1</td>\n",
       "    </tr>\n",
       "    <tr>\n",
       "      <th>1083897</th>\n",
       "      <td>48821</td>\n",
       "      <td>Small Settlement Area</td>\n",
       "      <td>188.512478</td>\n",
       "      <td>190.346560</td>\n",
       "      <td>MULTIPOLYGON (((-2478631.938 1569923.537, -247...</td>\n",
       "      <td>3289</td>\n",
       "      <td>27</td>\n",
       "      <td>7</td>\n",
       "    </tr>\n",
       "    <tr>\n",
       "      <th>108300</th>\n",
       "      <td>108398</td>\n",
       "      <td>Hamlet</td>\n",
       "      <td>7.509912</td>\n",
       "      <td>6.875408</td>\n",
       "      <td>MULTIPOLYGON (((-2985693.089 1337880.288, -298...</td>\n",
       "      <td>3848</td>\n",
       "      <td>8</td>\n",
       "      <td>2</td>\n",
       "    </tr>\n",
       "    <tr>\n",
       "      <th>1412447</th>\n",
       "      <td>56495</td>\n",
       "      <td>Small Settlement Area</td>\n",
       "      <td>219.266640</td>\n",
       "      <td>216.954413</td>\n",
       "      <td>MULTIPOLYGON (((-1042841.321 1169726.060, -104...</td>\n",
       "      <td>3945</td>\n",
       "      <td>40</td>\n",
       "      <td>2</td>\n",
       "    </tr>\n",
       "    <tr>\n",
       "      <th>1353000</th>\n",
       "      <td>318262</td>\n",
       "      <td>Hamlet</td>\n",
       "      <td>4.997396</td>\n",
       "      <td>5.046017</td>\n",
       "      <td>MULTIPOLYGON (((-1531507.725 1764106.684, -153...</td>\n",
       "      <td>1189</td>\n",
       "      <td>28</td>\n",
       "      <td>1</td>\n",
       "    </tr>\n",
       "    <tr>\n",
       "      <th>589094</th>\n",
       "      <td>589463</td>\n",
       "      <td>Hamlet</td>\n",
       "      <td>19.785907</td>\n",
       "      <td>18.114218</td>\n",
       "      <td>MULTIPOLYGON (((-2561457.207 1620826.514, -256...</td>\n",
       "      <td>2478</td>\n",
       "      <td>11</td>\n",
       "      <td>1</td>\n",
       "    </tr>\n",
       "    <tr>\n",
       "      <th>391915</th>\n",
       "      <td>392177</td>\n",
       "      <td>Hamlet</td>\n",
       "      <td>8.796332</td>\n",
       "      <td>8.053140</td>\n",
       "      <td>MULTIPOLYGON (((-3044092.328 1494411.539, -304...</td>\n",
       "      <td>3045</td>\n",
       "      <td>1</td>\n",
       "      <td>7</td>\n",
       "    </tr>\n",
       "    <tr>\n",
       "      <th>93259</th>\n",
       "      <td>93332</td>\n",
       "      <td>Hamlet</td>\n",
       "      <td>7.278867</td>\n",
       "      <td>6.663884</td>\n",
       "      <td>MULTIPOLYGON (((-2917051.234 1198820.021, -291...</td>\n",
       "      <td>3943</td>\n",
       "      <td>12</td>\n",
       "      <td>2</td>\n",
       "    </tr>\n",
       "    <tr>\n",
       "      <th>1221429</th>\n",
       "      <td>186603</td>\n",
       "      <td>Hamlet</td>\n",
       "      <td>12.730244</td>\n",
       "      <td>12.854099</td>\n",
       "      <td>MULTIPOLYGON (((-2008069.956 1910638.395, -200...</td>\n",
       "      <td>1071</td>\n",
       "      <td>26</td>\n",
       "      <td>6</td>\n",
       "    </tr>\n",
       "    <tr>\n",
       "      <th>1597937</th>\n",
       "      <td>242095</td>\n",
       "      <td>Hamlet</td>\n",
       "      <td>18.570566</td>\n",
       "      <td>18.374734</td>\n",
       "      <td>MULTIPOLYGON (((-1114264.534 1638015.589, -111...</td>\n",
       "      <td>2501</td>\n",
       "      <td>36</td>\n",
       "      <td>5</td>\n",
       "    </tr>\n",
       "    <tr>\n",
       "      <th>229906</th>\n",
       "      <td>230095</td>\n",
       "      <td>Hamlet</td>\n",
       "      <td>18.506837</td>\n",
       "      <td>16.943216</td>\n",
       "      <td>MULTIPOLYGON (((-2720203.353 1419781.846, -272...</td>\n",
       "      <td>3243</td>\n",
       "      <td>-214748364</td>\n",
       "      <td>7</td>\n",
       "    </tr>\n",
       "    <tr>\n",
       "      <th>1123326</th>\n",
       "      <td>88266</td>\n",
       "      <td>Hamlet</td>\n",
       "      <td>6.781325</td>\n",
       "      <td>6.847302</td>\n",
       "      <td>MULTIPOLYGON (((-2357563.718 1476744.123, -235...</td>\n",
       "      <td>3289</td>\n",
       "      <td>27</td>\n",
       "      <td>7</td>\n",
       "    </tr>\n",
       "    <tr>\n",
       "      <th>1153959</th>\n",
       "      <td>118944</td>\n",
       "      <td>Hamlet</td>\n",
       "      <td>13.847836</td>\n",
       "      <td>13.982565</td>\n",
       "      <td>MULTIPOLYGON (((-2061711.848 1626848.095, -206...</td>\n",
       "      <td>1663</td>\n",
       "      <td>26</td>\n",
       "      <td>7</td>\n",
       "    </tr>\n",
       "    <tr>\n",
       "      <th>255292</th>\n",
       "      <td>255505</td>\n",
       "      <td>Hamlet</td>\n",
       "      <td>20.770719</td>\n",
       "      <td>19.015824</td>\n",
       "      <td>MULTIPOLYGON (((-2634054.816 1337333.043, -263...</td>\n",
       "      <td>3836</td>\n",
       "      <td>3</td>\n",
       "      <td>7</td>\n",
       "    </tr>\n",
       "  </tbody>\n",
       "</table>\n",
       "</div>"
      ],
      "text/plain": [
       "         OBJECTID                   type  population  pop_un_adj  \\\n",
       "813275     198611                 Hamlet    2.441029    2.124485   \n",
       "412843     413141                 Hamlet   13.088088   11.982290   \n",
       "574465     574830                 Hamlet   13.845990   12.676158   \n",
       "27127       27144                 Hamlet   38.429897   35.182998   \n",
       "1196631    161732                 Hamlet   17.597507   17.768718   \n",
       "333996     334233                 Hamlet   10.873146    9.954486   \n",
       "1426655     70714                 Hamlet    8.139250    8.053419   \n",
       "1083897     48821  Small Settlement Area  188.512478  190.346560   \n",
       "108300     108398                 Hamlet    7.509912    6.875408   \n",
       "1412447     56495  Small Settlement Area  219.266640  216.954413   \n",
       "1353000    318262                 Hamlet    4.997396    5.046017   \n",
       "589094     589463                 Hamlet   19.785907   18.114218   \n",
       "391915     392177                 Hamlet    8.796332    8.053140   \n",
       "93259       93332                 Hamlet    7.278867    6.663884   \n",
       "1221429    186603                 Hamlet   12.730244   12.854099   \n",
       "1597937    242095                 Hamlet   18.570566   18.374734   \n",
       "229906     230095                 Hamlet   18.506837   16.943216   \n",
       "1123326     88266                 Hamlet    6.781325    6.847302   \n",
       "1153959    118944                 Hamlet   13.847836   13.982565   \n",
       "255292     255505                 Hamlet   20.770719   19.015824   \n",
       "\n",
       "                                                  geometry  index_right  \\\n",
       "813275   MULTIPOLYGON (((-3144295.559 1430155.467, -314...         3377   \n",
       "412843   MULTIPOLYGON (((-2789892.759 1499474.903, -278...         2892   \n",
       "574465   MULTIPOLYGON (((-2505768.921 1540631.298, -250...         2478   \n",
       "27127    MULTIPOLYGON (((-3043716.365 1248291.755, -304...         3940   \n",
       "1196631  MULTIPOLYGON (((-2531281.046 1684283.321, -253...         1681   \n",
       "333996   MULTIPOLYGON (((-2535768.293 1384897.771, -253...         3834   \n",
       "1426655  MULTIPOLYGON (((-819330.303 1291222.122, -8193...         3917   \n",
       "1083897  MULTIPOLYGON (((-2478631.938 1569923.537, -247...         3289   \n",
       "108300   MULTIPOLYGON (((-2985693.089 1337880.288, -298...         3848   \n",
       "1412447  MULTIPOLYGON (((-1042841.321 1169726.060, -104...         3945   \n",
       "1353000  MULTIPOLYGON (((-1531507.725 1764106.684, -153...         1189   \n",
       "589094   MULTIPOLYGON (((-2561457.207 1620826.514, -256...         2478   \n",
       "391915   MULTIPOLYGON (((-3044092.328 1494411.539, -304...         3045   \n",
       "93259    MULTIPOLYGON (((-2917051.234 1198820.021, -291...         3943   \n",
       "1221429  MULTIPOLYGON (((-2008069.956 1910638.395, -200...         1071   \n",
       "1597937  MULTIPOLYGON (((-1114264.534 1638015.589, -111...         2501   \n",
       "229906   MULTIPOLYGON (((-2720203.353 1419781.846, -272...         3243   \n",
       "1123326  MULTIPOLYGON (((-2357563.718 1476744.123, -235...         3289   \n",
       "1153959  MULTIPOLYGON (((-2061711.848 1626848.095, -206...         1663   \n",
       "255292   MULTIPOLYGON (((-2634054.816 1337333.043, -263...         3836   \n",
       "\n",
       "         ADM1_CODE  LZ  \n",
       "813275          20   7  \n",
       "412843           9   7  \n",
       "574465          11   1  \n",
       "27127            2   2  \n",
       "1196631         27   1  \n",
       "333996           7   7  \n",
       "1426655         33   1  \n",
       "1083897         27   7  \n",
       "108300           8   2  \n",
       "1412447         40   2  \n",
       "1353000         28   1  \n",
       "589094          11   1  \n",
       "391915           1   7  \n",
       "93259           12   2  \n",
       "1221429         26   6  \n",
       "1597937         36   5  \n",
       "229906  -214748364   7  \n",
       "1123326         27   7  \n",
       "1153959         26   7  \n",
       "255292           3   7  "
      ]
     },
     "execution_count": 19,
     "metadata": {},
     "output_type": "execute_result"
    }
   ],
   "source": [
    "G3_ADM.sample(20)"
   ]
  },
  {
   "cell_type": "code",
   "execution_count": 17,
   "id": "4ab5b7db",
   "metadata": {
    "scrolled": true
   },
   "outputs": [
    {
     "name": "stdout",
     "output_type": "stream",
     "text": [
      "Done with ADM1.\n"
     ]
    },
    {
     "ename": "ValueError",
     "evalue": "'index_left' and 'index_right' cannot be names in the frames being joined",
     "output_type": "error",
     "traceback": [
      "\u001b[1;31m---------------------------------------------------------------------------\u001b[0m",
      "\u001b[1;31mValueError\u001b[0m                                Traceback (most recent call last)",
      "Cell \u001b[1;32mIn [17], line 3\u001b[0m\n\u001b[0;32m      1\u001b[0m G3_ADM \u001b[38;5;241m=\u001b[39m gpd\u001b[38;5;241m.\u001b[39msjoin(G3, ADM1_LZ[[\u001b[38;5;124m'\u001b[39m\u001b[38;5;124mADM1_CODE\u001b[39m\u001b[38;5;124m'\u001b[39m, \u001b[38;5;124m'\u001b[39m\u001b[38;5;124mLZ\u001b[39m\u001b[38;5;124m'\u001b[39m, \u001b[38;5;124m'\u001b[39m\u001b[38;5;124mgeometry\u001b[39m\u001b[38;5;124m'\u001b[39m]], how\u001b[38;5;241m=\u001b[39m\u001b[38;5;124m'\u001b[39m\u001b[38;5;124mleft\u001b[39m\u001b[38;5;124m'\u001b[39m)\n\u001b[0;32m      2\u001b[0m \u001b[38;5;28mprint\u001b[39m(\u001b[38;5;124m'\u001b[39m\u001b[38;5;124mDone with ADM1.\u001b[39m\u001b[38;5;124m'\u001b[39m)\n\u001b[1;32m----> 3\u001b[0m G3_ADM \u001b[38;5;241m=\u001b[39m \u001b[43mgpd\u001b[49m\u001b[38;5;241;43m.\u001b[39;49m\u001b[43msjoin\u001b[49m\u001b[43m(\u001b[49m\u001b[43mG3_ADM\u001b[49m\u001b[43m,\u001b[49m\u001b[43m \u001b[49m\u001b[43mADM2_LZ\u001b[49m\u001b[43m[\u001b[49m\u001b[43m[\u001b[49m\u001b[38;5;124;43m'\u001b[39;49m\u001b[38;5;124;43mADM2_CODE\u001b[39;49m\u001b[38;5;124;43m'\u001b[39;49m\u001b[43m,\u001b[49m\u001b[43m \u001b[49m\u001b[38;5;124;43m'\u001b[39;49m\u001b[38;5;124;43mLZ\u001b[39;49m\u001b[38;5;124;43m'\u001b[39;49m\u001b[43m,\u001b[49m\u001b[43m \u001b[49m\u001b[38;5;124;43m'\u001b[39;49m\u001b[38;5;124;43mgeometry\u001b[39;49m\u001b[38;5;124;43m'\u001b[39;49m\u001b[43m]\u001b[49m\u001b[43m]\u001b[49m\u001b[43m,\u001b[49m\u001b[43m \u001b[49m\u001b[43mhow\u001b[49m\u001b[38;5;241;43m=\u001b[39;49m\u001b[38;5;124;43m'\u001b[39;49m\u001b[38;5;124;43mleft\u001b[39;49m\u001b[38;5;124;43m'\u001b[39;49m\u001b[43m)\u001b[49m\n\u001b[0;32m      4\u001b[0m \u001b[38;5;28mprint\u001b[39m(\u001b[38;5;124m'\u001b[39m\u001b[38;5;124mDone with ADM2.\u001b[39m\u001b[38;5;124m'\u001b[39m)\n\u001b[0;32m      5\u001b[0m G3_ADM \u001b[38;5;241m=\u001b[39m pd\u001b[38;5;241m.\u001b[39mDataFrame(gpd\u001b[38;5;241m.\u001b[39msjoin(G3_ADM, ADM3_LZ[[\u001b[38;5;124m'\u001b[39m\u001b[38;5;124mADM3_CODE\u001b[39m\u001b[38;5;124m'\u001b[39m, \u001b[38;5;124m'\u001b[39m\u001b[38;5;124mLZ\u001b[39m\u001b[38;5;124m'\u001b[39m, \u001b[38;5;124m'\u001b[39m\u001b[38;5;124mgeometry\u001b[39m\u001b[38;5;124m'\u001b[39m]], how\u001b[38;5;241m=\u001b[39m\u001b[38;5;124m'\u001b[39m\u001b[38;5;124mleft\u001b[39m\u001b[38;5;124m'\u001b[39m))\u001b[38;5;241m.\u001b[39mdrop(columns\u001b[38;5;241m=\u001b[39m\u001b[38;5;124m'\u001b[39m\u001b[38;5;124mgeometry\u001b[39m\u001b[38;5;124m'\u001b[39m)\n",
      "File \u001b[1;32m~\\miniconda3\\envs\\geo\\lib\\site-packages\\geopandas\\tools\\sjoin.py:122\u001b[0m, in \u001b[0;36msjoin\u001b[1;34m(left_df, right_df, how, predicate, lsuffix, rsuffix, **kwargs)\u001b[0m\n\u001b[0;32m    119\u001b[0m     first \u001b[38;5;241m=\u001b[39m \u001b[38;5;28mnext\u001b[39m(\u001b[38;5;28miter\u001b[39m(kwargs\u001b[38;5;241m.\u001b[39mkeys()))\n\u001b[0;32m    120\u001b[0m     \u001b[38;5;28;01mraise\u001b[39;00m \u001b[38;5;167;01mTypeError\u001b[39;00m(\u001b[38;5;124mf\u001b[39m\u001b[38;5;124m\"\u001b[39m\u001b[38;5;124msjoin() got an unexpected keyword argument \u001b[39m\u001b[38;5;124m'\u001b[39m\u001b[38;5;132;01m{\u001b[39;00mfirst\u001b[38;5;132;01m}\u001b[39;00m\u001b[38;5;124m'\u001b[39m\u001b[38;5;124m\"\u001b[39m)\n\u001b[1;32m--> 122\u001b[0m \u001b[43m_basic_checks\u001b[49m\u001b[43m(\u001b[49m\u001b[43mleft_df\u001b[49m\u001b[43m,\u001b[49m\u001b[43m \u001b[49m\u001b[43mright_df\u001b[49m\u001b[43m,\u001b[49m\u001b[43m \u001b[49m\u001b[43mhow\u001b[49m\u001b[43m,\u001b[49m\u001b[43m \u001b[49m\u001b[43mlsuffix\u001b[49m\u001b[43m,\u001b[49m\u001b[43m \u001b[49m\u001b[43mrsuffix\u001b[49m\u001b[43m)\u001b[49m\n\u001b[0;32m    124\u001b[0m indices \u001b[38;5;241m=\u001b[39m _geom_predicate_query(left_df, right_df, predicate)\n\u001b[0;32m    126\u001b[0m joined \u001b[38;5;241m=\u001b[39m _frame_join(indices, left_df, right_df, how, lsuffix, rsuffix)\n",
      "File \u001b[1;32m~\\miniconda3\\envs\\geo\\lib\\site-packages\\geopandas\\tools\\sjoin.py:175\u001b[0m, in \u001b[0;36m_basic_checks\u001b[1;34m(left_df, right_df, how, lsuffix, rsuffix)\u001b[0m\n\u001b[0;32m    171\u001b[0m \u001b[38;5;66;03m# due to GH 352\u001b[39;00m\n\u001b[0;32m    172\u001b[0m \u001b[38;5;28;01mif\u001b[39;00m \u001b[38;5;28many\u001b[39m(left_df\u001b[38;5;241m.\u001b[39mcolumns\u001b[38;5;241m.\u001b[39misin([index_left, index_right])) \u001b[38;5;129;01mor\u001b[39;00m \u001b[38;5;28many\u001b[39m(\n\u001b[0;32m    173\u001b[0m     right_df\u001b[38;5;241m.\u001b[39mcolumns\u001b[38;5;241m.\u001b[39misin([index_left, index_right])\n\u001b[0;32m    174\u001b[0m ):\n\u001b[1;32m--> 175\u001b[0m     \u001b[38;5;28;01mraise\u001b[39;00m \u001b[38;5;167;01mValueError\u001b[39;00m(\n\u001b[0;32m    176\u001b[0m         \u001b[38;5;124m\"\u001b[39m\u001b[38;5;124m'\u001b[39m\u001b[38;5;132;01m{0}\u001b[39;00m\u001b[38;5;124m'\u001b[39m\u001b[38;5;124m and \u001b[39m\u001b[38;5;124m'\u001b[39m\u001b[38;5;132;01m{1}\u001b[39;00m\u001b[38;5;124m'\u001b[39m\u001b[38;5;124m cannot be names in the frames being\u001b[39m\u001b[38;5;124m\"\u001b[39m\n\u001b[0;32m    177\u001b[0m         \u001b[38;5;124m\"\u001b[39m\u001b[38;5;124m joined\u001b[39m\u001b[38;5;124m\"\u001b[39m\u001b[38;5;241m.\u001b[39mformat(index_left, index_right)\n\u001b[0;32m    178\u001b[0m     )\n",
      "\u001b[1;31mValueError\u001b[0m: 'index_left' and 'index_right' cannot be names in the frames being joined"
     ]
    }
   ],
   "source": [
    "G3_ADM = gpd.sjoin(G3_ADM, ADM2_LZ[['ADM2_CODE', 'LZ', 'geometry']], how='left')\n",
    "print('Done with ADM2.')\n",
    "G3_ADM = pd.DataFrame(gpd.sjoin(G3_ADM, ADM3_LZ[['ADM3_CODE', 'LZ', 'geometry']], how='left')).drop(columns='geometry')\n",
    "G3_ADM.info()"
   ]
  },
  {
   "cell_type": "code",
   "execution_count": null,
   "id": "0d0d174a",
   "metadata": {},
   "outputs": [],
   "source": []
  },
  {
   "cell_type": "code",
   "execution_count": null,
   "id": "e4322181",
   "metadata": {},
   "outputs": [],
   "source": []
  },
  {
   "cell_type": "code",
   "execution_count": null,
   "id": "3920af34",
   "metadata": {},
   "outputs": [],
   "source": []
  },
  {
   "cell_type": "code",
   "execution_count": null,
   "id": "4f229cdf",
   "metadata": {},
   "outputs": [],
   "source": []
  },
  {
   "cell_type": "code",
   "execution_count": null,
   "id": "7ed8be55",
   "metadata": {},
   "outputs": [],
   "source": [
    "Largest = LZ_ADM3_G3.loc[LZ_ADM3_G3.groupby([\"ADM3\"])[\"popUN\"].idxmax()]"
   ]
  }
 ],
 "metadata": {
  "kernelspec": {
   "display_name": "Python 3 (ipykernel)",
   "language": "python",
   "name": "python3"
  },
  "language_info": {
   "codemirror_mode": {
    "name": "ipython",
    "version": 3
   },
   "file_extension": ".py",
   "mimetype": "text/x-python",
   "name": "python",
   "nbconvert_exporter": "python",
   "pygments_lexer": "ipython3",
   "version": "3.10.6"
  }
 },
 "nbformat": 4,
 "nbformat_minor": 5
}
