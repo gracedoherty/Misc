{
 "cells": [
  {
   "cell_type": "markdown",
   "id": "85fd14a1",
   "metadata": {},
   "source": [
    "---"
   ]
  },
  {
   "cell_type": "markdown",
   "id": "7a0190f8",
   "metadata": {},
   "source": [
    "## 0. PSEUDOCODE / OVERVIEW"
   ]
  },
  {
   "cell_type": "markdown",
   "id": "e9093fd6",
   "metadata": {},
   "source": [
    "##### Prep data\n",
    "Merge: GRID3_BFA, GRID3_MLI, GRID3_NER, GRID3_TCD\n",
    "<br> Export GRID3 without Built-Up Area class (projection = Africa Albers) = GRID3_Sahel_rural\n",
    "<br> Reproject ADM3.shp to Africa Albers. (retain ADM2 and ADM1 codes)\n",
    "<br> Reproject LZ.shp to Africa Albers\n",
    "\n",
    "##### Spatial join\n",
    "Convert GRID3 geometries to centroids.\n",
    "<br> Spatial join ADM3 onto GRID3.\n",
    "<br> Spatial join LZ onto GRID3.\n",
    "<br> Convert GRID3 to dataframe (no need for geometries starting here).\n",
    "\n",
    "##### Largest population by group\n",
    "GRID3: Group by ADM3 and LZ. Sum population field (reset index to create new dataframe).\n",
    "<br> NewLZ field: Select the LZ value of the datapoint which has the largest population in its ADM group.\n",
    "<br> Repeat for other ADMs.\n",
    "\n",
    "##### Aggregate to ADM\n",
    "Group by ADM3. Select \"first\" of the NewLZ field. (or max)\n",
    "<br> Repeat for other ADMs."
   ]
  },
  {
   "cell_type": "markdown",
   "id": "9276b447",
   "metadata": {},
   "source": [
    "## 1. PREPARE WORKSPACE"
   ]
  },
  {
   "cell_type": "markdown",
   "id": "6b2a2548",
   "metadata": {},
   "source": [
    "### 1.1 Load all packages."
   ]
  },
  {
   "cell_type": "code",
   "execution_count": null,
   "id": "8c42795f",
   "metadata": {},
   "outputs": [],
   "source": [
    "# Built-in:\n",
    "# dir(), print(), range(), format(), int(), len(), list(), max(), min(), zip(), sorted(), sum(), open(), del, = None, try except, with as, for in, if elif else\n",
    "# Also: list.append(), list.insert(), list.remove(), count(), startswith(), endswith(), contains(), replace()\n",
    "\n",
    "import os, sys, glob, re, time, subprocess, string # os.getcwd(), os.path.join(), os.listdir(), os.remove(), time.ctime(), glob.glob(), string.zfill(), string.join()\n",
    "from os.path import exists # exists()\n",
    "from functools import reduce # reduce()\n",
    "\n",
    "import geopandas as gpd # read_file(), GeoDataFrame(), sjoin_nearest(), to_crs(), to_file(), .crs, buffer(), dissolve()\n",
    "import pandas as pd # .dtypes, Series(), concat(), DataFrame(), read_table(), merge(), to_csv(), .loc[], head(), sample(), astype(), unique(), rename(), between(), drop(), fillna(), idxmax(), isna(), isin(), apply(), info(), sort_values(), notna(), groupby(), value_counts(), duplicated(), drop_duplicates()\n",
    "from shapely.geometry import Point, LineString, Polygon, shape, MultiPoint\n",
    "from shapely.ops import cascaded_union\n",
    "from shapely.validation import make_valid  # in apply(make_valid)\n",
    "import shapely.wkt\n",
    "\n",
    "import numpy as np # median(), mean(), tolist(), .inf\n",
    "import fiona, rioxarray # fiona.open()\n",
    "import rasterio # open(), write_band(), .name, .count, .width, .height. nodatavals, .meta, update(), copy(), write()\n",
    "from rasterio.plot import show\n",
    "from rasterio import features # features.rasterize()\n",
    "from rasterio.features import shapes\n",
    "from rasterio import mask # rasterio.mask.mask()\n",
    "from rasterio.enums import Resampling # rasterio.enums.Resampling()\n",
    "from osgeo import gdal, osr, ogr, gdal_array, gdalconst # Open(), SpatialReference, WarpOptions(), Warp(), GetDataTypeName(), GetRasterBand(), GetNoDataValue(), Translate(), GetProjection(), GetAttrValue()"
   ]
  },
  {
   "cell_type": "code",
   "execution_count": null,
   "id": "a20dfb25",
   "metadata": {},
   "outputs": [],
   "source": [
    "ProjectFolder = os.getcwd()\n",
    "print(ProjectFolder)\n",
    "\n",
    "G3Folder = os.path.join(ProjectFolder, 'GRID3')\n",
    "print(G3Folder)"
   ]
  },
  {
   "cell_type": "markdown",
   "id": "5537c1ce",
   "metadata": {},
   "source": [
    "---"
   ]
  },
  {
   "cell_type": "markdown",
   "id": "18c08550",
   "metadata": {},
   "source": [
    "## 2. PREPARE DATA\n",
    "All datasets are already projected to: Africa Albers Equal Area Conic"
   ]
  },
  {
   "cell_type": "markdown",
   "id": "e591ea5f",
   "metadata": {},
   "source": [
    "### 2.1 Merge GRID3 Sahel datasets"
   ]
  },
  {
   "cell_type": "code",
   "execution_count": 4,
   "id": "52a8ef64",
   "metadata": {},
   "outputs": [
    {
     "data": {
      "text/plain": [
       "[           FID  Shape_Leng       country  iso bld_count dou_level1  \\\n",
       " 0            1    0.002927  Burkina Faso  BFA      1-50      Rural   \n",
       " 1            2    0.004368  Burkina Faso  BFA      1-50      Rural   \n",
       " 2            3    0.002892  Burkina Faso  BFA      1-50      Rural   \n",
       " 3            4    0.003012  Burkina Faso  BFA      1-50      Rural   \n",
       " 4            5    0.002961  Burkina Faso  BFA      1-50      Rural   \n",
       " ...        ...         ...           ...  ...       ...        ...   \n",
       " 566987  566988    0.007608  Burkina Faso  BFA      1-50      Rural   \n",
       " 566988  566989    0.006485  Burkina Faso  BFA      1-50      Rural   \n",
       " 566989  566990    0.003440  Burkina Faso  BFA      1-50      Rural   \n",
       " 566990  566991    0.002947  Burkina Faso  BFA      1-50      Rural   \n",
       " 566991  566992    0.013777  Burkina Faso  BFA    51-100      Rural   \n",
       " \n",
       "                     dou_level2    status  is_fp   prob_fp           mgrs  \\\n",
       " 0       Very Low Density Rural  existing    1.0  0.848630   30PUR1198_01   \n",
       " 1       Very Low Density Rural  existing    0.0  0.480891   30PUR0899_01   \n",
       " 2       Very Low Density Rural  existing    1.0  0.926692   30PUR1099_03   \n",
       " 3       Very Low Density Rural  existing    0.0  0.061086   30PUR1099_05   \n",
       " 4       Very Low Density Rural  diverged    1.0  0.912186  30PUR1095_201   \n",
       " ...                        ...       ...    ...       ...            ...   \n",
       " 566987       Low Density Rural  existing    0.0  0.003091   31PCP6681_05   \n",
       " 566988  Very Low Density Rural  existing    0.0  0.040586   31PCP6981_06   \n",
       " 566989  Very Low Density Rural  existing    0.0  0.350010   31PCQ9103_03   \n",
       " 566990  Very Low Density Rural  existing    0.0  0.322899   31PCP9297_02   \n",
       " 566991       Low Density Rural  diverged    0.0  0.011955  31PCP9775_203   \n",
       " \n",
       "                pcode       date       area_m2  SHAPE_Le_1    SHAPE_Area  \\\n",
       " 0       BF4701001026  2/07/2023   7742.945580    0.002927  6.383548e-07   \n",
       " 1       BF4701001079  2/07/2023  14240.344922    0.004368  1.174055e-06   \n",
       " 2       BF4701001090  2/07/2023   7676.705454    0.002892  6.329157e-07   \n",
       " 3       BF4701001100  2/07/2023   8329.263409    0.003012  6.867186e-07   \n",
       " 4       BF4701200001  2/07/2023   7608.375973    0.002961  6.272109e-07   \n",
       " ...              ...        ...           ...         ...           ...   \n",
       " 566987  BF5205026356  2/07/2023  30640.329220    0.007608  2.548048e-06   \n",
       " 566988  BF5205026295  2/07/2023  18497.247196    0.006485  1.538222e-06   \n",
       " 566989  BF5205029565  2/07/2023   9172.419289    0.003440  7.633620e-07   \n",
       " 566990  BF5205028928  2/07/2023   7919.608365    0.002947  6.589478e-07   \n",
       " 566991  BF5205205823  2/07/2023  57142.371698    0.013777  4.751015e-06   \n",
       " \n",
       "                                                  geometry  \n",
       " 0       POLYGON ((-4.71933 9.92981, -4.71933 9.92979, ...  \n",
       " 1       POLYGON ((-4.74531 9.93770, -4.74533 9.93769, ...  \n",
       " 2       POLYGON ((-4.72834 9.94017, -4.72837 9.94017, ...  \n",
       " 3       POLYGON ((-4.72679 9.94115, -4.72681 9.94115, ...  \n",
       " 4       POLYGON ((-4.73122 9.90275, -4.73110 9.90247, ...  \n",
       " ...                                                   ...  \n",
       " 566987  POLYGON ((1.77002 12.49693, 1.77005 12.49677, ...  \n",
       " 566988  MULTIPOLYGON (((1.79762 12.49428, 1.79763 12.4...  \n",
       " 566989  POLYGON ((2.00084 12.69712, 2.00072 12.69681, ...  \n",
       " 566990  POLYGON ((2.01429 12.63709, 2.01398 12.63707, ...  \n",
       " 566991  MULTIPOLYGON (((2.05666 12.44379, 2.05675 12.4...  \n",
       " \n",
       " [566992 rows x 17 columns],\n",
       "         OBJECTID     mgrs_code country  iso           type   population  \\\n",
       " 0              1  33NWJ7348_01    Chad  TCD  Built-up Area  1837.707088   \n",
       " 1              2  33NWJ7655_04    Chad  TCD  Built-up Area  7987.577513   \n",
       " 2              3  33NXJ0671_01    Chad  TCD  Built-up Area  7482.563056   \n",
       " 3              4  33NWJ8677_01    Chad  TCD  Built-up Area  1914.091763   \n",
       " 4              5  33PXK4636_01    Chad  TCD  Built-up Area  6723.524595   \n",
       " ...          ...           ...     ...  ...            ...          ...   \n",
       " 353529    353530  33QXF1971_04    Chad  TCD         Hamlet     7.828535   \n",
       " 353530    353531  33QXF1971_05    Chad  TCD         Hamlet    13.787024   \n",
       " 353531    353532  33QXF1971_06    Chad  TCD         Hamlet     8.929815   \n",
       " 353532    353533  33QXF1972_01    Chad  TCD         Hamlet     4.866313   \n",
       " 353533    353534  33QXD1748_02    Chad  TCD         Hamlet    10.980334   \n",
       " \n",
       "          pop_un_adj adm0_pcode        adm1_name adm1_pcode      adm2_name  \\\n",
       " 0       1818.327961         TD  Logone Oriental       TD09   Monts de Lam   \n",
       " 1       7903.346318         TD  Logone Oriental       TD09   Monts de Lam   \n",
       " 2       7403.657362         TD  Logone Oriental       TD09   Monts de Lam   \n",
       " 3       1893.907144         TD  Logone Oriental       TD09   Monts de Lam   \n",
       " 4       6652.623192         TD  Logone Oriental       TD09   Monts de Lam   \n",
       " ...             ...        ...              ...        ...            ...   \n",
       " 353529     7.745981         TD          Tibesti       TD22  Tibesti Ouest   \n",
       " 353530    13.641636         TD          Tibesti       TD22  Tibesti Ouest   \n",
       " 353531     8.835648         TD          Tibesti       TD22  Tibesti Ouest   \n",
       " 353532     4.814996         TD          Tibesti       TD22  Tibesti Ouest   \n",
       " 353533    10.864544         TD          Tibesti       TD22  Tibesti Ouest   \n",
       " \n",
       "        adm2_pcode    settl_pcod  Shape__Are  Shape__Len  \\\n",
       " 0          TD0906  TD0906000001    0.000097    0.064697   \n",
       " 1          TD0906  TD0906000002    0.000342    0.213284   \n",
       " 2          TD0906  TD0906000003    0.000322    0.188801   \n",
       " 3          TD0906  TD0906000004    0.000098    0.058946   \n",
       " 4          TD0906  TD0906000005    0.000392    0.194295   \n",
       " ...           ...           ...         ...         ...   \n",
       " 353529     TD2202  TD2202003659    0.000001    0.003752   \n",
       " 353530     TD2202  TD2202003660    0.000001    0.004048   \n",
       " 353531     TD2202  TD2202003661    0.000001    0.003752   \n",
       " 353532     TD2202  TD2202003662    0.000001    0.003971   \n",
       " 353533     TD2202  TD2202003663    0.000002    0.004826   \n",
       " \n",
       "                                                  geometry  \n",
       " 0       POLYGON ((15.66476 7.67733, 15.66480 7.67711, ...  \n",
       " 1       POLYGON ((15.70206 7.74468, 15.70119 7.74468, ...  \n",
       " 2       POLYGON ((15.97799 7.88647, 15.97821 7.88705, ...  \n",
       " 3       POLYGON ((15.78862 7.94985, 15.78928 7.94978, ...  \n",
       " 4       POLYGON ((16.32916 8.48017, 16.32975 8.47991, ...  \n",
       " ...                                                   ...  \n",
       " 353529  POLYGON ((16.16822 23.24803, 16.16845 23.24799...  \n",
       " 353530  POLYGON ((16.16988 23.24943, 16.16963 23.24953...  \n",
       " 353531  POLYGON ((16.16859 23.25176, 16.16882 23.25172...  \n",
       " 353532  POLYGON ((16.17175 23.25437, 16.17222 23.25436...  \n",
       " 353533  POLYGON ((16.12886 21.23208, 16.12861 21.23231...  \n",
       " \n",
       " [353534 rows x 16 columns],\n",
       "         OBJECTID     mgrs_code country  iso           type    population  \\\n",
       " 0              1  29PNN7268_03    Mali  MLI  Built-up Area   2677.662406   \n",
       " 1              2  29PNN8286_01    Mali  MLI  Built-up Area   4608.713229   \n",
       " 2              3  29PPN0806_02    Mali  MLI  Built-up Area   2834.519085   \n",
       " 3              4  29PNN9235_01    Mali  MLI  Built-up Area  26652.358009   \n",
       " 4              5  29PNM8892_01    Mali  MLI  Built-up Area   8412.574605   \n",
       " ...          ...           ...     ...  ...            ...           ...   \n",
       " 420612    420613  31QCC7441_02    Mali  MLI         Hamlet      7.661744   \n",
       " 420613    420614  31QCC7441_03    Mali  MLI         Hamlet     20.074897   \n",
       " 420614    420615  31QCC6944_01    Mali  MLI         Hamlet     34.368143   \n",
       " 420615    420616  31QCC6945_01    Mali  MLI         Hamlet     10.640100   \n",
       " 420616    420617  31QCC6845_01    Mali  MLI         Hamlet     10.808359   \n",
       " \n",
       "           pop_un_adj adm0_pcode adm1_name adm1_pcode  adm2_name adm2_pcode  \\\n",
       " 0        2330.432512         ML   Sikasso       ML03  Yanfolila     ML0306   \n",
       " 1        4011.071413         ML   Sikasso       ML03  Yanfolila     ML0306   \n",
       " 2        2466.948557         ML   Sikasso       ML03  Yanfolila     ML0306   \n",
       " 3       23196.173488         ML   Sikasso       ML03  Yanfolila     ML0306   \n",
       " 4        7321.661341         ML   Sikasso       ML03  Yanfolila     ML0306   \n",
       " ...              ...        ...       ...        ...        ...        ...   \n",
       " 420612      6.668196         ML     Kidal       ML08   Abeibara     ML0801   \n",
       " 420613     17.471654         ML     Kidal       ML08   Abeibara     ML0801   \n",
       " 420614     29.911403         ML     Kidal       ML08   Abeibara     ML0801   \n",
       " 420615      9.260328         ML     Kidal       ML08   Abeibara     ML0801   \n",
       " 420616      9.406769         ML     Kidal       ML08   Abeibara     ML0801   \n",
       " \n",
       "           settl_pcod    Shape__Are  Shape__Len  \\\n",
       " 0       ML0306000001  1.095579e-04    0.083722   \n",
       " 1       ML0306000002  1.724560e-04    0.113730   \n",
       " 2       ML0306000003  1.080153e-04    0.071781   \n",
       " 3       ML0306000004  8.869635e-04    0.475963   \n",
       " 4       ML0306000005  2.537856e-04    0.163411   \n",
       " ...              ...           ...         ...   \n",
       " 420612  ML0801000980  1.298683e-06    0.004090   \n",
       " 420613  ML0801000981  1.915137e-06    0.005376   \n",
       " 420614  ML0801000982  2.794097e-06    0.007204   \n",
       " 420615  ML0801000983  9.790134e-07    0.003602   \n",
       " 420616  ML0801000984  1.246176e-06    0.003995   \n",
       " \n",
       "                                                  geometry  \n",
       " 0       POLYGON ((-8.33262 11.48335, -8.33248 11.48329...  \n",
       " 1       POLYGON ((-8.24450 11.64559, -8.24431 11.64550...  \n",
       " 2       POLYGON ((-8.00503 10.91827, -8.00424 10.91825...  \n",
       " 3       POLYGON ((-8.13424 11.17270, -8.13388 11.17317...  \n",
       " 4       POLYGON ((-8.19807 10.79096, -8.19829 10.79077...  \n",
       " ...                                                   ...  \n",
       " 420612  POLYGON ((1.79747 20.26342, 1.79752 20.26367, ...  \n",
       " 420613  POLYGON ((1.79876 20.26545, 1.79869 20.26567, ...  \n",
       " 420614  POLYGON ((1.74754 20.29675, 1.74749 20.29663, ...  \n",
       " 420615  POLYGON ((1.74819 20.29933, 1.74860 20.29916, ...  \n",
       " 420616  POLYGON ((1.74012 20.29935, 1.74021 20.29957, ...  \n",
       " \n",
       " [420617 rows x 16 columns],\n",
       "         OBJECTID     mgrs_code country  iso                   type  \\\n",
       " 0              1  31PCQ5819_04   Niger  NER          Built-up Area   \n",
       " 1              2  31PCQ6950_01   Niger  NER          Built-up Area   \n",
       " 2              3  31PCP5098_06   Niger  NER  Small Settlement Area   \n",
       " 3              4  31PCQ4700_01   Niger  NER  Small Settlement Area   \n",
       " 4              5  31PCQ5100_02   Niger  NER  Small Settlement Area   \n",
       " ...          ...           ...     ...  ...                    ...   \n",
       " 321351    321352  33QUU1566_03   Niger  NER                 Hamlet   \n",
       " 321352    321353  33QUU1566_04   Niger  NER                 Hamlet   \n",
       " 321353    321354  33PTR0593_02   Niger  NER                 Hamlet   \n",
       " 321354    321355  33PUR0891_01   Niger  NER                 Hamlet   \n",
       " 321355    321356  33PUR0991_01   Niger  NER                 Hamlet   \n",
       " \n",
       "           population    pop_un_adj adm0_pcode  adm1_name adm1_pcode adm2_name  \\\n",
       " 0        2718.672377   2745.123015        NER  Tillabéri     NER006    Torodi   \n",
       " 1       11688.457800  11802.177666        NER  Tillabéri     NER006    Torodi   \n",
       " 2         113.014995    114.114545        NER  Tillabéri     NER006    Torodi   \n",
       " 3         118.220308    119.370502        NER  Tillabéri     NER006    Torodi   \n",
       " 4         175.856776    177.567730        NER  Tillabéri     NER006    Torodi   \n",
       " ...              ...           ...        ...        ...        ...       ...   \n",
       " 321351     49.424141     49.905001        NER      Diffa     NER002  N'Gourti   \n",
       " 321352     36.442063     36.796618        NER      Diffa     NER002  N'Gourti   \n",
       " 321353     33.660781     33.988276        NER      Diffa     NER002  N'Gourti   \n",
       " 321354     12.651131     12.774217        NER      Diffa     NER002  N'Gourti   \n",
       " 321355     17.869770     18.043629        NER      Diffa     NER002  N'Gourti   \n",
       " \n",
       "        adm2_pcode       settl_pcod  Shape__Are  Shape__Len  \\\n",
       " 0       NER006013  NER006013000001    0.000106    0.072796   \n",
       " 1       NER006013  NER006013000002    0.000374    0.166134   \n",
       " 2       NER006013  NER006013000003    0.000010    0.016693   \n",
       " 3       NER006013  NER006013000004    0.000009    0.016588   \n",
       " 4       NER006013  NER006013000005    0.000019    0.033684   \n",
       " ...           ...              ...         ...         ...   \n",
       " 321351  NER002005  NER002005002149    0.000004    0.011242   \n",
       " 321352  NER002005  NER002005002150    0.000002    0.006055   \n",
       " 321353  NER002005  NER002005002151    0.000002    0.005776   \n",
       " 321354  NER002005  NER002005002152    0.000002    0.005186   \n",
       " 321355  NER002005  NER002005002153    0.000002    0.005139   \n",
       " \n",
       "                                                  geometry  \n",
       " 0       POLYGON ((1.69895 12.83851, 1.69877 12.83772, ...  \n",
       " 1       POLYGON ((1.80833 13.11799, 1.80820 13.11730, ...  \n",
       " 2       POLYGON ((1.62454 12.64970, 1.62469 12.64962, ...  \n",
       " 3       POLYGON ((1.60007 12.66419, 1.60009 12.66402, ...  \n",
       " 4       POLYGON ((1.63505 12.66624, 1.63504 12.66545, ...  \n",
       " ...                                                   ...  \n",
       " 321351  POLYGON ((13.27120 16.87420, 13.27141 16.87422...  \n",
       " 321352  POLYGON ((13.27248 16.87679, 13.27272 16.87694...  \n",
       " 321353  POLYGON ((12.27133 14.39316, 12.27110 14.39323...  \n",
       " 321354  POLYGON ((13.22604 14.39005, 13.22593 14.39037...  \n",
       " 321355  POLYGON ((13.23555 14.38942, 13.23518 14.38964...  \n",
       " \n",
       " [321356 rows x 16 columns]]"
      ]
     },
     "execution_count": 4,
     "metadata": {},
     "output_type": "execute_result"
    }
   ],
   "source": [
    "G3_files = glob.glob(os.path.join(G3Folder, \"*.shp\"))\n",
    "G3_list = [gpd.read_file(f) for f in G3_files]\n",
    "G3_list"
   ]
  },
  {
   "cell_type": "code",
   "execution_count": 5,
   "id": "aa0523e1",
   "metadata": {
    "scrolled": true
   },
   "outputs": [
    {
     "name": "stdout",
     "output_type": "stream",
     "text": [
      "Match all projections for concatenation.\n",
      "Checking...\n",
      "Matches with previous.\n",
      "Checking...\n",
      "Matches with previous.\n",
      "Checking...\n",
      "Matches with previous.\n",
      "\n",
      "\n",
      "Final CRS list:\n",
      "epsg:4326\n",
      "epsg:4326\n",
      "epsg:4326\n",
      "epsg:4326\n"
     ]
    }
   ],
   "source": [
    "print('Match all projections for concatenation.')\n",
    "for prevf, f in zip(G3_list, G3_list[1:]):\n",
    "    print('Checking...')\n",
    "    if f.crs != prevf.crs:\n",
    "        try:\n",
    "            f.to_crs(prevf.crs)\n",
    "            print('Reprojecting to match previous.')\n",
    "        except:\n",
    "            pass\n",
    "    else:\n",
    "        print('Matches with previous.')\n",
    "        \n",
    "print('\\n\\nFinal CRS list:')\n",
    "for f in G3_list:\n",
    "    print(f.crs)"
   ]
  },
  {
   "cell_type": "code",
   "execution_count": 6,
   "id": "445b2077",
   "metadata": {
    "scrolled": true
   },
   "outputs": [
    {
     "name": "stdout",
     "output_type": "stream",
     "text": [
      "<class 'geopandas.geodataframe.GeoDataFrame'>\n",
      "RangeIndex: 1662499 entries, 0 to 1662498\n",
      "Data columns (total 30 columns):\n",
      " #   Column      Non-Null Count    Dtype   \n",
      "---  ------      --------------    -----   \n",
      " 0   FID         566992 non-null   float64 \n",
      " 1   Shape_Leng  566992 non-null   float64 \n",
      " 2   country     1662499 non-null  object  \n",
      " 3   iso         1662499 non-null  object  \n",
      " 4   bld_count   566992 non-null   object  \n",
      " 5   dou_level1  566992 non-null   object  \n",
      " 6   dou_level2  566992 non-null   object  \n",
      " 7   status      566992 non-null   object  \n",
      " 8   is_fp       566992 non-null   float64 \n",
      " 9   prob_fp     566992 non-null   float64 \n",
      " 10  mgrs        566992 non-null   object  \n",
      " 11  pcode       566992 non-null   object  \n",
      " 12  date        566992 non-null   object  \n",
      " 13  area_m2     566992 non-null   float64 \n",
      " 14  SHAPE_Le_1  566992 non-null   float64 \n",
      " 15  SHAPE_Area  566992 non-null   float64 \n",
      " 16  geometry    1662499 non-null  geometry\n",
      " 17  OBJECTID    1095507 non-null  float64 \n",
      " 18  mgrs_code   1095507 non-null  object  \n",
      " 19  type        1095507 non-null  object  \n",
      " 20  population  1089988 non-null  float64 \n",
      " 21  pop_un_adj  1089988 non-null  float64 \n",
      " 22  adm0_pcode  1095507 non-null  object  \n",
      " 23  adm1_name   1095507 non-null  object  \n",
      " 24  adm1_pcode  1095507 non-null  object  \n",
      " 25  adm2_name   1095507 non-null  object  \n",
      " 26  adm2_pcode  1095507 non-null  object  \n",
      " 27  settl_pcod  1095507 non-null  object  \n",
      " 28  Shape__Are  1095507 non-null  float64 \n",
      " 29  Shape__Len  1095507 non-null  float64 \n",
      "dtypes: float64(12), geometry(1), object(17)\n",
      "memory usage: 380.5+ MB\n",
      "None \n",
      "\n",
      " [nan 'Built-up Area' 'Small Settlement Area' 'Hamlet'] \n",
      "\n",
      "     FID  Shape_Leng       country  iso bld_count dou_level1  \\\n",
      "0   1.0    0.002927  Burkina Faso  BFA      1-50      Rural   \n",
      "1   2.0    0.004368  Burkina Faso  BFA      1-50      Rural   \n",
      "2   3.0    0.002892  Burkina Faso  BFA      1-50      Rural   \n",
      "3   4.0    0.003012  Burkina Faso  BFA      1-50      Rural   \n",
      "4   5.0    0.002961  Burkina Faso  BFA      1-50      Rural   \n",
      "5   6.0    0.002879  Burkina Faso  BFA      1-50      Rural   \n",
      "6   7.0    0.003058  Burkina Faso  BFA      1-50      Rural   \n",
      "7   8.0    0.002889  Burkina Faso  BFA      1-50      Rural   \n",
      "8   9.0    0.002937  Burkina Faso  BFA      1-50      Rural   \n",
      "9  10.0    0.002874  Burkina Faso  BFA      1-50      Rural   \n",
      "\n",
      "               dou_level2    status  is_fp   prob_fp  ... population  \\\n",
      "0  Very Low Density Rural  existing    1.0  0.848630  ...        NaN   \n",
      "1  Very Low Density Rural  existing    0.0  0.480891  ...        NaN   \n",
      "2  Very Low Density Rural  existing    1.0  0.926692  ...        NaN   \n",
      "3  Very Low Density Rural  existing    0.0  0.061086  ...        NaN   \n",
      "4  Very Low Density Rural  diverged    1.0  0.912186  ...        NaN   \n",
      "5  Very Low Density Rural  existing    1.0  0.933577  ...        NaN   \n",
      "6  Very Low Density Rural  existing    0.0  0.071533  ...        NaN   \n",
      "7  Very Low Density Rural  diverged    1.0  0.933577  ...        NaN   \n",
      "8  Very Low Density Rural  existing    1.0  0.938881  ...        NaN   \n",
      "9  Very Low Density Rural  existing    1.0  0.891647  ...        NaN   \n",
      "\n",
      "  pop_un_adj adm0_pcode  adm1_name  adm1_pcode  adm2_name adm2_pcode  \\\n",
      "0        NaN        NaN        NaN         NaN        NaN        NaN   \n",
      "1        NaN        NaN        NaN         NaN        NaN        NaN   \n",
      "2        NaN        NaN        NaN         NaN        NaN        NaN   \n",
      "3        NaN        NaN        NaN         NaN        NaN        NaN   \n",
      "4        NaN        NaN        NaN         NaN        NaN        NaN   \n",
      "5        NaN        NaN        NaN         NaN        NaN        NaN   \n",
      "6        NaN        NaN        NaN         NaN        NaN        NaN   \n",
      "7        NaN        NaN        NaN         NaN        NaN        NaN   \n",
      "8        NaN        NaN        NaN         NaN        NaN        NaN   \n",
      "9        NaN        NaN        NaN         NaN        NaN        NaN   \n",
      "\n",
      "   settl_pcod Shape__Are Shape__Len  \n",
      "0         NaN        NaN        NaN  \n",
      "1         NaN        NaN        NaN  \n",
      "2         NaN        NaN        NaN  \n",
      "3         NaN        NaN        NaN  \n",
      "4         NaN        NaN        NaN  \n",
      "5         NaN        NaN        NaN  \n",
      "6         NaN        NaN        NaN  \n",
      "7         NaN        NaN        NaN  \n",
      "8         NaN        NaN        NaN  \n",
      "9         NaN        NaN        NaN  \n",
      "\n",
      "[10 rows x 30 columns]\n"
     ]
    }
   ],
   "source": [
    "G3 = pd.concat(G3_list, ignore_index=True)\n",
    "print(G3.info(), '\\n\\n', G3['type'].unique(), '\\n\\n', G3.head(10))"
   ]
  },
  {
   "cell_type": "code",
   "execution_count": 7,
   "id": "0ce1994b",
   "metadata": {},
   "outputs": [
    {
     "name": "stdout",
     "output_type": "stream",
     "text": [
      "<class 'geopandas.geodataframe.GeoDataFrame'>\n",
      "RangeIndex: 1662499 entries, 0 to 1662498\n",
      "Data columns (total 4 columns):\n",
      " #   Column      Non-Null Count    Dtype   \n",
      "---  ------      --------------    -----   \n",
      " 0   G3_ID       1662499 non-null  int64   \n",
      " 1   type        1095507 non-null  object  \n",
      " 2   pop_un_adj  1089988 non-null  float64 \n",
      " 3   geometry    1662499 non-null  geometry\n",
      "dtypes: float64(1), geometry(1), int64(1), object(1)\n",
      "memory usage: 50.7+ MB\n"
     ]
    }
   ],
   "source": [
    "# We don't need most of those columns.\n",
    "G3['G3_ID'] = G3.index\n",
    "G3 = G3[['G3_ID','type', 'pop_un_adj', 'geometry']]\n",
    "G3.info()"
   ]
  },
  {
   "cell_type": "code",
   "execution_count": 8,
   "id": "1657e5d2",
   "metadata": {},
   "outputs": [],
   "source": [
    "# Make sure unmeasured populations don't give us trouble.\n",
    "G3[['pop_un_adj']] = G3[['pop_un_adj']].fillna(0)"
   ]
  },
  {
   "cell_type": "code",
   "execution_count": 9,
   "id": "f9738041",
   "metadata": {},
   "outputs": [],
   "source": [
    "# Save file of all settlement types.\n",
    "G3.to_file(driver='GPKG', filename=r'GRID3/GRID3_Sahel.gpkg', layer='Sahel_allSettTypes')"
   ]
  },
  {
   "cell_type": "markdown",
   "id": "89f47065",
   "metadata": {},
   "source": [
    "### 2.2 Remove built-up areas, leaving only rural towns and villages."
   ]
  },
  {
   "cell_type": "code",
   "execution_count": 10,
   "id": "baf4f22f",
   "metadata": {},
   "outputs": [
    {
     "data": {
      "text/plain": [
       "array(['Small Settlement Area', 'Hamlet'], dtype=object)"
      ]
     },
     "execution_count": 10,
     "metadata": {},
     "output_type": "execute_result"
    }
   ],
   "source": [
    "G3['type'].unique()\n",
    "G3['type'] = G3['type'].astype(str)\n",
    "G3 = G3[G3['type'].str.startswith(\"S\") | G3['type'].str.startswith(\"H\")] # Remove all built-up types.\n",
    "G3['type'].unique()"
   ]
  },
  {
   "cell_type": "markdown",
   "id": "172f78e4",
   "metadata": {},
   "source": [
    "### 2.3 Reproject and save to file."
   ]
  },
  {
   "cell_type": "code",
   "execution_count": 11,
   "id": "a15223b1",
   "metadata": {},
   "outputs": [],
   "source": [
    "G3.to_file(driver='GPKG', filename=r'GRID3/GRID3_Sahel.gpkg', layer='Sahel_SSA_HA')"
   ]
  },
  {
   "cell_type": "code",
   "execution_count": 12,
   "id": "690af96a",
   "metadata": {},
   "outputs": [],
   "source": [
    "G3 = G3.to_crs('ESRI:102022')"
   ]
  },
  {
   "cell_type": "markdown",
   "id": "cc37793b",
   "metadata": {},
   "source": [
    "### 2.4 Load and reproject ADM3."
   ]
  },
  {
   "cell_type": "code",
   "execution_count": 13,
   "id": "743c4fef",
   "metadata": {},
   "outputs": [
    {
     "data": {
      "text/plain": [
       "['adm0', 'adm1', 'adm2', 'adm3']"
      ]
     },
     "execution_count": 13,
     "metadata": {},
     "output_type": "execute_result"
    }
   ],
   "source": [
    "fiona.listlayers('Sahel_AdminBoundaries.gpkg')"
   ]
  },
  {
   "cell_type": "code",
   "execution_count": 14,
   "id": "fa8da984",
   "metadata": {},
   "outputs": [
    {
     "name": "stdout",
     "output_type": "stream",
     "text": [
      "<class 'geopandas.geodataframe.GeoDataFrame'>\n",
      "RangeIndex: 1433 entries, 0 to 1432\n",
      "Data columns (total 4 columns):\n",
      " #   Column     Non-Null Count  Dtype   \n",
      "---  ------     --------------  -----   \n",
      " 0   ADM1_CODE  1433 non-null   object  \n",
      " 1   ADM2_CODE  1433 non-null   object  \n",
      " 2   ADM3_CODE  1433 non-null   object  \n",
      " 3   geometry   1433 non-null   geometry\n",
      "dtypes: geometry(1), object(3)\n",
      "memory usage: 44.9+ KB\n"
     ]
    }
   ],
   "source": [
    "ADM3 = gpd.read_file(filename='Sahel_AdminBoundaries.gpkg', \n",
    "                     layer='adm3').to_crs('ESRI:102022')[['ADM1_CODE', 'ADM2_CODE', 'ADM3_CODE', 'geometry']]\n",
    "ADM3.info()"
   ]
  },
  {
   "cell_type": "markdown",
   "id": "adfef67e",
   "metadata": {},
   "source": [
    "### 2.5 Load and reproject Livelihood Zones."
   ]
  },
  {
   "cell_type": "code",
   "execution_count": 15,
   "id": "1761b5c4",
   "metadata": {},
   "outputs": [
    {
     "data": {
      "text/plain": [
       "['LZ_harmonized']"
      ]
     },
     "execution_count": 15,
     "metadata": {},
     "output_type": "execute_result"
    }
   ],
   "source": [
    "fiona.listlayers('Livelihood.gpkg')"
   ]
  },
  {
   "cell_type": "code",
   "execution_count": 22,
   "id": "e93d1ed0",
   "metadata": {},
   "outputs": [
    {
     "name": "stdout",
     "output_type": "stream",
     "text": [
      "<class 'geopandas.geodataframe.GeoDataFrame'>\n",
      "RangeIndex: 63 entries, 0 to 62\n",
      "Data columns (total 2 columns):\n",
      " #   Column     Non-Null Count  Dtype   \n",
      "---  ------     --------------  -----   \n",
      " 0   OECD_ZONE  63 non-null     object  \n",
      " 1   geometry   63 non-null     geometry\n",
      "dtypes: geometry(1), object(1)\n",
      "memory usage: 1.1+ KB\n"
     ]
    }
   ],
   "source": [
    "LZ = gpd.read_file(filename='Livelihood.gpkg').to_crs('ESRI:102022')[['OECD_ZONE', 'geometry']]\n",
    "LZ.info()"
   ]
  },
  {
   "cell_type": "markdown",
   "id": "5dd9aaec",
   "metadata": {},
   "source": [
    "## 3. SPATIAL JOIN"
   ]
  },
  {
   "cell_type": "markdown",
   "id": "70f61d4a",
   "metadata": {},
   "source": [
    "### 3.1 GRID3 to centroid"
   ]
  },
  {
   "cell_type": "code",
   "execution_count": 27,
   "id": "47116ad9",
   "metadata": {},
   "outputs": [],
   "source": [
    "G3 = gpd.read_file(filename=r'GRID3/GRID3_Sahel.gpkg', layer='Sahel_SSA_HA').to_crs('ESRI:102022')\n",
    "G3['centroid'] = G3.geometry.centroid\n",
    "G3 = G3.set_geometry('centroid')"
   ]
  },
  {
   "cell_type": "markdown",
   "id": "baf47814",
   "metadata": {},
   "source": [
    "### 3.2 Join GRID3 and ADMs"
   ]
  },
  {
   "cell_type": "code",
   "execution_count": 28,
   "id": "ff04f44f",
   "metadata": {
    "scrolled": true
   },
   "outputs": [
    {
     "name": "stdout",
     "output_type": "stream",
     "text": [
      "<class 'geopandas.geodataframe.GeoDataFrame'>\n",
      "Int64Index: 1094501 entries, 0 to 1094490\n",
      "Data columns (total 9 columns):\n",
      " #   Column       Non-Null Count    Dtype   \n",
      "---  ------       --------------    -----   \n",
      " 0   G3_ID        1094501 non-null  int64   \n",
      " 1   type         1094501 non-null  object  \n",
      " 2   pop_un_adj   1094501 non-null  float64 \n",
      " 3   geometry     1094501 non-null  geometry\n",
      " 4   centroid     1094501 non-null  geometry\n",
      " 5   index_right  1093102 non-null  float64 \n",
      " 6   ADM1_CODE    1093102 non-null  object  \n",
      " 7   ADM2_CODE    1093102 non-null  object  \n",
      " 8   ADM3_CODE    1093102 non-null  object  \n",
      "dtypes: float64(2), geometry(2), int64(1), object(4)\n",
      "memory usage: 83.5+ MB\n",
      "          G3_ID                   type  pop_un_adj  \\\n",
      "41847    608960                 Hamlet    8.792259   \n",
      "599940  1167442                 Hamlet    4.241427   \n",
      "380930   948268  Small Settlement Area  619.667704   \n",
      "314790   882061                 Hamlet    6.533971   \n",
      "999726  1567670                 Hamlet   13.706034   \n",
      "\n",
      "                                                 geometry  \\\n",
      "41847   POLYGON ((-648318.248 981178.247, -648339.808 ...   \n",
      "599940  POLYGON ((-3108230.006 1492562.471, -3108188.3...   \n",
      "380930  POLYGON ((-3788256.118 1649727.392, -3788087.5...   \n",
      "314790  POLYGON ((-347326.128 1660258.728, -347284.212...   \n",
      "999726  POLYGON ((-1740454.986 1606939.943, -1740406.2...   \n",
      "\n",
      "                                centroid  index_right ADM1_CODE ADM2_CODE  \\\n",
      "41847     POINT (-648346.525 981237.522)       1379.0      TD13    TD1303   \n",
      "599940  POINT (-3108230.006 1492497.471)        829.0      ML07    ML0706   \n",
      "380930  POINT (-3787875.068 1649439.928)        441.0      ML03    ML0304   \n",
      "314790   POINT (-347326.128 1660193.728)       1394.0      TD17    TD1702   \n",
      "999726  POINT (-1740415.619 1606887.660)       1302.0      NE07    NE0708   \n",
      "\n",
      "       ADM3_CODE  \n",
      "41847   TD130301  \n",
      "599940  ML070611  \n",
      "380930  ML030421  \n",
      "314790  TD170201  \n",
      "999726  NE070801   None\n"
     ]
    }
   ],
   "source": [
    "G3 = gpd.sjoin(G3, ADM3, how='left', predicate='intersects')\n",
    "print(G3.sample(5), G3.info())"
   ]
  },
  {
   "cell_type": "markdown",
   "id": "627aead3",
   "metadata": {},
   "source": [
    "### 3.3 Join GRID3 and Livelihood Zones"
   ]
  },
  {
   "cell_type": "code",
   "execution_count": 29,
   "id": "5142b551",
   "metadata": {},
   "outputs": [],
   "source": [
    "try:\n",
    "    G3 = G3.drop(['index_right'], axis=1)\n",
    "except:\n",
    "    pass"
   ]
  },
  {
   "cell_type": "code",
   "execution_count": 30,
   "id": "de2a8162",
   "metadata": {
    "scrolled": true
   },
   "outputs": [
    {
     "name": "stdout",
     "output_type": "stream",
     "text": [
      "<class 'geopandas.geodataframe.GeoDataFrame'>\n",
      "Int64Index: 1094501 entries, 0 to 1094490\n",
      "Data columns (total 10 columns):\n",
      " #   Column       Non-Null Count    Dtype   \n",
      "---  ------       --------------    -----   \n",
      " 0   G3_ID        1094501 non-null  int64   \n",
      " 1   type         1094501 non-null  object  \n",
      " 2   pop_un_adj   1094501 non-null  float64 \n",
      " 3   geometry     1094501 non-null  geometry\n",
      " 4   centroid     1094501 non-null  geometry\n",
      " 5   ADM1_CODE    1093102 non-null  object  \n",
      " 6   ADM2_CODE    1093102 non-null  object  \n",
      " 7   ADM3_CODE    1093102 non-null  object  \n",
      " 8   index_right  1091843 non-null  float64 \n",
      " 9   OECD_ZONE    1091843 non-null  object  \n",
      "dtypes: float64(2), geometry(2), int64(1), object(5)\n",
      "memory usage: 91.9+ MB\n",
      "          G3_ID                   type  pop_un_adj  \\\n",
      "221368   788604                 Hamlet   10.512911   \n",
      "657170  1224750                 Hamlet    3.476443   \n",
      "599200  1166702                 Hamlet   12.166201   \n",
      "279342   846602                 Hamlet    5.211392   \n",
      "91980    659138  Small Settlement Area  217.700868   \n",
      "\n",
      "                                                 geometry  \\\n",
      "221368  POLYGON ((-344720.156 1586915.819, -344678.378...   \n",
      "657170  POLYGON ((-3009014.995 1555951.768, -3008973.2...   \n",
      "599200  POLYGON ((-3139876.234 1545544.678, -3139797.1...   \n",
      "279342  POLYGON ((-425830.700 1539479.141, -425789.007...   \n",
      "91980   POLYGON ((-567949.746 1217010.097, -567784.399...   \n",
      "\n",
      "                                centroid ADM1_CODE ADM2_CODE ADM3_CODE  \\\n",
      "221368   POINT (-344720.156 1586850.819)      TD14    TD1404  TD140401   \n",
      "657170  POINT (-3009014.995 1555886.768)      ML06    ML0602  ML060210   \n",
      "599200  POINT (-3139876.234 1545424.785)      ML07    ML0706  ML070621   \n",
      "279342   POINT (-425830.700 1539414.141)      TD14    TD1401  TD140101   \n",
      "91980    POINT (-567909.820 1216761.526)      TD13    TD1304  TD130401   \n",
      "\n",
      "        index_right            OECD_ZONE  \n",
      "221368         55.0  Rainfed Agriculture  \n",
      "657170         46.0  Rainfed Agriculture  \n",
      "599200         46.0  Rainfed Agriculture  \n",
      "279342         55.0  Rainfed Agriculture  \n",
      "91980          58.0  Rainfed Agriculture   None\n"
     ]
    }
   ],
   "source": [
    "G3 = gpd.sjoin(G3, LZ, how='left', predicate='intersects')\n",
    "print(G3.sample(5), G3.info())"
   ]
  },
  {
   "cell_type": "markdown",
   "id": "187e7ab5",
   "metadata": {},
   "source": [
    "## 4. Largest Population by Group"
   ]
  },
  {
   "cell_type": "markdown",
   "id": "50384651",
   "metadata": {},
   "source": [
    "### 4.1 Group-by ADM and LZ"
   ]
  },
  {
   "cell_type": "markdown",
   "id": "5bb16f6d",
   "metadata": {},
   "source": [
    "##### For each unique ADM3-LZ area, sum up the population of non-built-up settlements."
   ]
  },
  {
   "cell_type": "code",
   "execution_count": 36,
   "id": "3fc144dc",
   "metadata": {},
   "outputs": [
    {
     "data": {
      "text/html": [
       "<div>\n",
       "<style scoped>\n",
       "    .dataframe tbody tr th:only-of-type {\n",
       "        vertical-align: middle;\n",
       "    }\n",
       "\n",
       "    .dataframe tbody tr th {\n",
       "        vertical-align: top;\n",
       "    }\n",
       "\n",
       "    .dataframe thead th {\n",
       "        text-align: right;\n",
       "    }\n",
       "</style>\n",
       "<table border=\"1\" class=\"dataframe\">\n",
       "  <thead>\n",
       "    <tr style=\"text-align: right;\">\n",
       "      <th></th>\n",
       "      <th>ADM3_CODE</th>\n",
       "      <th>OECD_ZONE</th>\n",
       "      <th>pop_un_adj</th>\n",
       "    </tr>\n",
       "  </thead>\n",
       "  <tbody>\n",
       "    <tr>\n",
       "      <th>0</th>\n",
       "      <td>BF020203</td>\n",
       "      <td>Cash Crops and Rice</td>\n",
       "      <td>0.000000</td>\n",
       "    </tr>\n",
       "    <tr>\n",
       "      <th>1</th>\n",
       "      <td>BF020203</td>\n",
       "      <td>Rainfed Agriculture</td>\n",
       "      <td>215.340489</td>\n",
       "    </tr>\n",
       "    <tr>\n",
       "      <th>2</th>\n",
       "      <td>BF020206</td>\n",
       "      <td>Cash Crops and Rice</td>\n",
       "      <td>0.000000</td>\n",
       "    </tr>\n",
       "    <tr>\n",
       "      <th>3</th>\n",
       "      <td>BF020206</td>\n",
       "      <td>Rainfed Agriculture</td>\n",
       "      <td>131.448241</td>\n",
       "    </tr>\n",
       "    <tr>\n",
       "      <th>4</th>\n",
       "      <td>BF020304</td>\n",
       "      <td>Rainfed Agriculture</td>\n",
       "      <td>7.719418</td>\n",
       "    </tr>\n",
       "    <tr>\n",
       "      <th>...</th>\n",
       "      <td>...</td>\n",
       "      <td>...</td>\n",
       "      <td>...</td>\n",
       "    </tr>\n",
       "    <tr>\n",
       "      <th>1559</th>\n",
       "      <td>TD230201</td>\n",
       "      <td>Desert</td>\n",
       "      <td>49238.903661</td>\n",
       "    </tr>\n",
       "    <tr>\n",
       "      <th>1560</th>\n",
       "      <td>TD230201</td>\n",
       "      <td>Nomadic/Transhumant Pastoralist</td>\n",
       "      <td>93.590981</td>\n",
       "    </tr>\n",
       "    <tr>\n",
       "      <th>1561</th>\n",
       "      <td>TD230301</td>\n",
       "      <td>Desert</td>\n",
       "      <td>51539.150118</td>\n",
       "    </tr>\n",
       "    <tr>\n",
       "      <th>1562</th>\n",
       "      <td>TD230401</td>\n",
       "      <td>Desert</td>\n",
       "      <td>102196.619183</td>\n",
       "    </tr>\n",
       "    <tr>\n",
       "      <th>1563</th>\n",
       "      <td>TD230501</td>\n",
       "      <td>Desert</td>\n",
       "      <td>45365.596324</td>\n",
       "    </tr>\n",
       "  </tbody>\n",
       "</table>\n",
       "<p>1564 rows × 3 columns</p>\n",
       "</div>"
      ],
      "text/plain": [
       "     ADM3_CODE                        OECD_ZONE     pop_un_adj\n",
       "0     BF020203              Cash Crops and Rice       0.000000\n",
       "1     BF020203              Rainfed Agriculture     215.340489\n",
       "2     BF020206              Cash Crops and Rice       0.000000\n",
       "3     BF020206              Rainfed Agriculture     131.448241\n",
       "4     BF020304              Rainfed Agriculture       7.719418\n",
       "...        ...                              ...            ...\n",
       "1559  TD230201                           Desert   49238.903661\n",
       "1560  TD230201  Nomadic/Transhumant Pastoralist      93.590981\n",
       "1561  TD230301                           Desert   51539.150118\n",
       "1562  TD230401                           Desert  102196.619183\n",
       "1563  TD230501                           Desert   45365.596324\n",
       "\n",
       "[1564 rows x 3 columns]"
      ]
     },
     "execution_count": 36,
     "metadata": {},
     "output_type": "execute_result"
    }
   ],
   "source": [
    "ADM3_LZ = G3[['ADM3_CODE', 'OECD_ZONE', 'pop_un_adj']].groupby(['ADM3_CODE', 'OECD_ZONE'], as_index=False).sum()\n",
    "ADM3_LZ"
   ]
  },
  {
   "cell_type": "code",
   "execution_count": 37,
   "id": "bd7a7880",
   "metadata": {},
   "outputs": [
    {
     "name": "stdout",
     "output_type": "stream",
     "text": [
      "Number of ADM3s with multiple livelihood zones:  339\n"
     ]
    }
   ],
   "source": [
    "print('Number of ADMs with multiple livelihood zones: ', \n",
    "      len(ADM3.ADM3_CODE.unique()) - len(ADM3_LZ.ADM3_CODE.unique()))"
   ]
  },
  {
   "cell_type": "code",
   "execution_count": 38,
   "id": "bce08c0d",
   "metadata": {},
   "outputs": [
    {
     "data": {
      "text/html": [
       "<div>\n",
       "<style scoped>\n",
       "    .dataframe tbody tr th:only-of-type {\n",
       "        vertical-align: middle;\n",
       "    }\n",
       "\n",
       "    .dataframe tbody tr th {\n",
       "        vertical-align: top;\n",
       "    }\n",
       "\n",
       "    .dataframe thead th {\n",
       "        text-align: right;\n",
       "    }\n",
       "</style>\n",
       "<table border=\"1\" class=\"dataframe\">\n",
       "  <thead>\n",
       "    <tr style=\"text-align: right;\">\n",
       "      <th></th>\n",
       "      <th>ADM3_CODE</th>\n",
       "      <th>OECD_ZONE</th>\n",
       "      <th>pop_un_adj</th>\n",
       "    </tr>\n",
       "  </thead>\n",
       "  <tbody>\n",
       "    <tr>\n",
       "      <th>1</th>\n",
       "      <td>BF020203</td>\n",
       "      <td>Rainfed Agriculture</td>\n",
       "      <td>215.340489</td>\n",
       "    </tr>\n",
       "    <tr>\n",
       "      <th>3</th>\n",
       "      <td>BF020206</td>\n",
       "      <td>Rainfed Agriculture</td>\n",
       "      <td>131.448241</td>\n",
       "    </tr>\n",
       "    <tr>\n",
       "      <th>4</th>\n",
       "      <td>BF020304</td>\n",
       "      <td>Rainfed Agriculture</td>\n",
       "      <td>7.719418</td>\n",
       "    </tr>\n",
       "    <tr>\n",
       "      <th>5</th>\n",
       "      <td>BF020306</td>\n",
       "      <td>Rainfed Agriculture</td>\n",
       "      <td>0.000000</td>\n",
       "    </tr>\n",
       "    <tr>\n",
       "      <th>6</th>\n",
       "      <td>BF020307</td>\n",
       "      <td>Rainfed Agriculture</td>\n",
       "      <td>0.000000</td>\n",
       "    </tr>\n",
       "    <tr>\n",
       "      <th>...</th>\n",
       "      <td>...</td>\n",
       "      <td>...</td>\n",
       "      <td>...</td>\n",
       "    </tr>\n",
       "    <tr>\n",
       "      <th>1558</th>\n",
       "      <td>TD230101</td>\n",
       "      <td>Desert</td>\n",
       "      <td>14786.435122</td>\n",
       "    </tr>\n",
       "    <tr>\n",
       "      <th>1559</th>\n",
       "      <td>TD230201</td>\n",
       "      <td>Desert</td>\n",
       "      <td>49238.903661</td>\n",
       "    </tr>\n",
       "    <tr>\n",
       "      <th>1561</th>\n",
       "      <td>TD230301</td>\n",
       "      <td>Desert</td>\n",
       "      <td>51539.150118</td>\n",
       "    </tr>\n",
       "    <tr>\n",
       "      <th>1562</th>\n",
       "      <td>TD230401</td>\n",
       "      <td>Desert</td>\n",
       "      <td>102196.619183</td>\n",
       "    </tr>\n",
       "    <tr>\n",
       "      <th>1563</th>\n",
       "      <td>TD230501</td>\n",
       "      <td>Desert</td>\n",
       "      <td>45365.596324</td>\n",
       "    </tr>\n",
       "  </tbody>\n",
       "</table>\n",
       "<p>1094 rows × 3 columns</p>\n",
       "</div>"
      ],
      "text/plain": [
       "     ADM3_CODE            OECD_ZONE     pop_un_adj\n",
       "1     BF020203  Rainfed Agriculture     215.340489\n",
       "3     BF020206  Rainfed Agriculture     131.448241\n",
       "4     BF020304  Rainfed Agriculture       7.719418\n",
       "5     BF020306  Rainfed Agriculture       0.000000\n",
       "6     BF020307  Rainfed Agriculture       0.000000\n",
       "...        ...                  ...            ...\n",
       "1558  TD230101               Desert   14786.435122\n",
       "1559  TD230201               Desert   49238.903661\n",
       "1561  TD230301               Desert   51539.150118\n",
       "1562  TD230401               Desert  102196.619183\n",
       "1563  TD230501               Desert   45365.596324\n",
       "\n",
       "[1094 rows x 3 columns]"
      ]
     },
     "execution_count": 38,
     "metadata": {},
     "output_type": "execute_result"
    }
   ],
   "source": [
    "# Within each ADM3 group, choose the row which has the highest population.\n",
    "ADM3_LZ_Max = ADM3_LZ.loc[ADM3_LZ.groupby(['ADM3_CODE'])['pop_un_adj'].idxmax()]\n",
    "ADM3_LZ_Max"
   ]
  },
  {
   "cell_type": "code",
   "execution_count": 43,
   "id": "b10bd345",
   "metadata": {},
   "outputs": [
    {
     "data": {
      "text/html": [
       "<div>\n",
       "<style scoped>\n",
       "    .dataframe tbody tr th:only-of-type {\n",
       "        vertical-align: middle;\n",
       "    }\n",
       "\n",
       "    .dataframe tbody tr th {\n",
       "        vertical-align: top;\n",
       "    }\n",
       "\n",
       "    .dataframe thead th {\n",
       "        text-align: right;\n",
       "    }\n",
       "</style>\n",
       "<table border=\"1\" class=\"dataframe\">\n",
       "  <thead>\n",
       "    <tr style=\"text-align: right;\">\n",
       "      <th></th>\n",
       "      <th>ADM1_CODE</th>\n",
       "      <th>ADM2_CODE</th>\n",
       "      <th>ADM3_CODE</th>\n",
       "      <th>geometry</th>\n",
       "      <th>LZ</th>\n",
       "      <th>pop_un_adj</th>\n",
       "    </tr>\n",
       "  </thead>\n",
       "  <tbody>\n",
       "    <tr>\n",
       "      <th>0</th>\n",
       "      <td>BF02</td>\n",
       "      <td>BF0202</td>\n",
       "      <td>BF020203</td>\n",
       "      <td>MULTIPOLYGON (((-3056670.470 1419405.361, -305...</td>\n",
       "      <td>Rainfed Agriculture</td>\n",
       "      <td>215.340489</td>\n",
       "    </tr>\n",
       "    <tr>\n",
       "      <th>1</th>\n",
       "      <td>BF02</td>\n",
       "      <td>BF0202</td>\n",
       "      <td>BF020206</td>\n",
       "      <td>MULTIPOLYGON (((-3058275.312 1474673.126, -305...</td>\n",
       "      <td>Rainfed Agriculture</td>\n",
       "      <td>131.448241</td>\n",
       "    </tr>\n",
       "    <tr>\n",
       "      <th>2</th>\n",
       "      <td>BF02</td>\n",
       "      <td>BF0203</td>\n",
       "      <td>BF020304</td>\n",
       "      <td>MULTIPOLYGON (((-3025648.212 1542179.266, -302...</td>\n",
       "      <td>Rainfed Agriculture</td>\n",
       "      <td>7.719418</td>\n",
       "    </tr>\n",
       "    <tr>\n",
       "      <th>3</th>\n",
       "      <td>BF02</td>\n",
       "      <td>BF0203</td>\n",
       "      <td>BF020306</td>\n",
       "      <td>MULTIPOLYGON (((-3029873.483 1509712.374, -302...</td>\n",
       "      <td>Rainfed Agriculture</td>\n",
       "      <td>0.000000</td>\n",
       "    </tr>\n",
       "    <tr>\n",
       "      <th>4</th>\n",
       "      <td>BF02</td>\n",
       "      <td>BF0203</td>\n",
       "      <td>BF020307</td>\n",
       "      <td>MULTIPOLYGON (((-3020012.475 1560288.700, -302...</td>\n",
       "      <td>Rainfed Agriculture</td>\n",
       "      <td>0.000000</td>\n",
       "    </tr>\n",
       "    <tr>\n",
       "      <th>...</th>\n",
       "      <td>...</td>\n",
       "      <td>...</td>\n",
       "      <td>...</td>\n",
       "      <td>...</td>\n",
       "      <td>...</td>\n",
       "      <td>...</td>\n",
       "    </tr>\n",
       "    <tr>\n",
       "      <th>1089</th>\n",
       "      <td>TD23</td>\n",
       "      <td>TD2301</td>\n",
       "      <td>TD230101</td>\n",
       "      <td>MULTIPOLYGON (((-104505.940 1975358.629, -1046...</td>\n",
       "      <td>Desert</td>\n",
       "      <td>14786.435122</td>\n",
       "    </tr>\n",
       "    <tr>\n",
       "      <th>1090</th>\n",
       "      <td>TD23</td>\n",
       "      <td>TD2302</td>\n",
       "      <td>TD230201</td>\n",
       "      <td>MULTIPOLYGON (((-194790.797 1836382.290, -1948...</td>\n",
       "      <td>Desert</td>\n",
       "      <td>49238.903661</td>\n",
       "    </tr>\n",
       "    <tr>\n",
       "      <th>1091</th>\n",
       "      <td>TD23</td>\n",
       "      <td>TD2303</td>\n",
       "      <td>TD230301</td>\n",
       "      <td>MULTIPOLYGON (((-104471.336 1900332.483, -1045...</td>\n",
       "      <td>Desert</td>\n",
       "      <td>51539.150118</td>\n",
       "    </tr>\n",
       "    <tr>\n",
       "      <th>1092</th>\n",
       "      <td>TD23</td>\n",
       "      <td>TD2304</td>\n",
       "      <td>TD230401</td>\n",
       "      <td>MULTIPOLYGON (((-296278.729 1882859.274, -2891...</td>\n",
       "      <td>Desert</td>\n",
       "      <td>102196.619183</td>\n",
       "    </tr>\n",
       "    <tr>\n",
       "      <th>1093</th>\n",
       "      <td>TD23</td>\n",
       "      <td>TD2305</td>\n",
       "      <td>TD230501</td>\n",
       "      <td>MULTIPOLYGON (((-227410.830 1899441.219, -2333...</td>\n",
       "      <td>Desert</td>\n",
       "      <td>45365.596324</td>\n",
       "    </tr>\n",
       "  </tbody>\n",
       "</table>\n",
       "<p>1094 rows × 6 columns</p>\n",
       "</div>"
      ],
      "text/plain": [
       "     ADM1_CODE ADM2_CODE ADM3_CODE  \\\n",
       "0         BF02    BF0202  BF020203   \n",
       "1         BF02    BF0202  BF020206   \n",
       "2         BF02    BF0203  BF020304   \n",
       "3         BF02    BF0203  BF020306   \n",
       "4         BF02    BF0203  BF020307   \n",
       "...        ...       ...       ...   \n",
       "1089      TD23    TD2301  TD230101   \n",
       "1090      TD23    TD2302  TD230201   \n",
       "1091      TD23    TD2303  TD230301   \n",
       "1092      TD23    TD2304  TD230401   \n",
       "1093      TD23    TD2305  TD230501   \n",
       "\n",
       "                                               geometry                   LZ  \\\n",
       "0     MULTIPOLYGON (((-3056670.470 1419405.361, -305...  Rainfed Agriculture   \n",
       "1     MULTIPOLYGON (((-3058275.312 1474673.126, -305...  Rainfed Agriculture   \n",
       "2     MULTIPOLYGON (((-3025648.212 1542179.266, -302...  Rainfed Agriculture   \n",
       "3     MULTIPOLYGON (((-3029873.483 1509712.374, -302...  Rainfed Agriculture   \n",
       "4     MULTIPOLYGON (((-3020012.475 1560288.700, -302...  Rainfed Agriculture   \n",
       "...                                                 ...                  ...   \n",
       "1089  MULTIPOLYGON (((-104505.940 1975358.629, -1046...               Desert   \n",
       "1090  MULTIPOLYGON (((-194790.797 1836382.290, -1948...               Desert   \n",
       "1091  MULTIPOLYGON (((-104471.336 1900332.483, -1045...               Desert   \n",
       "1092  MULTIPOLYGON (((-296278.729 1882859.274, -2891...               Desert   \n",
       "1093  MULTIPOLYGON (((-227410.830 1899441.219, -2333...               Desert   \n",
       "\n",
       "         pop_un_adj  \n",
       "0        215.340489  \n",
       "1        131.448241  \n",
       "2          7.719418  \n",
       "3          0.000000  \n",
       "4          0.000000  \n",
       "...             ...  \n",
       "1089   14786.435122  \n",
       "1090   49238.903661  \n",
       "1091   51539.150118  \n",
       "1092  102196.619183  \n",
       "1093   45365.596324  \n",
       "\n",
       "[1094 rows x 6 columns]"
      ]
     },
     "execution_count": 43,
     "metadata": {},
     "output_type": "execute_result"
    }
   ],
   "source": [
    "# Join the livelihood zone with the highest rural population onto the ADM3 geodataframe as field 'LZ'. \n",
    "ADM3_LZ = ADM3.merge(ADM3_LZ_Max.rename(columns={'OECD_ZONE':'LZ'}), on='ADM3_CODE')\n",
    "ADM3_LZ"
   ]
  },
  {
   "cell_type": "code",
   "execution_count": 44,
   "id": "c8b61771",
   "metadata": {},
   "outputs": [
    {
     "data": {
      "text/plain": [
       "0"
      ]
     },
     "execution_count": 44,
     "metadata": {},
     "output_type": "execute_result"
    }
   ],
   "source": [
    "ADM3_LZ.LZ.isna().sum() # No need to fill in missing values."
   ]
  },
  {
   "cell_type": "code",
   "execution_count": 45,
   "id": "cbd7e474",
   "metadata": {},
   "outputs": [],
   "source": [
    "# Remember to drop the population field to avoid confusion. It's only the population for that LZ's portion of the ADM area.\n",
    "ADM3_LZ = ADM3_LZ.drop(['pop_un_adj'], axis=1)"
   ]
  },
  {
   "cell_type": "code",
   "execution_count": 46,
   "id": "79313b46",
   "metadata": {},
   "outputs": [],
   "source": [
    "ADM3_LZ.to_file(driver='GPKG', filename='Livelihood_ADM.gpkg', layer='LZ_ADM3')"
   ]
  },
  {
   "cell_type": "code",
   "execution_count": null,
   "id": "dc3cf31c",
   "metadata": {},
   "outputs": [],
   "source": []
  },
  {
   "cell_type": "code",
   "execution_count": null,
   "id": "d073cc08",
   "metadata": {},
   "outputs": [],
   "source": []
  },
  {
   "cell_type": "code",
   "execution_count": null,
   "id": "8eda9382",
   "metadata": {},
   "outputs": [],
   "source": []
  }
 ],
 "metadata": {
  "kernelspec": {
   "display_name": "Python 3 (ipykernel)",
   "language": "python",
   "name": "python3"
  },
  "language_info": {
   "codemirror_mode": {
    "name": "ipython",
    "version": 3
   },
   "file_extension": ".py",
   "mimetype": "text/x-python",
   "name": "python",
   "nbconvert_exporter": "python",
   "pygments_lexer": "ipython3",
   "version": "3.10.6"
  }
 },
 "nbformat": 4,
 "nbformat_minor": 5
}
